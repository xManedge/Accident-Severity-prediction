{
 "cells": [
  {
   "cell_type": "code",
   "execution_count": 2,
   "id": "initial_id",
   "metadata": {
    "collapsed": true,
    "ExecuteTime": {
     "end_time": "2023-12-02T23:31:18.761007Z",
     "start_time": "2023-12-02T23:31:18.652021Z"
    }
   },
   "outputs": [],
   "source": [
    "import numpy as np\n",
    "import pandas as pd \n",
    "#import tensorflow as tf \n",
    "from sklearn.model_selection import train_test_split\n",
    "from sklearn.metrics import accuracy_score, classification_report, confusion_matrix"
   ]
  },
  {
   "cell_type": "code",
   "execution_count": 1,
   "outputs": [],
   "source": [
    "from tensorflow.keras.layers import Dense, Dropout\n",
    "from tensorflow.keras.optimizers.legacy import Adam, SGD\n",
    "from tensorflow.keras.models import Sequential \n",
    "from tensorflow.keras import metrics "
   ],
   "metadata": {
    "collapsed": false,
    "ExecuteTime": {
     "end_time": "2023-12-10T21:18:26.195657Z",
     "start_time": "2023-12-10T21:18:18.244340Z"
    }
   },
   "id": "abfc76b5e3a3b161"
  },
  {
   "cell_type": "code",
   "execution_count": 80,
   "outputs": [],
   "source": [
    "# Metric printing \n",
    "def metric_analysis(ytrue,ypred):\n",
    "    print(confusion_matrix(ytrue,ypred))\n",
    "    print(\"the accuracy is \",accuracy_score(ytrue,ypred))\n",
    "    #print(\"the precision is \",precision_score(ytrue,ypred))\n",
    "    #print(\"the recall is \",recall_score(ytrue,ypred))\n",
    "    print(classification_report(ytrue, ypred))\n",
    "    return accuracy_score(ytrue,ypred)#, precision_score(ytrue,ypred), recall_score(ytrue,ypred)"
   ],
   "metadata": {
    "collapsed": false,
    "ExecuteTime": {
     "end_time": "2023-12-03T00:10:20.596530Z",
     "start_time": "2023-12-03T00:10:20.583580Z"
    }
   },
   "id": "64ce38e1441d06e6"
  },
  {
   "cell_type": "code",
   "execution_count": 4,
   "outputs": [],
   "source": [
    "link = './accident dataset/new york accidents preprocessed.csv'\n",
    "data = pd.read_csv(link)"
   ],
   "metadata": {
    "collapsed": false,
    "ExecuteTime": {
     "end_time": "2023-12-02T23:31:23.824137Z",
     "start_time": "2023-12-02T23:31:23.053044Z"
    }
   },
   "id": "ba4b060b1f2a3606"
  },
  {
   "cell_type": "code",
   "execution_count": 5,
   "outputs": [],
   "source": [
    "xtrain, xtest, ytrain, ytest = train_test_split(\n",
    "    data.drop('Severity',axis=1),\n",
    "    data.Severity,\n",
    "    test_size=0.3\n",
    ")"
   ],
   "metadata": {
    "collapsed": false,
    "ExecuteTime": {
     "end_time": "2023-12-02T23:31:23.899489Z",
     "start_time": "2023-12-02T23:31:23.824219Z"
    }
   },
   "id": "e97d31cdbedaa854"
  },
  {
   "cell_type": "markdown",
   "source": [
    "according to random forest the important features were 'Zipcode', 'Distance(mi)', 'TimeTaken', 'Street', 'Start_Lat','Start_Lng',"
   ],
   "metadata": {
    "collapsed": false
   },
   "id": "600ea04480f3a575"
  },
  {
   "cell_type": "markdown",
   "source": [
    "xtrain = xtrain[['Zipcode', 'Distance(mi)', 'TimeTaken', 'Street', 'Start_Lat','Start_Lng']]\n",
    "xtest  = xtest[['Zipcode', 'Distance(mi)', 'TimeTaken', 'Street', 'Start_Lat','Start_Lng']]"
   ],
   "metadata": {
    "collapsed": false
   },
   "id": "dea76ba0e74c0cb"
  },
  {
   "cell_type": "code",
   "execution_count": 6,
   "outputs": [
    {
     "data": {
      "text/plain": "(329190, 29)"
     },
     "execution_count": 6,
     "metadata": {},
     "output_type": "execute_result"
    }
   ],
   "source": [
    "xtrain.shape"
   ],
   "metadata": {
    "collapsed": false,
    "ExecuteTime": {
     "end_time": "2023-12-02T18:38:04.007506Z",
     "start_time": "2023-12-02T18:38:04.003420Z"
    }
   },
   "id": "26f266a6c93f3e00"
  },
  {
   "cell_type": "code",
   "execution_count": 67,
   "outputs": [],
   "source": [
    "model = Sequential()\n",
    "model.add(\n",
    "    Dense(\n",
    "        units= 50, \n",
    "        activation='sigmoid', \n",
    "        input_shape= (29,)\n",
    "    )\n",
    ")\n",
    "model.add(Dropout(0.2))\n",
    "model.add(Dense(\n",
    "    units=25,\n",
    "    activation='sigmoid',\n",
    "))\n",
    "model.add(Dropout(0.1))\n",
    "model.add(Dense(\n",
    "    units = 4, \n",
    "    activation='softmax'\n",
    ")) "
   ],
   "metadata": {
    "collapsed": false,
    "ExecuteTime": {
     "end_time": "2023-12-03T00:05:00.867010Z",
     "start_time": "2023-12-03T00:05:00.823838Z"
    }
   },
   "id": "f83951d408c0db8f"
  },
  {
   "cell_type": "code",
   "execution_count": 68,
   "outputs": [
    {
     "name": "stdout",
     "output_type": "stream",
     "text": [
      "Model: \"sequential_7\"\n",
      "_________________________________________________________________\n",
      " Layer (type)                Output Shape              Param #   \n",
      "=================================================================\n",
      " dense_25 (Dense)            (None, 50)                1500      \n",
      "                                                                 \n",
      " dropout_18 (Dropout)        (None, 50)                0         \n",
      "                                                                 \n",
      " dense_26 (Dense)            (None, 25)                1275      \n",
      "                                                                 \n",
      " dropout_19 (Dropout)        (None, 25)                0         \n",
      "                                                                 \n",
      " dense_27 (Dense)            (None, 4)                 104       \n",
      "                                                                 \n",
      "=================================================================\n",
      "Total params: 2879 (11.25 KB)\n",
      "Trainable params: 2879 (11.25 KB)\n",
      "Non-trainable params: 0 (0.00 Byte)\n",
      "_________________________________________________________________\n"
     ]
    }
   ],
   "source": [
    "model.summary()"
   ],
   "metadata": {
    "collapsed": false,
    "ExecuteTime": {
     "end_time": "2023-12-03T00:05:01.209527Z",
     "start_time": "2023-12-03T00:05:01.194714Z"
    }
   },
   "id": "e0d0f332ec10d862"
  },
  {
   "cell_type": "code",
   "execution_count": 69,
   "outputs": [],
   "source": [
    "opt = Adam(learning_rate = 0.005)\n",
    "model.compile(optimizer=opt, loss='sparse_categorical_crossentropy', metrics=['sparse_categorical_accuracy'])"
   ],
   "metadata": {
    "collapsed": false,
    "ExecuteTime": {
     "end_time": "2023-12-03T00:05:01.655835Z",
     "start_time": "2023-12-03T00:05:01.647462Z"
    }
   },
   "id": "47ab94e7e6c29287"
  },
  {
   "cell_type": "code",
   "execution_count": 70,
   "outputs": [],
   "source": [
    "#metrics.Precision(), metrics.Recall(),"
   ],
   "metadata": {
    "collapsed": false,
    "ExecuteTime": {
     "end_time": "2023-12-03T00:05:02.941874Z",
     "start_time": "2023-12-03T00:05:02.932662Z"
    }
   },
   "id": "e7d20eeefb1137f1"
  },
  {
   "cell_type": "code",
   "execution_count": 71,
   "outputs": [
    {
     "name": "stdout",
     "output_type": "stream",
     "text": [
      "Model: \"sequential_7\"\n",
      "_________________________________________________________________\n",
      " Layer (type)                Output Shape              Param #   \n",
      "=================================================================\n",
      " dense_25 (Dense)            (None, 50)                1500      \n",
      "                                                                 \n",
      " dropout_18 (Dropout)        (None, 50)                0         \n",
      "                                                                 \n",
      " dense_26 (Dense)            (None, 25)                1275      \n",
      "                                                                 \n",
      " dropout_19 (Dropout)        (None, 25)                0         \n",
      "                                                                 \n",
      " dense_27 (Dense)            (None, 4)                 104       \n",
      "                                                                 \n",
      "=================================================================\n",
      "Total params: 2879 (11.25 KB)\n",
      "Trainable params: 2879 (11.25 KB)\n",
      "Non-trainable params: 0 (0.00 Byte)\n",
      "_________________________________________________________________\n"
     ]
    }
   ],
   "source": [
    "model.summary()"
   ],
   "metadata": {
    "collapsed": false,
    "ExecuteTime": {
     "end_time": "2023-12-03T00:05:03.080908Z",
     "start_time": "2023-12-03T00:05:03.073189Z"
    }
   },
   "id": "30a4d075ff2c4899"
  },
  {
   "cell_type": "code",
   "execution_count": 73,
   "outputs": [
    {
     "name": "stdout",
     "output_type": "stream",
     "text": [
      "Epoch 1/3\n",
      "10288/10288 [==============================] - 60s 6ms/step - loss: 0.3257 - sparse_categorical_accuracy: 0.8451\n",
      "Epoch 2/3\n",
      "10288/10288 [==============================] - 58s 6ms/step - loss: 0.3416 - sparse_categorical_accuracy: 0.8353\n",
      "Epoch 3/3\n",
      "10288/10288 [==============================] - 57s 5ms/step - loss: 0.3537 - sparse_categorical_accuracy: 0.8350\n"
     ]
    },
    {
     "data": {
      "text/plain": "<keras.src.callbacks.History at 0x2da321890>"
     },
     "execution_count": 73,
     "metadata": {},
     "output_type": "execute_result"
    }
   ],
   "source": [
    "model.fit(xtrain,ytrain, epochs=3)"
   ],
   "metadata": {
    "collapsed": false,
    "ExecuteTime": {
     "end_time": "2023-12-03T00:08:12.811514Z",
     "start_time": "2023-12-03T00:05:17.994965Z"
    }
   },
   "id": "10923c52082884df"
  },
  {
   "cell_type": "code",
   "execution_count": 74,
   "outputs": [
    {
     "name": "stdout",
     "output_type": "stream",
     "text": [
      "10288/10288 [==============================] - 36s 3ms/step - loss: 0.3900 - sparse_categorical_accuracy: 0.8210\n"
     ]
    },
    {
     "data": {
      "text/plain": "[0.39004820585250854, 0.8209757208824158]"
     },
     "execution_count": 74,
     "metadata": {},
     "output_type": "execute_result"
    }
   ],
   "source": [
    "model.evaluate(xtrain,ytrain)"
   ],
   "metadata": {
    "collapsed": false,
    "ExecuteTime": {
     "end_time": "2023-12-03T00:09:08.960800Z",
     "start_time": "2023-12-03T00:08:32.315143Z"
    }
   },
   "id": "46c89182ccb1b704"
  },
  {
   "cell_type": "code",
   "execution_count": 64,
   "outputs": [
    {
     "name": "stdout",
     "output_type": "stream",
     "text": [
      "4409/4409 [==============================] - 16s 4ms/step - loss: 0.3311 - sparse_categorical_accuracy: 0.8457\n"
     ]
    },
    {
     "data": {
      "text/plain": "[0.3310743570327759, 0.8457351326942444]"
     },
     "execution_count": 64,
     "metadata": {},
     "output_type": "execute_result"
    }
   ],
   "source": [
    "model.evaluate(xtest, ytest)"
   ],
   "metadata": {
    "collapsed": false,
    "ExecuteTime": {
     "end_time": "2023-12-03T00:01:52.611635Z",
     "start_time": "2023-12-03T00:01:36.894841Z"
    }
   },
   "id": "8a23b0137f9e44f0"
  },
  {
   "cell_type": "code",
   "execution_count": 75,
   "outputs": [
    {
     "name": "stdout",
     "output_type": "stream",
     "text": [
      "10288/10288 [==============================] - 13s 1ms/step\n"
     ]
    }
   ],
   "source": [
    "trainpred = model.predict(xtrain)"
   ],
   "metadata": {
    "collapsed": false,
    "ExecuteTime": {
     "end_time": "2023-12-03T00:09:32.751937Z",
     "start_time": "2023-12-03T00:09:18.280581Z"
    }
   },
   "id": "e28710cd9c617612"
  },
  {
   "cell_type": "code",
   "execution_count": 81,
   "outputs": [
    {
     "name": "stdout",
     "output_type": "stream",
     "text": [
      "[[     0    992      3      0]\n",
      " [     0 253659   1813      0]\n",
      " [     0  45181  16598      0]\n",
      " [     0  10899     45      0]]\n",
      "the accuracy is  0.8209757283028039\n",
      "              precision    recall  f1-score   support\n",
      "\n",
      "           1       0.00      0.00      0.00       995\n",
      "           2       0.82      0.99      0.90    255472\n",
      "           3       0.90      0.27      0.41     61779\n",
      "           4       0.00      0.00      0.00     10944\n",
      "\n",
      "    accuracy                           0.82    329190\n",
      "   macro avg       0.43      0.32      0.33    329190\n",
      "weighted avg       0.80      0.82      0.77    329190\n"
     ]
    },
    {
     "name": "stderr",
     "output_type": "stream",
     "text": [
      "/Users/manedge/miniconda/envs/EnvironmentTest/lib/python3.11/site-packages/sklearn/metrics/_classification.py:1471: UndefinedMetricWarning: Precision and F-score are ill-defined and being set to 0.0 in labels with no predicted samples. Use `zero_division` parameter to control this behavior.\n",
      "  _warn_prf(average, modifier, msg_start, len(result))\n",
      "/Users/manedge/miniconda/envs/EnvironmentTest/lib/python3.11/site-packages/sklearn/metrics/_classification.py:1471: UndefinedMetricWarning: Precision and F-score are ill-defined and being set to 0.0 in labels with no predicted samples. Use `zero_division` parameter to control this behavior.\n",
      "  _warn_prf(average, modifier, msg_start, len(result))\n",
      "/Users/manedge/miniconda/envs/EnvironmentTest/lib/python3.11/site-packages/sklearn/metrics/_classification.py:1471: UndefinedMetricWarning: Precision and F-score are ill-defined and being set to 0.0 in labels with no predicted samples. Use `zero_division` parameter to control this behavior.\n",
      "  _warn_prf(average, modifier, msg_start, len(result))\n"
     ]
    },
    {
     "data": {
      "text/plain": "0.8209757283028039"
     },
     "execution_count": 81,
     "metadata": {},
     "output_type": "execute_result"
    }
   ],
   "source": [
    "metric_analysis(ytrain, trainpred.argmax(axis=1))"
   ],
   "metadata": {
    "collapsed": false,
    "ExecuteTime": {
     "end_time": "2023-12-03T00:10:26.123412Z",
     "start_time": "2023-12-03T00:10:25.812943Z"
    }
   },
   "id": "ae9e58b080b804b2"
  },
  {
   "cell_type": "code",
   "execution_count": 82,
   "outputs": [
    {
     "name": "stdout",
     "output_type": "stream",
     "text": [
      "4409/4409 [==============================] - 6s 1ms/step\n"
     ]
    },
    {
     "data": {
      "text/plain": "array([[4.6338502e-09, 4.3901009e-03, 9.1168064e-01, 8.3929293e-02],\n       [4.6391055e-09, 4.4015227e-03, 9.1477817e-01, 8.0820352e-02],\n       [4.6335979e-09, 4.3984437e-03, 9.1497558e-01, 8.0625914e-02],\n       ...,\n       [4.6371902e-09, 4.4005103e-03, 9.1484696e-01, 8.0752470e-02],\n       [2.9975471e-09, 2.6107873e-03, 5.1845372e-01, 4.7893554e-01],\n       [4.6392503e-09, 4.4011222e-03, 9.1458338e-01, 8.1015497e-02]],\n      dtype=float32)"
     },
     "execution_count": 82,
     "metadata": {},
     "output_type": "execute_result"
    }
   ],
   "source": [
    "ypred = model.predict(xtest)\n",
    "ypred"
   ],
   "metadata": {
    "collapsed": false,
    "ExecuteTime": {
     "end_time": "2023-12-03T00:12:04.103431Z",
     "start_time": "2023-12-03T00:11:57.878333Z"
    }
   },
   "id": "f1085a6686c94d0f"
  },
  {
   "cell_type": "code",
   "execution_count": 84,
   "outputs": [
    {
     "name": "stdout",
     "output_type": "stream",
     "text": [
      "[[     0    413      1      0]\n",
      " [     0 108683    772      0]\n",
      " [     0  19343   7090      0]\n",
      " [     0   4771      9      0]]\n",
      "the accuracy is  0.8206078734353072\n",
      "              precision    recall  f1-score   support\n",
      "\n",
      "           1       0.00      0.00      0.00       414\n",
      "           2       0.82      0.99      0.90    109455\n",
      "           3       0.90      0.27      0.41     26433\n",
      "           4       0.00      0.00      0.00      4780\n",
      "\n",
      "    accuracy                           0.82    141082\n",
      "   macro avg       0.43      0.32      0.33    141082\n",
      "weighted avg       0.80      0.82      0.77    141082\n"
     ]
    },
    {
     "name": "stderr",
     "output_type": "stream",
     "text": [
      "/Users/manedge/miniconda/envs/EnvironmentTest/lib/python3.11/site-packages/sklearn/metrics/_classification.py:1471: UndefinedMetricWarning: Precision and F-score are ill-defined and being set to 0.0 in labels with no predicted samples. Use `zero_division` parameter to control this behavior.\n",
      "  _warn_prf(average, modifier, msg_start, len(result))\n",
      "/Users/manedge/miniconda/envs/EnvironmentTest/lib/python3.11/site-packages/sklearn/metrics/_classification.py:1471: UndefinedMetricWarning: Precision and F-score are ill-defined and being set to 0.0 in labels with no predicted samples. Use `zero_division` parameter to control this behavior.\n",
      "  _warn_prf(average, modifier, msg_start, len(result))\n",
      "/Users/manedge/miniconda/envs/EnvironmentTest/lib/python3.11/site-packages/sklearn/metrics/_classification.py:1471: UndefinedMetricWarning: Precision and F-score are ill-defined and being set to 0.0 in labels with no predicted samples. Use `zero_division` parameter to control this behavior.\n",
      "  _warn_prf(average, modifier, msg_start, len(result))\n"
     ]
    },
    {
     "data": {
      "text/plain": "0.8206078734353072"
     },
     "execution_count": 84,
     "metadata": {},
     "output_type": "execute_result"
    }
   ],
   "source": [
    "metric_analysis(ytest, ypred.argmax(axis=1))"
   ],
   "metadata": {
    "collapsed": false,
    "ExecuteTime": {
     "end_time": "2023-12-03T00:12:28.796738Z",
     "start_time": "2023-12-03T00:12:28.657833Z"
    }
   },
   "id": "a03b9c6089110f2f"
  },
  {
   "cell_type": "code",
   "execution_count": null,
   "outputs": [],
   "source": [],
   "metadata": {
    "collapsed": false
   },
   "id": "5d0ac1073218b7a9"
  }
 ],
 "metadata": {
  "kernelspec": {
   "display_name": "Python 3",
   "language": "python",
   "name": "python3"
  },
  "language_info": {
   "codemirror_mode": {
    "name": "ipython",
    "version": 2
   },
   "file_extension": ".py",
   "mimetype": "text/x-python",
   "name": "python",
   "nbconvert_exporter": "python",
   "pygments_lexer": "ipython2",
   "version": "2.7.6"
  }
 },
 "nbformat": 4,
 "nbformat_minor": 5
}
