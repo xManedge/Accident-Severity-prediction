{
 "cells": [
  {
   "cell_type": "code",
   "execution_count": 87,
   "id": "initial_id",
   "metadata": {
    "collapsed": true,
    "ExecuteTime": {
     "end_time": "2023-12-04T23:57:42.722834Z",
     "start_time": "2023-12-04T23:57:42.651556Z"
    }
   },
   "outputs": [],
   "source": [
    "import pandas as pd\n",
    "import numpy as np\n",
    "from matplotlib import pyplot as plt\n",
    "from sklearn.preprocessing import LabelEncoder, MinMaxScaler, StandardScaler, TargetEncoder\n",
    "import seaborn as sns\n",
    "import matplotlib.patches as mpatches\n",
    "\n",
    "from sklearn.ensemble import RandomForestClassifier\n",
    "from sklearn.model_selection import GridSearchCV, train_test_split\n",
    "from sklearn.metrics import accuracy_score, precision_score, recall_score, confusion_matrix, classification_report\n",
    "from xgboost import XGBClassifier\n",
    "from sklearn.neighbors import KNeighborsClassifier\n",
    "import warnings\n",
    "\n",
    "from tensorflow.keras.layers import Dense, Dropout\n",
    "from tensorflow.keras.optimizers.legacy import Adam, SGD\n",
    "from tensorflow.keras.models import Sequential\n",
    "from tensorflow.keras import metrics\n",
    "\n",
    "from sklearn.naive_bayes import MultinomialNB\n",
    "from sklearn.ensemble import AdaBoostClassifier\n",
    "\n",
    "from sklearn.cluster import MiniBatchKMeans\n"
   ]
  },
  {
   "cell_type": "code",
   "execution_count": 2,
   "outputs": [],
   "source": [
    "warnings.filterwarnings(\"ignore\", category=DeprecationWarning)"
   ],
   "metadata": {
    "collapsed": false,
    "ExecuteTime": {
     "end_time": "2023-12-04T23:49:14.300611Z",
     "start_time": "2023-12-04T23:49:14.297642Z"
    }
   },
   "id": "aa62e5fb1c8c191"
  },
  {
   "cell_type": "code",
   "execution_count": null,
   "outputs": [],
   "source": [
    "# create new york data before \n",
    "link = './accident dataset/US_Accidents_March23.csv'\n",
    "data = pd.read_csv(link)\n",
    "data = data[\n",
    "    (data.State == 'NY') |\n",
    "    (data.State == 'NJ')\n",
    "]\n",
    "path = './accident dataset/New York Accidents_2.csv'\n",
    "data.to_csv(path_or_buf=path, encoding='utf-8', index=False)"
   ],
   "metadata": {
    "collapsed": false,
    "ExecuteTime": {
     "start_time": "2023-12-04T23:48:54.127040Z"
    }
   },
   "id": "bf5b11be0ff97e4a"
  },
  {
   "cell_type": "markdown",
   "source": [
    "Delete above data from memory to free up your ram space"
   ],
   "metadata": {
    "collapsed": false
   },
   "id": "9d307d4d872869d8"
  },
  {
   "cell_type": "code",
   "execution_count": 3,
   "outputs": [
    {
     "data": {
      "text/plain": "         ID   Source  Severity           Start_Time             End_Time  \\\n0  A-194256  Source2         2  2016-11-30 16:37:24  2016-11-30 17:22:05   \n1  A-194257  Source2         3  2016-11-30 16:25:41  2016-11-30 17:10:30   \n2  A-194258  Source2         3  2016-11-30 15:40:06  2016-11-30 17:09:40   \n3  A-194259  Source2         3  2016-11-30 15:26:18  2016-11-30 16:56:02   \n4  A-194260  Source2         3  2016-11-30 16:14:11  2016-11-30 16:59:00   \n\n   Start_Lat  Start_Lng  End_Lat  End_Lng  Distance(mi)  ... Roundabout  \\\n0  40.775616 -74.237305      NaN      NaN          0.01  ...      False   \n1  41.139324 -74.169876      NaN      NaN          0.01  ...      False   \n2  41.118748 -74.159744      NaN      NaN          2.53  ...      False   \n3  41.014034 -73.717239      NaN      NaN          1.17  ...      False   \n4  41.390369 -73.597969      NaN      NaN          0.01  ...      False   \n\n  Station   Stop Traffic_Calming Traffic_Signal Turning_Loop Sunrise_Sunset  \\\n0   False  False           False           True        False          Night   \n1   False  False           False          False        False            Day   \n2   False  False           False          False        False            Day   \n3   False  False           False          False        False            Day   \n4   False  False           False          False        False            Day   \n\n  Civil_Twilight Nautical_Twilight Astronomical_Twilight  \n0            Day               Day                   Day  \n1            Day               Day                   Day  \n2            Day               Day                   Day  \n3            Day               Day                   Day  \n4            Day               Day                   Day  \n\n[5 rows x 46 columns]",
      "text/html": "<div>\n<style scoped>\n    .dataframe tbody tr th:only-of-type {\n        vertical-align: middle;\n    }\n\n    .dataframe tbody tr th {\n        vertical-align: top;\n    }\n\n    .dataframe thead th {\n        text-align: right;\n    }\n</style>\n<table border=\"1\" class=\"dataframe\">\n  <thead>\n    <tr style=\"text-align: right;\">\n      <th></th>\n      <th>ID</th>\n      <th>Source</th>\n      <th>Severity</th>\n      <th>Start_Time</th>\n      <th>End_Time</th>\n      <th>Start_Lat</th>\n      <th>Start_Lng</th>\n      <th>End_Lat</th>\n      <th>End_Lng</th>\n      <th>Distance(mi)</th>\n      <th>...</th>\n      <th>Roundabout</th>\n      <th>Station</th>\n      <th>Stop</th>\n      <th>Traffic_Calming</th>\n      <th>Traffic_Signal</th>\n      <th>Turning_Loop</th>\n      <th>Sunrise_Sunset</th>\n      <th>Civil_Twilight</th>\n      <th>Nautical_Twilight</th>\n      <th>Astronomical_Twilight</th>\n    </tr>\n  </thead>\n  <tbody>\n    <tr>\n      <th>0</th>\n      <td>A-194256</td>\n      <td>Source2</td>\n      <td>2</td>\n      <td>2016-11-30 16:37:24</td>\n      <td>2016-11-30 17:22:05</td>\n      <td>40.775616</td>\n      <td>-74.237305</td>\n      <td>NaN</td>\n      <td>NaN</td>\n      <td>0.01</td>\n      <td>...</td>\n      <td>False</td>\n      <td>False</td>\n      <td>False</td>\n      <td>False</td>\n      <td>True</td>\n      <td>False</td>\n      <td>Night</td>\n      <td>Day</td>\n      <td>Day</td>\n      <td>Day</td>\n    </tr>\n    <tr>\n      <th>1</th>\n      <td>A-194257</td>\n      <td>Source2</td>\n      <td>3</td>\n      <td>2016-11-30 16:25:41</td>\n      <td>2016-11-30 17:10:30</td>\n      <td>41.139324</td>\n      <td>-74.169876</td>\n      <td>NaN</td>\n      <td>NaN</td>\n      <td>0.01</td>\n      <td>...</td>\n      <td>False</td>\n      <td>False</td>\n      <td>False</td>\n      <td>False</td>\n      <td>False</td>\n      <td>False</td>\n      <td>Day</td>\n      <td>Day</td>\n      <td>Day</td>\n      <td>Day</td>\n    </tr>\n    <tr>\n      <th>2</th>\n      <td>A-194258</td>\n      <td>Source2</td>\n      <td>3</td>\n      <td>2016-11-30 15:40:06</td>\n      <td>2016-11-30 17:09:40</td>\n      <td>41.118748</td>\n      <td>-74.159744</td>\n      <td>NaN</td>\n      <td>NaN</td>\n      <td>2.53</td>\n      <td>...</td>\n      <td>False</td>\n      <td>False</td>\n      <td>False</td>\n      <td>False</td>\n      <td>False</td>\n      <td>False</td>\n      <td>Day</td>\n      <td>Day</td>\n      <td>Day</td>\n      <td>Day</td>\n    </tr>\n    <tr>\n      <th>3</th>\n      <td>A-194259</td>\n      <td>Source2</td>\n      <td>3</td>\n      <td>2016-11-30 15:26:18</td>\n      <td>2016-11-30 16:56:02</td>\n      <td>41.014034</td>\n      <td>-73.717239</td>\n      <td>NaN</td>\n      <td>NaN</td>\n      <td>1.17</td>\n      <td>...</td>\n      <td>False</td>\n      <td>False</td>\n      <td>False</td>\n      <td>False</td>\n      <td>False</td>\n      <td>False</td>\n      <td>Day</td>\n      <td>Day</td>\n      <td>Day</td>\n      <td>Day</td>\n    </tr>\n    <tr>\n      <th>4</th>\n      <td>A-194260</td>\n      <td>Source2</td>\n      <td>3</td>\n      <td>2016-11-30 16:14:11</td>\n      <td>2016-11-30 16:59:00</td>\n      <td>41.390369</td>\n      <td>-73.597969</td>\n      <td>NaN</td>\n      <td>NaN</td>\n      <td>0.01</td>\n      <td>...</td>\n      <td>False</td>\n      <td>False</td>\n      <td>False</td>\n      <td>False</td>\n      <td>False</td>\n      <td>False</td>\n      <td>Day</td>\n      <td>Day</td>\n      <td>Day</td>\n      <td>Day</td>\n    </tr>\n  </tbody>\n</table>\n<p>5 rows × 46 columns</p>\n</div>"
     },
     "execution_count": 3,
     "metadata": {},
     "output_type": "execute_result"
    }
   ],
   "source": [
    "link = './accident dataset/New York Accidents_2.csv'\n",
    "data = pd.read_csv(link)\n",
    "data.head()"
   ],
   "metadata": {
    "collapsed": false,
    "ExecuteTime": {
     "end_time": "2023-12-04T23:49:32.776309Z",
     "start_time": "2023-12-04T23:49:30.971081Z"
    }
   },
   "id": "cd76b031539c952"
  },
  {
   "cell_type": "code",
   "execution_count": 4,
   "outputs": [
    {
     "data": {
      "text/plain": "(488679, 46)"
     },
     "execution_count": 4,
     "metadata": {},
     "output_type": "execute_result"
    }
   ],
   "source": [
    "data.shape"
   ],
   "metadata": {
    "collapsed": false,
    "ExecuteTime": {
     "end_time": "2023-12-04T23:49:33.901376Z",
     "start_time": "2023-12-04T23:49:33.854859Z"
    }
   },
   "id": "3576758d1cdddcf8"
  },
  {
   "cell_type": "markdown",
   "source": [
    "# Data Preprocessing "
   ],
   "metadata": {
    "collapsed": false
   },
   "id": "bc928e31a20d0ce6"
  },
  {
   "cell_type": "code",
   "execution_count": 5,
   "outputs": [
    {
     "data": {
      "text/plain": "<Figure size 800x800 with 1 Axes>",
      "image/png": "[encoded data removed]"
     },
     "metadata": {},
     "output_type": "display_data"
    }
   ],
   "source": [
    "missing_df = data.isnull().sum(axis=0).reset_index()\n",
    "missing_df.columns = ['column_name','missing_count']\n",
    "missing_df = missing_df.loc[missing_df['missing_count']>0]\n",
    "missing_df = missing_df.sort_values(by='missing_count')\n",
    "\n",
    "ind = np.arange(missing_df.shape[0])\n",
    "width = 0.5\n",
    "fig,ax = plt.subplots(figsize=(8,8))\n",
    "rects = ax.barh(ind,missing_df.missing_count.values,color='blue')\n",
    "ax.set_yticks(ind)\n",
    "ax.set_yticklabels(missing_df.column_name.values, rotation='horizontal')\n",
    "ax.set_xlabel(\"Count of missing values\")\n",
    "ax.set_title(\"Number of missing values in each column\")\n",
    "plt.show()"
   ],
   "metadata": {
    "collapsed": false,
    "ExecuteTime": {
     "end_time": "2023-12-04T23:49:38.617190Z",
     "start_time": "2023-12-04T23:49:38.315675Z"
    }
   },
   "id": "7962bfa45a9e4c6c"
  },
  {
   "cell_type": "code",
   "execution_count": 6,
   "outputs": [
    {
     "name": "stdout",
     "output_type": "stream",
     "text": [
      "Features with Missing Values:\n",
      "                  Feature  Missing_Count  Missing_Percent(%) Data_Type\n",
      "7                 End_Lat         202901           41.520303   float64\n",
      "8                 End_Lng         202901           41.520303   float64\n",
      "10            Description              1            0.000205    object\n",
      "11                 Street           1163            0.237989    object\n",
      "12                   City             28            0.005730    object\n",
      "15                Zipcode              1            0.000205    object\n",
      "17               Timezone              1            0.000205    object\n",
      "18           Airport_Code            359            0.073463    object\n",
      "19      Weather_Timestamp           3442            0.704348    object\n",
      "20         Temperature(F)           4860            0.994518   float64\n",
      "21          Wind_Chill(F)         103224           21.123069   float64\n",
      "22            Humidity(%)           5482            1.121800   float64\n",
      "23           Pressure(in)           5251            1.074529   float64\n",
      "24         Visibility(mi)           8297            1.697843   float64\n",
      "25         Wind_Direction           7463            1.527178    object\n",
      "26        Wind_Speed(mph)          28571            5.846578   float64\n",
      "27      Precipitation(in)         121193           24.800124   float64\n",
      "28      Weather_Condition           6329            1.295124    object\n",
      "42         Sunrise_Sunset           1972            0.403537    object\n",
      "43         Civil_Twilight           1972            0.403537    object\n",
      "44      Nautical_Twilight           1972            0.403537    object\n",
      "45  Astronomical_Twilight           1972            0.403537    object\n"
     ]
    }
   ],
   "source": [
    "# Create a DataFrame with missing values and their percentages\n",
    "missing = pd.DataFrame(data.isnull().sum()).reset_index()\n",
    "missing.columns = ['Feature', 'Missing_Count']\n",
    "missing['Missing_Percent(%)'] = (missing['Missing_Count'] / data.shape[0]) * 100\n",
    "\n",
    "# Add data types to the DataFrame\n",
    "missing['Data_Type'] = data.dtypes.values\n",
    "\n",
    "# Filter and display rows with missing values\n",
    "missing_filtered = missing.loc[missing['Missing_Percent(%)'] > 0, :]\n",
    "\n",
    "# Display the table with missing values and data types\n",
    "print(\"Features with Missing Values:\")\n",
    "print(missing_filtered)"
   ],
   "metadata": {
    "collapsed": false,
    "ExecuteTime": {
     "end_time": "2023-12-04T23:49:40.500918Z",
     "start_time": "2023-12-04T23:49:40.339865Z"
    }
   },
   "id": "a2e8ecf3c49e1c8a"
  },
  {
   "cell_type": "markdown",
   "source": [
    "# Removal of features \n",
    "* Removing certain features from the dataset is a prudent decision based on their limited predictive value or redundancy. Features like 'ID' and 'Source' lack meaningful information"
   ],
   "metadata": {
    "collapsed": false
   },
   "id": "afd60e10a97f8a3"
  },
  {
   "cell_type": "code",
   "execution_count": 7,
   "outputs": [],
   "source": [
    "data = data.drop(['ID','Source'], axis=1)"
   ],
   "metadata": {
    "collapsed": false,
    "ExecuteTime": {
     "end_time": "2023-12-04T23:49:44.922340Z",
     "start_time": "2023-12-04T23:49:44.873129Z"
    }
   },
   "id": "2abb2b69479476"
  },
  {
   "cell_type": "code",
   "execution_count": 8,
   "outputs": [
    {
     "data": {
      "text/plain": "Start_Time\n19    434439\n29     50152\n26      4088\nName: count, dtype: int64"
     },
     "execution_count": 8,
     "metadata": {},
     "output_type": "execute_result"
    }
   ],
   "source": [
    "data.Start_Time.str.len().value_counts()"
   ],
   "metadata": {
    "collapsed": false,
    "ExecuteTime": {
     "end_time": "2023-12-04T23:50:00.200280Z",
     "start_time": "2023-12-04T23:50:00.131289Z"
    }
   },
   "id": "cf0b1ed554a547bc"
  },
  {
   "cell_type": "code",
   "execution_count": 9,
   "outputs": [
    {
     "data": {
      "text/plain": "221469    2023-02-26 09:31:45.000000000\n221470    2023-03-26 01:07:20.000000000\n221471    2023-02-27 11:05:08.000000000\n221472    2023-02-27 18:34:00.000000000\n221473    2023-03-29 08:22:00.000000000\n                      ...              \n436718    2020-11-28 06:59:09.000000000\n436719    2020-12-20 00:57:00.000000000\n436720    2020-10-24 15:35:00.000000000\n436721    2020-11-12 15:15:30.000000000\n436722    2020-12-17 10:10:16.000000000\nName: Start_Time, Length: 54240, dtype: object"
     },
     "execution_count": 9,
     "metadata": {},
     "output_type": "execute_result"
    }
   ],
   "source": [
    "# whats 26 and 29? \n",
    "data.Start_Time[\n",
    "    (data.Start_Time.str.len() == 26) |\n",
    "    (data.Start_Time.str.len() == 29)\n",
    "    ]"
   ],
   "metadata": {
    "collapsed": false,
    "ExecuteTime": {
     "end_time": "2023-12-04T23:50:02.565281Z",
     "start_time": "2023-12-04T23:50:02.442376Z"
    }
   },
   "id": "2c30c47735258907"
  },
  {
   "cell_type": "code",
   "execution_count": 10,
   "outputs": [
    {
     "data": {
      "text/plain": "221469    2023-02-26 11:58:19.000000000\n221470    2023-03-26 03:12:26.000000000\n221471    2023-02-27 13:11:58.000000000\n221472    2023-02-27 20:39:25.000000000\n221473    2023-03-29 10:30:01.000000000\n                      ...              \n436718    2020-11-28 08:41:38.000000000\n436719    2020-12-20 05:03:35.000000000\n436720    2020-10-24 20:42:45.000000000\n436721    2020-11-13 00:44:08.000000000\n436722    2020-12-17 12:54:49.000000000\nName: End_Time, Length: 54240, dtype: object"
     },
     "execution_count": 10,
     "metadata": {},
     "output_type": "execute_result"
    }
   ],
   "source": [
    "data.End_Time[\n",
    "    (data.End_Time.str.len() == 26) |\n",
    "    (data.End_Time.str.len() == 29)\n",
    "    ]"
   ],
   "metadata": {
    "collapsed": false,
    "ExecuteTime": {
     "end_time": "2023-12-04T23:50:04.847253Z",
     "start_time": "2023-12-04T23:50:04.742814Z"
    }
   },
   "id": "c30162d47155ccd4"
  },
  {
   "cell_type": "code",
   "execution_count": 11,
   "outputs": [],
   "source": [
    "data.Start_Time = pd.to_datetime(data.Start_Time.str[:19])\n",
    "data.End_Time = pd.to_datetime(data.End_Time.str[:19])"
   ],
   "metadata": {
    "collapsed": false,
    "ExecuteTime": {
     "end_time": "2023-12-04T23:50:09.200123Z",
     "start_time": "2023-12-04T23:50:08.963061Z"
    }
   },
   "id": "e9d7946b8252f9de"
  },
  {
   "cell_type": "markdown",
   "source": [
    "Getting metrics for Time taken (total time of the accident) "
   ],
   "metadata": {
    "collapsed": false
   },
   "id": "ef9a05c6f7f84f52"
  },
  {
   "cell_type": "code",
   "execution_count": 12,
   "outputs": [
    {
     "name": "stdout",
     "output_type": "stream",
     "text": [
      "7014.709146494938\n"
     ]
    }
   ],
   "source": [
    "print((data.End_Time - data.Start_Time).dt.seconds.mean())"
   ],
   "metadata": {
    "collapsed": false,
    "ExecuteTime": {
     "end_time": "2023-12-04T23:50:10.121773Z",
     "start_time": "2023-12-04T23:50:10.096131Z"
    }
   },
   "id": "4cf1618568b67bbb"
  },
  {
   "cell_type": "code",
   "execution_count": 13,
   "outputs": [
    {
     "data": {
      "text/plain": "443669    Closed at US-11/Brewerton Rd - Road closed due...\n443670    Closed at US-11/Brewerton Rd - Road closed due...\n443675    Closed at US-11/Brewerton Rd - Road closed due...\n443676    Closed at US-11/Brewerton Rd - Road closed due...\n443677    Closed at US-11/Brewerton Rd - Road closed due...\n443678    Closed at US-11/Brewerton Rd - Road closed due...\nName: Description, dtype: object"
     },
     "execution_count": 13,
     "metadata": {},
     "output_type": "execute_result"
    }
   ],
   "source": [
    "data[(data.End_Time - data.Start_Time).dt.seconds == 0].Description"
   ],
   "metadata": {
    "collapsed": false,
    "ExecuteTime": {
     "end_time": "2023-12-04T23:50:12.460496Z",
     "start_time": "2023-12-04T23:50:12.437030Z"
    }
   },
   "id": "a77759744e45c901"
  },
  {
   "cell_type": "code",
   "execution_count": 14,
   "outputs": [],
   "source": [
    "data['TimeTaken'] = (data.End_Time - data.Start_Time).dt.seconds"
   ],
   "metadata": {
    "collapsed": false,
    "ExecuteTime": {
     "end_time": "2023-12-04T23:50:15.097254Z",
     "start_time": "2023-12-04T23:50:15.059305Z"
    }
   },
   "id": "bab509e90a3153b1"
  },
  {
   "cell_type": "code",
   "execution_count": 15,
   "outputs": [
    {
     "data": {
      "text/plain": "   Severity          Start_Time  Start_Lat  Start_Lng  Distance(mi)  \\\n0         2 2016-11-30 16:37:24  40.775616 -74.237305          0.01   \n1         3 2016-11-30 16:25:41  41.139324 -74.169876          0.01   \n2         3 2016-11-30 15:40:06  41.118748 -74.159744          2.53   \n3         3 2016-11-30 15:26:18  41.014034 -73.717239          1.17   \n4         3 2016-11-30 16:14:11  41.390369 -73.597969          0.01   \n\n                    Street     Zipcode  Temperature(F)  Wind_Chill(F)  \\\n0                  Main St  07050-1520            55.0            NaN   \n1                 Route 17       10974            53.1            NaN   \n2                  I-287 S       10901            53.1            NaN   \n3  Hutchinson River Pkwy S       10605            52.0            NaN   \n4                   I-84 E       10509            52.0            NaN   \n\n   Humidity(%)  ...  Station   Stop Traffic_Calming  Traffic_Signal  \\\n0         93.0  ...    False  False           False            True   \n1         93.0  ...    False  False           False           False   \n2         93.0  ...    False  False           False           False   \n3         93.0  ...    False  False           False           False   \n4         89.0  ...    False  False           False           False   \n\n   Turning_Loop Sunrise_Sunset  Civil_Twilight  Nautical_Twilight  \\\n0         False          Night             Day                Day   \n1         False            Day             Day                Day   \n2         False            Day             Day                Day   \n3         False            Day             Day                Day   \n4         False            Day             Day                Day   \n\n   Astronomical_Twilight  TimeTaken  \n0                    Day       2681  \n1                    Day       2689  \n2                    Day       5374  \n3                    Day       5384  \n4                    Day       2689  \n\n[5 rows x 34 columns]",
      "text/html": "<div>\n<style scoped>\n    .dataframe tbody tr th:only-of-type {\n        vertical-align: middle;\n    }\n\n    .dataframe tbody tr th {\n        vertical-align: top;\n    }\n\n    .dataframe thead th {\n        text-align: right;\n    }\n</style>\n<table border=\"1\" class=\"dataframe\">\n  <thead>\n    <tr style=\"text-align: right;\">\n      <th></th>\n      <th>Severity</th>\n      <th>Start_Time</th>\n      <th>Start_Lat</th>\n      <th>Start_Lng</th>\n      <th>Distance(mi)</th>\n      <th>Street</th>\n      <th>Zipcode</th>\n      <th>Temperature(F)</th>\n      <th>Wind_Chill(F)</th>\n      <th>Humidity(%)</th>\n      <th>...</th>\n      <th>Station</th>\n      <th>Stop</th>\n      <th>Traffic_Calming</th>\n      <th>Traffic_Signal</th>\n      <th>Turning_Loop</th>\n      <th>Sunrise_Sunset</th>\n      <th>Civil_Twilight</th>\n      <th>Nautical_Twilight</th>\n      <th>Astronomical_Twilight</th>\n      <th>TimeTaken</th>\n    </tr>\n  </thead>\n  <tbody>\n    <tr>\n      <th>0</th>\n      <td>2</td>\n      <td>2016-11-30 16:37:24</td>\n      <td>40.775616</td>\n      <td>-74.237305</td>\n      <td>0.01</td>\n      <td>Main St</td>\n      <td>07050-1520</td>\n      <td>55.0</td>\n      <td>NaN</td>\n      <td>93.0</td>\n      <td>...</td>\n      <td>False</td>\n      <td>False</td>\n      <td>False</td>\n      <td>True</td>\n      <td>False</td>\n      <td>Night</td>\n      <td>Day</td>\n      <td>Day</td>\n      <td>Day</td>\n      <td>2681</td>\n    </tr>\n    <tr>\n      <th>1</th>\n      <td>3</td>\n      <td>2016-11-30 16:25:41</td>\n      <td>41.139324</td>\n      <td>-74.169876</td>\n      <td>0.01</td>\n      <td>Route 17</td>\n      <td>10974</td>\n      <td>53.1</td>\n      <td>NaN</td>\n      <td>93.0</td>\n      <td>...</td>\n      <td>False</td>\n      <td>False</td>\n      <td>False</td>\n      <td>False</td>\n      <td>False</td>\n      <td>Day</td>\n      <td>Day</td>\n      <td>Day</td>\n      <td>Day</td>\n      <td>2689</td>\n    </tr>\n    <tr>\n      <th>2</th>\n      <td>3</td>\n      <td>2016-11-30 15:40:06</td>\n      <td>41.118748</td>\n      <td>-74.159744</td>\n      <td>2.53</td>\n      <td>I-287 S</td>\n      <td>10901</td>\n      <td>53.1</td>\n      <td>NaN</td>\n      <td>93.0</td>\n      <td>...</td>\n      <td>False</td>\n      <td>False</td>\n      <td>False</td>\n      <td>False</td>\n      <td>False</td>\n      <td>Day</td>\n      <td>Day</td>\n      <td>Day</td>\n      <td>Day</td>\n      <td>5374</td>\n    </tr>\n    <tr>\n      <th>3</th>\n      <td>3</td>\n      <td>2016-11-30 15:26:18</td>\n      <td>41.014034</td>\n      <td>-73.717239</td>\n      <td>1.17</td>\n      <td>Hutchinson River Pkwy S</td>\n      <td>10605</td>\n      <td>52.0</td>\n      <td>NaN</td>\n      <td>93.0</td>\n      <td>...</td>\n      <td>False</td>\n      <td>False</td>\n      <td>False</td>\n      <td>False</td>\n      <td>False</td>\n      <td>Day</td>\n      <td>Day</td>\n      <td>Day</td>\n      <td>Day</td>\n      <td>5384</td>\n    </tr>\n    <tr>\n      <th>4</th>\n      <td>3</td>\n      <td>2016-11-30 16:14:11</td>\n      <td>41.390369</td>\n      <td>-73.597969</td>\n      <td>0.01</td>\n      <td>I-84 E</td>\n      <td>10509</td>\n      <td>52.0</td>\n      <td>NaN</td>\n      <td>89.0</td>\n      <td>...</td>\n      <td>False</td>\n      <td>False</td>\n      <td>False</td>\n      <td>False</td>\n      <td>False</td>\n      <td>Day</td>\n      <td>Day</td>\n      <td>Day</td>\n      <td>Day</td>\n      <td>2689</td>\n    </tr>\n  </tbody>\n</table>\n<p>5 rows × 34 columns</p>\n</div>"
     },
     "execution_count": 15,
     "metadata": {},
     "output_type": "execute_result"
    }
   ],
   "source": [
    "columns_to_drop = ['End_Time', 'End_Lat', 'End_Lng', 'Description', 'County','City', 'State', 'Country', 'Timezone', 'Airport_Code', 'Weather_Timestamp']\n",
    "data = data.drop(columns=columns_to_drop, axis=1)\n",
    "data.head()"
   ],
   "metadata": {
    "collapsed": false,
    "ExecuteTime": {
     "end_time": "2023-12-04T23:50:19.291235Z",
     "start_time": "2023-12-04T23:50:19.244318Z"
    }
   },
   "id": "89266465d4ab0e89"
  },
  {
   "cell_type": "code",
   "execution_count": 16,
   "outputs": [
    {
     "name": "stdout",
     "output_type": "stream",
     "text": [
      "Correlation between Temperature and Wind chill: 0.9926101475996887\n"
     ]
    }
   ],
   "source": [
    "correlation = data['Temperature(F)'].corr(data['Wind_Chill(F)'])\n",
    "print(\"Correlation between Temperature and Wind chill:\", correlation)"
   ],
   "metadata": {
    "collapsed": false,
    "ExecuteTime": {
     "end_time": "2023-12-04T23:50:21.596495Z",
     "start_time": "2023-12-04T23:50:21.567921Z"
    }
   },
   "id": "e9e6955852f50431"
  },
  {
   "cell_type": "code",
   "execution_count": 17,
   "outputs": [
    {
     "name": "stdout",
     "output_type": "stream",
     "text": [
      "Number of Null Values in Specified Columns:\n",
      "Temperature(F)      4860\n",
      "Wind_Chill(F)     103224\n",
      "dtype: int64\n"
     ]
    }
   ],
   "source": [
    "# Specify the columns you want to check for null values\n",
    "columns_to_check = ['Temperature(F)', 'Wind_Chill(F)']\n",
    "\n",
    "# Check for null values in the specified columns\n",
    "null_counts_in_columns = data[columns_to_check].isnull().sum()\n",
    "\n",
    "# Display the count of null values in the specified columns\n",
    "print(\"Number of Null Values in Specified Columns:\")\n",
    "print(null_counts_in_columns)"
   ],
   "metadata": {
    "collapsed": false,
    "ExecuteTime": {
     "end_time": "2023-12-04T23:50:28.036150Z",
     "start_time": "2023-12-04T23:50:27.995739Z"
    }
   },
   "id": "fd3c92cfb9b7d36f"
  },
  {
   "cell_type": "markdown",
   "source": [
    "Both columns have nearly 1 corelation value, so we can afford to drop one of them. Since wind chill has more null values, we are removing wind chill "
   ],
   "metadata": {
    "collapsed": false
   },
   "id": "c7c41b1926df33ec"
  },
  {
   "cell_type": "code",
   "execution_count": 18,
   "outputs": [],
   "source": [
    "data = data.drop(['Wind_Chill(F)'], axis=1)\n",
    "temperature_median = data['Temperature(F)'].median()\n",
    "\n",
    "# Fill null values in the 'Temperature(F)' column with the median\n",
    "data['Temperature(F)'].fillna(temperature_median, inplace=True)"
   ],
   "metadata": {
    "collapsed": false,
    "ExecuteTime": {
     "end_time": "2023-12-04T23:50:37.173002Z",
     "start_time": "2023-12-04T23:50:37.123518Z"
    }
   },
   "id": "b16c7b75c96ed15"
  },
  {
   "cell_type": "code",
   "execution_count": 19,
   "outputs": [
    {
     "name": "stdout",
     "output_type": "stream",
     "text": [
      "Number of Null Values in Specified Columns:\n",
      "0\n"
     ]
    }
   ],
   "source": [
    "# Check for null values in the specified columns\n",
    "null_counts_in_columns = data['Temperature(F)'].isnull().sum()\n",
    "\n",
    "# Display the count of null values in the specified columns\n",
    "print(\"Number of Null Values in Specified Columns:\")\n",
    "print(null_counts_in_columns)"
   ],
   "metadata": {
    "collapsed": false,
    "ExecuteTime": {
     "end_time": "2023-12-04T23:50:38.403325Z",
     "start_time": "2023-12-04T23:50:38.384893Z"
    }
   },
   "id": "c64b06e62029acf"
  },
  {
   "cell_type": "code",
   "execution_count": 20,
   "outputs": [
    {
     "name": "stdout",
     "output_type": "stream",
     "text": [
      "Wind Direction:  ['ENE' 'East' 'South' 'SSE' 'NE' 'NNE' 'Variable' 'North' 'West' 'WSW'\n",
      " 'Calm' 'NW' 'WNW' 'SW' 'ESE' 'NNW' 'SE' 'SSW' nan 'N' 'VAR' 'CALM' 'E'\n",
      " 'S' 'W']\n"
     ]
    }
   ],
   "source": [
    "print(\"Wind Direction: \", data['Wind_Direction'].unique())"
   ],
   "metadata": {
    "collapsed": false,
    "ExecuteTime": {
     "end_time": "2023-12-04T23:50:39.889485Z",
     "start_time": "2023-12-04T23:50:39.878393Z"
    }
   },
   "id": "ad21b82b53036622"
  },
  {
   "cell_type": "code",
   "execution_count": 21,
   "outputs": [
    {
     "name": "stdout",
     "output_type": "stream",
     "text": [
      "Wind Direction after simplification:  ['E' 'S' 'NE' 'N' 'VAR' 'W' 'CALM' 'NW' 'SW' 'SE' nan]\n"
     ]
    }
   ],
   "source": [
    "data.loc[(data['Wind_Direction']=='North')|(data['Wind_Direction']=='NNW')|(data['Wind_Direction']=='NNE'),'Wind_Direction'] = 'N'\n",
    "data.loc[(data['Wind_Direction']=='South')|(data['Wind_Direction']=='SSW')|(data['Wind_Direction']=='SSE'),'Wind_Direction'] = 'S'\n",
    "data.loc[(data['Wind_Direction']=='East')|(data['Wind_Direction']=='ESE')|(data['Wind_Direction']=='ENE'),'Wind_Direction'] = 'E'\n",
    "data.loc[(data['Wind_Direction']=='West')|(data['Wind_Direction']=='WSW')|(data['Wind_Direction']=='WNW'),'Wind_Direction'] = 'W'\n",
    "data.loc[data['Wind_Direction']=='Calm','Wind_Direction'] = 'CALM'\n",
    "data.loc[data['Wind_Direction']=='Variable','Wind_Direction'] = 'VAR'\n",
    "print(\"Wind Direction after simplification: \", data['Wind_Direction'].unique())"
   ],
   "metadata": {
    "collapsed": false,
    "ExecuteTime": {
     "end_time": "2023-12-04T23:50:44.314566Z",
     "start_time": "2023-12-04T23:50:44.128924Z"
    }
   },
   "id": "a5a38e9175b33695"
  },
  {
   "cell_type": "code",
   "execution_count": 22,
   "outputs": [
    {
     "data": {
      "text/plain": "<Figure size 1500x800 with 12 Axes>",
      "image/png": "[encoded data removed]"
     },
     "metadata": {},
     "output_type": "display_data"
    }
   ],
   "source": [
    "import matplotlib.pyplot as plt\n",
    "\n",
    "# Specify the columns to create pie charts for\n",
    "poi_columns = ['Amenity', 'Bump', 'Crossing', 'Give_Way', 'Junction', 'No_Exit', 'Railway',\n",
    "               'Roundabout', 'Station', 'Stop', 'Traffic_Calming', 'Traffic_Signal']\n",
    "\n",
    "# Set up subplots for each column in a 2x6 grid\n",
    "fig, axes = plt.subplots(nrows=2, ncols=6, figsize=(15, 8))\n",
    "fig.subplots_adjust(hspace=0.5)\n",
    "\n",
    "# Flatten the 2D array of subplots for easier iteration\n",
    "axes = axes.flatten()\n",
    "\n",
    "# Loop through each column and create a pie chart\n",
    "for i, column in enumerate(poi_columns):\n",
    "    poi_counts = data[column].value_counts()\n",
    "    # Check if there are values to plot\n",
    "    if not poi_counts.empty:\n",
    "        axes[i].pie(poi_counts, labels=poi_counts.index, autopct='%1.1f%%', startangle=90)\n",
    "        axes[i].set_title(column)\n",
    "\n",
    "# Adjust layout\n",
    "plt.tight_layout()\n",
    "\n",
    "# Show the pie charts\n",
    "plt.show()\n"
   ],
   "metadata": {
    "collapsed": false,
    "ExecuteTime": {
     "end_time": "2023-12-04T23:50:47.901162Z",
     "start_time": "2023-12-04T23:50:47.623731Z"
    }
   },
   "id": "63bfa665ed4982f9"
  },
  {
   "cell_type": "code",
   "execution_count": 23,
   "outputs": [
    {
     "data": {
      "text/plain": "        Amenity   Bump  Crossing  Give_Way  Junction  No_Exit  Railway  \\\n0         False  False     False     False     False    False    False   \n1         False  False     False     False     False    False    False   \n2         False  False     False     False     False    False    False   \n3         False  False     False     False      True    False    False   \n4         False  False     False     False     False    False    False   \n...         ...    ...       ...       ...       ...      ...      ...   \n488674    False  False     False     False     False    False    False   \n488675    False  False     False     False      True    False    False   \n488676    False  False     False     False     False    False    False   \n488677    False  False     False     False     False    False    False   \n488678    False  False     False     False      True    False    False   \n\n        Roundabout  Station   Stop  Traffic_Calming  Traffic_Signal  \\\n0            False    False  False            False            True   \n1            False    False  False            False           False   \n2            False    False  False            False           False   \n3            False    False  False            False           False   \n4            False    False  False            False           False   \n...            ...      ...    ...              ...             ...   \n488674       False    False  False            False           False   \n488675       False    False  False            False           False   \n488676       False    False  False            False           False   \n488677       False    False  False            False           False   \n488678       False    False  False            False           False   \n\n        Turning_Loop Sunrise_Sunset Civil_Twilight Nautical_Twilight  \\\n0              False          Night            Day               Day   \n1              False            Day            Day               Day   \n2              False            Day            Day               Day   \n3              False            Day            Day               Day   \n4              False            Day            Day               Day   \n...              ...            ...            ...               ...   \n488674         False            Day            Day               Day   \n488675         False            Day            Day               Day   \n488676         False            Day            Day               Day   \n488677         False            Day            Day               Day   \n488678         False          Night            Day               Day   \n\n       Astronomical_Twilight  \n0                        Day  \n1                        Day  \n2                        Day  \n3                        Day  \n4                        Day  \n...                      ...  \n488674                   Day  \n488675                   Day  \n488676                   Day  \n488677                   Day  \n488678                   Day  \n\n[488679 rows x 17 columns]",
      "text/html": "<div>\n<style scoped>\n    .dataframe tbody tr th:only-of-type {\n        vertical-align: middle;\n    }\n\n    .dataframe tbody tr th {\n        vertical-align: top;\n    }\n\n    .dataframe thead th {\n        text-align: right;\n    }\n</style>\n<table border=\"1\" class=\"dataframe\">\n  <thead>\n    <tr style=\"text-align: right;\">\n      <th></th>\n      <th>Amenity</th>\n      <th>Bump</th>\n      <th>Crossing</th>\n      <th>Give_Way</th>\n      <th>Junction</th>\n      <th>No_Exit</th>\n      <th>Railway</th>\n      <th>Roundabout</th>\n      <th>Station</th>\n      <th>Stop</th>\n      <th>Traffic_Calming</th>\n      <th>Traffic_Signal</th>\n      <th>Turning_Loop</th>\n      <th>Sunrise_Sunset</th>\n      <th>Civil_Twilight</th>\n      <th>Nautical_Twilight</th>\n      <th>Astronomical_Twilight</th>\n    </tr>\n  </thead>\n  <tbody>\n    <tr>\n      <th>0</th>\n      <td>False</td>\n      <td>False</td>\n      <td>False</td>\n      <td>False</td>\n      <td>False</td>\n      <td>False</td>\n      <td>False</td>\n      <td>False</td>\n      <td>False</td>\n      <td>False</td>\n      <td>False</td>\n      <td>True</td>\n      <td>False</td>\n      <td>Night</td>\n      <td>Day</td>\n      <td>Day</td>\n      <td>Day</td>\n    </tr>\n    <tr>\n      <th>1</th>\n      <td>False</td>\n      <td>False</td>\n      <td>False</td>\n      <td>False</td>\n      <td>False</td>\n      <td>False</td>\n      <td>False</td>\n      <td>False</td>\n      <td>False</td>\n      <td>False</td>\n      <td>False</td>\n      <td>False</td>\n      <td>False</td>\n      <td>Day</td>\n      <td>Day</td>\n      <td>Day</td>\n      <td>Day</td>\n    </tr>\n    <tr>\n      <th>2</th>\n      <td>False</td>\n      <td>False</td>\n      <td>False</td>\n      <td>False</td>\n      <td>False</td>\n      <td>False</td>\n      <td>False</td>\n      <td>False</td>\n      <td>False</td>\n      <td>False</td>\n      <td>False</td>\n      <td>False</td>\n      <td>False</td>\n      <td>Day</td>\n      <td>Day</td>\n      <td>Day</td>\n      <td>Day</td>\n    </tr>\n    <tr>\n      <th>3</th>\n      <td>False</td>\n      <td>False</td>\n      <td>False</td>\n      <td>False</td>\n      <td>True</td>\n      <td>False</td>\n      <td>False</td>\n      <td>False</td>\n      <td>False</td>\n      <td>False</td>\n      <td>False</td>\n      <td>False</td>\n      <td>False</td>\n      <td>Day</td>\n      <td>Day</td>\n      <td>Day</td>\n      <td>Day</td>\n    </tr>\n    <tr>\n      <th>4</th>\n      <td>False</td>\n      <td>False</td>\n      <td>False</td>\n      <td>False</td>\n      <td>False</td>\n      <td>False</td>\n      <td>False</td>\n      <td>False</td>\n      <td>False</td>\n      <td>False</td>\n      <td>False</td>\n      <td>False</td>\n      <td>False</td>\n      <td>Day</td>\n      <td>Day</td>\n      <td>Day</td>\n      <td>Day</td>\n    </tr>\n    <tr>\n      <th>...</th>\n      <td>...</td>\n      <td>...</td>\n      <td>...</td>\n      <td>...</td>\n      <td>...</td>\n      <td>...</td>\n      <td>...</td>\n      <td>...</td>\n      <td>...</td>\n      <td>...</td>\n      <td>...</td>\n      <td>...</td>\n      <td>...</td>\n      <td>...</td>\n      <td>...</td>\n      <td>...</td>\n      <td>...</td>\n    </tr>\n    <tr>\n      <th>488674</th>\n      <td>False</td>\n      <td>False</td>\n      <td>False</td>\n      <td>False</td>\n      <td>False</td>\n      <td>False</td>\n      <td>False</td>\n      <td>False</td>\n      <td>False</td>\n      <td>False</td>\n      <td>False</td>\n      <td>False</td>\n      <td>False</td>\n      <td>Day</td>\n      <td>Day</td>\n      <td>Day</td>\n      <td>Day</td>\n    </tr>\n    <tr>\n      <th>488675</th>\n      <td>False</td>\n      <td>False</td>\n      <td>False</td>\n      <td>False</td>\n      <td>True</td>\n      <td>False</td>\n      <td>False</td>\n      <td>False</td>\n      <td>False</td>\n      <td>False</td>\n      <td>False</td>\n      <td>False</td>\n      <td>False</td>\n      <td>Day</td>\n      <td>Day</td>\n      <td>Day</td>\n      <td>Day</td>\n    </tr>\n    <tr>\n      <th>488676</th>\n      <td>False</td>\n      <td>False</td>\n      <td>False</td>\n      <td>False</td>\n      <td>False</td>\n      <td>False</td>\n      <td>False</td>\n      <td>False</td>\n      <td>False</td>\n      <td>False</td>\n      <td>False</td>\n      <td>False</td>\n      <td>False</td>\n      <td>Day</td>\n      <td>Day</td>\n      <td>Day</td>\n      <td>Day</td>\n    </tr>\n    <tr>\n      <th>488677</th>\n      <td>False</td>\n      <td>False</td>\n      <td>False</td>\n      <td>False</td>\n      <td>False</td>\n      <td>False</td>\n      <td>False</td>\n      <td>False</td>\n      <td>False</td>\n      <td>False</td>\n      <td>False</td>\n      <td>False</td>\n      <td>False</td>\n      <td>Day</td>\n      <td>Day</td>\n      <td>Day</td>\n      <td>Day</td>\n    </tr>\n    <tr>\n      <th>488678</th>\n      <td>False</td>\n      <td>False</td>\n      <td>False</td>\n      <td>False</td>\n      <td>True</td>\n      <td>False</td>\n      <td>False</td>\n      <td>False</td>\n      <td>False</td>\n      <td>False</td>\n      <td>False</td>\n      <td>False</td>\n      <td>False</td>\n      <td>Night</td>\n      <td>Day</td>\n      <td>Day</td>\n      <td>Day</td>\n    </tr>\n  </tbody>\n</table>\n<p>488679 rows × 17 columns</p>\n</div>"
     },
     "execution_count": 23,
     "metadata": {},
     "output_type": "execute_result"
    }
   ],
   "source": [
    "data[['Amenity','Bump', 'Crossing', 'Give_Way', 'Junction', 'No_Exit', 'Railway','Roundabout', 'Station', 'Stop', 'Traffic_Calming', 'Traffic_Signal','Turning_Loop', 'Sunrise_Sunset', 'Civil_Twilight', 'Nautical_Twilight', 'Astronomical_Twilight']]"
   ],
   "metadata": {
    "collapsed": false,
    "ExecuteTime": {
     "end_time": "2023-12-04T23:50:49.365159Z",
     "start_time": "2023-12-04T23:50:49.331230Z"
    }
   },
   "id": "66dc60f36b32224"
  },
  {
   "cell_type": "markdown",
   "source": [
    "Converting boolean values to 0 and 1 "
   ],
   "metadata": {
    "collapsed": false
   },
   "id": "26638c7ac08b5529"
  },
  {
   "cell_type": "code",
   "execution_count": 24,
   "outputs": [
    {
     "data": {
      "text/plain": "   Severity          Start_Time  Start_Lat  Start_Lng  Distance(mi)  \\\n0         2 2016-11-30 16:37:24  40.775616 -74.237305          0.01   \n1         3 2016-11-30 16:25:41  41.139324 -74.169876          0.01   \n2         3 2016-11-30 15:40:06  41.118748 -74.159744          2.53   \n3         3 2016-11-30 15:26:18  41.014034 -73.717239          1.17   \n4         3 2016-11-30 16:14:11  41.390369 -73.597969          0.01   \n\n                    Street     Zipcode  Temperature(F)  Humidity(%)  \\\n0                  Main St  07050-1520            55.0         93.0   \n1                 Route 17       10974            53.1         93.0   \n2                  I-287 S       10901            53.1         93.0   \n3  Hutchinson River Pkwy S       10605            52.0         93.0   \n4                   I-84 E       10509            52.0         89.0   \n\n   Pressure(in)  ...  Station Stop  Traffic_Calming  Traffic_Signal  \\\n0         29.79  ...        0    0                0               1   \n1         29.81  ...        0    0                0               0   \n2         29.83  ...        0    0                0               0   \n3         29.81  ...        0    0                0               0   \n4         29.86  ...        0    0                0               0   \n\n  Turning_Loop  Sunrise_Sunset  Civil_Twilight  Nautical_Twilight  \\\n0            0           Night             Day                Day   \n1            0             Day             Day                Day   \n2            0             Day             Day                Day   \n3            0             Day             Day                Day   \n4            0             Day             Day                Day   \n\n   Astronomical_Twilight  TimeTaken  \n0                    Day       2681  \n1                    Day       2689  \n2                    Day       5374  \n3                    Day       5384  \n4                    Day       2689  \n\n[5 rows x 33 columns]",
      "text/html": "<div>\n<style scoped>\n    .dataframe tbody tr th:only-of-type {\n        vertical-align: middle;\n    }\n\n    .dataframe tbody tr th {\n        vertical-align: top;\n    }\n\n    .dataframe thead th {\n        text-align: right;\n    }\n</style>\n<table border=\"1\" class=\"dataframe\">\n  <thead>\n    <tr style=\"text-align: right;\">\n      <th></th>\n      <th>Severity</th>\n      <th>Start_Time</th>\n      <th>Start_Lat</th>\n      <th>Start_Lng</th>\n      <th>Distance(mi)</th>\n      <th>Street</th>\n      <th>Zipcode</th>\n      <th>Temperature(F)</th>\n      <th>Humidity(%)</th>\n      <th>Pressure(in)</th>\n      <th>...</th>\n      <th>Station</th>\n      <th>Stop</th>\n      <th>Traffic_Calming</th>\n      <th>Traffic_Signal</th>\n      <th>Turning_Loop</th>\n      <th>Sunrise_Sunset</th>\n      <th>Civil_Twilight</th>\n      <th>Nautical_Twilight</th>\n      <th>Astronomical_Twilight</th>\n      <th>TimeTaken</th>\n    </tr>\n  </thead>\n  <tbody>\n    <tr>\n      <th>0</th>\n      <td>2</td>\n      <td>2016-11-30 16:37:24</td>\n      <td>40.775616</td>\n      <td>-74.237305</td>\n      <td>0.01</td>\n      <td>Main St</td>\n      <td>07050-1520</td>\n      <td>55.0</td>\n      <td>93.0</td>\n      <td>29.79</td>\n      <td>...</td>\n      <td>0</td>\n      <td>0</td>\n      <td>0</td>\n      <td>1</td>\n      <td>0</td>\n      <td>Night</td>\n      <td>Day</td>\n      <td>Day</td>\n      <td>Day</td>\n      <td>2681</td>\n    </tr>\n    <tr>\n      <th>1</th>\n      <td>3</td>\n      <td>2016-11-30 16:25:41</td>\n      <td>41.139324</td>\n      <td>-74.169876</td>\n      <td>0.01</td>\n      <td>Route 17</td>\n      <td>10974</td>\n      <td>53.1</td>\n      <td>93.0</td>\n      <td>29.81</td>\n      <td>...</td>\n      <td>0</td>\n      <td>0</td>\n      <td>0</td>\n      <td>0</td>\n      <td>0</td>\n      <td>Day</td>\n      <td>Day</td>\n      <td>Day</td>\n      <td>Day</td>\n      <td>2689</td>\n    </tr>\n    <tr>\n      <th>2</th>\n      <td>3</td>\n      <td>2016-11-30 15:40:06</td>\n      <td>41.118748</td>\n      <td>-74.159744</td>\n      <td>2.53</td>\n      <td>I-287 S</td>\n      <td>10901</td>\n      <td>53.1</td>\n      <td>93.0</td>\n      <td>29.83</td>\n      <td>...</td>\n      <td>0</td>\n      <td>0</td>\n      <td>0</td>\n      <td>0</td>\n      <td>0</td>\n      <td>Day</td>\n      <td>Day</td>\n      <td>Day</td>\n      <td>Day</td>\n      <td>5374</td>\n    </tr>\n    <tr>\n      <th>3</th>\n      <td>3</td>\n      <td>2016-11-30 15:26:18</td>\n      <td>41.014034</td>\n      <td>-73.717239</td>\n      <td>1.17</td>\n      <td>Hutchinson River Pkwy S</td>\n      <td>10605</td>\n      <td>52.0</td>\n      <td>93.0</td>\n      <td>29.81</td>\n      <td>...</td>\n      <td>0</td>\n      <td>0</td>\n      <td>0</td>\n      <td>0</td>\n      <td>0</td>\n      <td>Day</td>\n      <td>Day</td>\n      <td>Day</td>\n      <td>Day</td>\n      <td>5384</td>\n    </tr>\n    <tr>\n      <th>4</th>\n      <td>3</td>\n      <td>2016-11-30 16:14:11</td>\n      <td>41.390369</td>\n      <td>-73.597969</td>\n      <td>0.01</td>\n      <td>I-84 E</td>\n      <td>10509</td>\n      <td>52.0</td>\n      <td>89.0</td>\n      <td>29.86</td>\n      <td>...</td>\n      <td>0</td>\n      <td>0</td>\n      <td>0</td>\n      <td>0</td>\n      <td>0</td>\n      <td>Day</td>\n      <td>Day</td>\n      <td>Day</td>\n      <td>Day</td>\n      <td>2689</td>\n    </tr>\n  </tbody>\n</table>\n<p>5 rows × 33 columns</p>\n</div>"
     },
     "execution_count": 24,
     "metadata": {},
     "output_type": "execute_result"
    }
   ],
   "source": [
    "data[['Amenity','Bump', 'Crossing', 'Give_Way', 'Junction', 'No_Exit', 'Railway','Roundabout', 'Station', 'Stop', 'Traffic_Calming', 'Traffic_Signal','Turning_Loop']] = data[['Amenity','Bump', 'Crossing', 'Give_Way', 'Junction', 'No_Exit', 'Railway','Roundabout', 'Station', 'Stop', 'Traffic_Calming', 'Traffic_Signal','Turning_Loop']].astype(int)\n",
    "data.head()"
   ],
   "metadata": {
    "collapsed": false,
    "ExecuteTime": {
     "end_time": "2023-12-04T23:50:51.713949Z",
     "start_time": "2023-12-04T23:50:51.658852Z"
    }
   },
   "id": "d4b5f1cb4095eda1"
  },
  {
   "cell_type": "code",
   "execution_count": 25,
   "outputs": [
    {
     "name": "stdout",
     "output_type": "stream",
     "text": [
      "Features with Missing Values:\n",
      "                  Feature  Missing_Count  Missing_Percent(%) Data_Type\n",
      "5                  Street           1163            0.237989    object\n",
      "6                 Zipcode              1            0.000205    object\n",
      "8             Humidity(%)           5482            1.121800   float64\n",
      "9            Pressure(in)           5251            1.074529   float64\n",
      "10         Visibility(mi)           8297            1.697843   float64\n",
      "11         Wind_Direction           7463            1.527178    object\n",
      "12        Wind_Speed(mph)          28571            5.846578   float64\n",
      "13      Precipitation(in)         121193           24.800124   float64\n",
      "14      Weather_Condition           6329            1.295124    object\n",
      "28         Sunrise_Sunset           1972            0.403537    object\n",
      "29         Civil_Twilight           1972            0.403537    object\n",
      "30      Nautical_Twilight           1972            0.403537    object\n",
      "31  Astronomical_Twilight           1972            0.403537    object\n"
     ]
    }
   ],
   "source": [
    "# Create a DataFrame with missing values and their percentages\n",
    "missing = pd.DataFrame(data.isnull().sum()).reset_index()\n",
    "missing.columns = ['Feature', 'Missing_Count']\n",
    "missing['Missing_Percent(%)'] = (missing['Missing_Count'] / data.shape[0]) * 100\n",
    "\n",
    "# Add data types to the DataFrame\n",
    "missing['Data_Type'] = data.dtypes.values\n",
    "\n",
    "# Filter and display rows with missing values\n",
    "missing_filtered = missing.loc[missing['Missing_Percent(%)'] > 0, :]\n",
    "\n",
    "# Display the table with missing values and data types\n",
    "print(\"Features with Missing Values:\")\n",
    "print(missing_filtered)"
   ],
   "metadata": {
    "collapsed": false,
    "ExecuteTime": {
     "end_time": "2023-12-04T23:50:56.945917Z",
     "start_time": "2023-12-04T23:50:56.850703Z"
    }
   },
   "id": "8d5c4146bdf21198"
  },
  {
   "cell_type": "markdown",
   "source": [
    "* In the process of handling missing data in a project, it's crucial to choose the appropriate imputation strategy based on the characteristics of the variables. Here's a breakdown of our approach:\n",
    "\n",
    "\n",
    "# Median for Numerical Data:\n",
    "\n",
    "We opt for the median when dealing with numerical features. This is particularly useful in scenarios where the data distribution is skewed or outliers are present. The median is less influenced by extreme values, making it a robust measure of central tendency. We apply median imputation to essential numerical variables such as Temperature, Wind_Chill, Humidity, Pressure, Visibility, Wind_Speed, and Precipitation.\n",
    "\n",
    "# Mode for Categorical Data:\n",
    "\n",
    "For categorical features, we choose mode imputation, as it represents the most frequently occurring category in the dataset. This approach is suitable for handling missing values in categorical variables like Wind_Direction, Weather_Condition, Sunrise_Sunset, Civil_Twilight, Nautical_Twilight, and Astronomical_Twilight. It's important to ensure that the mode is a meaningful representation of the data and isn't heavily influenced by rare or infrequent categories. By employing these imputation strategies, we aim to maintain the reliability of our data while addressing missing values in a statistically sound manner within the context of our project."
   ],
   "metadata": {
    "collapsed": false
   },
   "id": "26462d268fddddfa"
  },
  {
   "cell_type": "code",
   "execution_count": 27,
   "outputs": [
    {
     "data": {
      "text/plain": "Severity                 0\nStart_Time               0\nStart_Lat                0\nStart_Lng                0\nDistance(mi)             0\nStreet                   0\nZipcode                  1\nTemperature(F)           0\nHumidity(%)              0\nPressure(in)             0\nVisibility(mi)           0\nWind_Direction           0\nWind_Speed(mph)          0\nPrecipitation(in)        0\nWeather_Condition        0\nAmenity                  0\nBump                     0\nCrossing                 0\nGive_Way                 0\nJunction                 0\nNo_Exit                  0\nRailway                  0\nRoundabout               0\nStation                  0\nStop                     0\nTraffic_Calming          0\nTraffic_Signal           0\nTurning_Loop             0\nSunrise_Sunset           0\nCivil_Twilight           0\nNautical_Twilight        0\nAstronomical_Twilight    0\nTimeTaken                0\ndtype: int64"
     },
     "execution_count": 27,
     "metadata": {},
     "output_type": "execute_result"
    }
   ],
   "source": [
    "float_columns = ['Humidity(%)', 'Pressure(in)', 'Visibility(mi)', 'Wind_Speed(mph)', 'Precipitation(in)']\n",
    "data[float_columns] = data[float_columns].fillna(data[float_columns].median())\n",
    "\n",
    "# Fill missing values for object dtype columns with mode\n",
    "object_columns = ['Street', 'Wind_Direction', 'Weather_Condition', 'Sunrise_Sunset', 'Civil_Twilight','Nautical_Twilight', 'Astronomical_Twilight']\n",
    "data[object_columns] = data[object_columns].fillna(data[object_columns].mode().iloc[0])\n",
    "\n",
    "# Verify the changes\n",
    "data.isnull().sum()"
   ],
   "metadata": {
    "collapsed": false,
    "ExecuteTime": {
     "end_time": "2023-12-04T23:51:20.476041Z",
     "start_time": "2023-12-04T23:51:20.105943Z"
    }
   },
   "id": "4b62c766a8f9da50"
  },
  {
   "cell_type": "code",
   "execution_count": 28,
   "outputs": [
    {
     "data": {
      "text/plain": "   Severity          Start_Time  Start_Lat  Start_Lng  Distance(mi)  \\\n0         2 2016-11-30 16:37:24  40.775616 -74.237305          0.01   \n1         3 2016-11-30 16:25:41  41.139324 -74.169876          0.01   \n2         3 2016-11-30 15:40:06  41.118748 -74.159744          2.53   \n3         3 2016-11-30 15:26:18  41.014034 -73.717239          1.17   \n4         3 2016-11-30 16:14:11  41.390369 -73.597969          0.01   \n\n                    Street     Zipcode  Temperature(F)  Humidity(%)  \\\n0                  Main St  07050-1520            55.0         93.0   \n1                 Route 17       10974            53.1         93.0   \n2                  I-287 S       10901            53.1         93.0   \n3  Hutchinson River Pkwy S       10605            52.0         93.0   \n4                   I-84 E       10509            52.0         89.0   \n\n   Pressure(in)  ...  Station Stop  Traffic_Calming  Traffic_Signal  \\\n0         29.79  ...        0    0                0               1   \n1         29.81  ...        0    0                0               0   \n2         29.83  ...        0    0                0               0   \n3         29.81  ...        0    0                0               0   \n4         29.86  ...        0    0                0               0   \n\n  Turning_Loop  Sunrise_Sunset  Civil_Twilight  Nautical_Twilight  \\\n0            0           Night             Day                Day   \n1            0             Day             Day                Day   \n2            0             Day             Day                Day   \n3            0             Day             Day                Day   \n4            0             Day             Day                Day   \n\n   Astronomical_Twilight  TimeTaken  \n0                    Day       2681  \n1                    Day       2689  \n2                    Day       5374  \n3                    Day       5384  \n4                    Day       2689  \n\n[5 rows x 33 columns]",
      "text/html": "<div>\n<style scoped>\n    .dataframe tbody tr th:only-of-type {\n        vertical-align: middle;\n    }\n\n    .dataframe tbody tr th {\n        vertical-align: top;\n    }\n\n    .dataframe thead th {\n        text-align: right;\n    }\n</style>\n<table border=\"1\" class=\"dataframe\">\n  <thead>\n    <tr style=\"text-align: right;\">\n      <th></th>\n      <th>Severity</th>\n      <th>Start_Time</th>\n      <th>Start_Lat</th>\n      <th>Start_Lng</th>\n      <th>Distance(mi)</th>\n      <th>Street</th>\n      <th>Zipcode</th>\n      <th>Temperature(F)</th>\n      <th>Humidity(%)</th>\n      <th>Pressure(in)</th>\n      <th>...</th>\n      <th>Station</th>\n      <th>Stop</th>\n      <th>Traffic_Calming</th>\n      <th>Traffic_Signal</th>\n      <th>Turning_Loop</th>\n      <th>Sunrise_Sunset</th>\n      <th>Civil_Twilight</th>\n      <th>Nautical_Twilight</th>\n      <th>Astronomical_Twilight</th>\n      <th>TimeTaken</th>\n    </tr>\n  </thead>\n  <tbody>\n    <tr>\n      <th>0</th>\n      <td>2</td>\n      <td>2016-11-30 16:37:24</td>\n      <td>40.775616</td>\n      <td>-74.237305</td>\n      <td>0.01</td>\n      <td>Main St</td>\n      <td>07050-1520</td>\n      <td>55.0</td>\n      <td>93.0</td>\n      <td>29.79</td>\n      <td>...</td>\n      <td>0</td>\n      <td>0</td>\n      <td>0</td>\n      <td>1</td>\n      <td>0</td>\n      <td>Night</td>\n      <td>Day</td>\n      <td>Day</td>\n      <td>Day</td>\n      <td>2681</td>\n    </tr>\n    <tr>\n      <th>1</th>\n      <td>3</td>\n      <td>2016-11-30 16:25:41</td>\n      <td>41.139324</td>\n      <td>-74.169876</td>\n      <td>0.01</td>\n      <td>Route 17</td>\n      <td>10974</td>\n      <td>53.1</td>\n      <td>93.0</td>\n      <td>29.81</td>\n      <td>...</td>\n      <td>0</td>\n      <td>0</td>\n      <td>0</td>\n      <td>0</td>\n      <td>0</td>\n      <td>Day</td>\n      <td>Day</td>\n      <td>Day</td>\n      <td>Day</td>\n      <td>2689</td>\n    </tr>\n    <tr>\n      <th>2</th>\n      <td>3</td>\n      <td>2016-11-30 15:40:06</td>\n      <td>41.118748</td>\n      <td>-74.159744</td>\n      <td>2.53</td>\n      <td>I-287 S</td>\n      <td>10901</td>\n      <td>53.1</td>\n      <td>93.0</td>\n      <td>29.83</td>\n      <td>...</td>\n      <td>0</td>\n      <td>0</td>\n      <td>0</td>\n      <td>0</td>\n      <td>0</td>\n      <td>Day</td>\n      <td>Day</td>\n      <td>Day</td>\n      <td>Day</td>\n      <td>5374</td>\n    </tr>\n    <tr>\n      <th>3</th>\n      <td>3</td>\n      <td>2016-11-30 15:26:18</td>\n      <td>41.014034</td>\n      <td>-73.717239</td>\n      <td>1.17</td>\n      <td>Hutchinson River Pkwy S</td>\n      <td>10605</td>\n      <td>52.0</td>\n      <td>93.0</td>\n      <td>29.81</td>\n      <td>...</td>\n      <td>0</td>\n      <td>0</td>\n      <td>0</td>\n      <td>0</td>\n      <td>0</td>\n      <td>Day</td>\n      <td>Day</td>\n      <td>Day</td>\n      <td>Day</td>\n      <td>5384</td>\n    </tr>\n    <tr>\n      <th>4</th>\n      <td>3</td>\n      <td>2016-11-30 16:14:11</td>\n      <td>41.390369</td>\n      <td>-73.597969</td>\n      <td>0.01</td>\n      <td>I-84 E</td>\n      <td>10509</td>\n      <td>52.0</td>\n      <td>89.0</td>\n      <td>29.86</td>\n      <td>...</td>\n      <td>0</td>\n      <td>0</td>\n      <td>0</td>\n      <td>0</td>\n      <td>0</td>\n      <td>Day</td>\n      <td>Day</td>\n      <td>Day</td>\n      <td>Day</td>\n      <td>2689</td>\n    </tr>\n  </tbody>\n</table>\n<p>5 rows × 33 columns</p>\n</div>"
     },
     "execution_count": 28,
     "metadata": {},
     "output_type": "execute_result"
    }
   ],
   "source": [
    "data.head()"
   ],
   "metadata": {
    "collapsed": false,
    "ExecuteTime": {
     "end_time": "2023-12-04T23:51:22.047145Z",
     "start_time": "2023-12-04T23:51:22.024143Z"
    }
   },
   "id": "48205dea851ab558"
  },
  {
   "cell_type": "code",
   "execution_count": 29,
   "outputs": [
    {
     "data": {
      "text/plain": "4438     -77.8\n4456     -77.8\n4780     -77.8\n4781     -77.8\n160492   -77.8\n160493   -77.8\n160500   -77.8\n177719   -77.8\n184112   -77.8\n184117   -77.8\n478891   -77.8\nName: Temperature(F), dtype: float64"
     },
     "execution_count": 29,
     "metadata": {},
     "output_type": "execute_result"
    }
   ],
   "source": [
    "data[data['Temperature(F)'] < -20]['Temperature(F)']"
   ],
   "metadata": {
    "collapsed": false,
    "ExecuteTime": {
     "end_time": "2023-12-04T23:51:25.145573Z",
     "start_time": "2023-12-04T23:51:25.107800Z"
    }
   },
   "id": "1a87ac711fc7d314"
  },
  {
   "cell_type": "code",
   "execution_count": 35,
   "outputs": [
    {
     "data": {
      "text/plain": "Series([], Name: Temperature(F), dtype: float64)"
     },
     "execution_count": 35,
     "metadata": {},
     "output_type": "execute_result"
    }
   ],
   "source": [
    "data['Temperature(F)'] = data['Temperature(F)'].where(data['Temperature(F)'] != -77.8,77.8)\n",
    "data[data['Temperature(F)'] < -20]['Temperature(F)']"
   ],
   "metadata": {
    "collapsed": false,
    "ExecuteTime": {
     "end_time": "2023-12-04T05:03:40.255639Z",
     "start_time": "2023-12-04T05:03:40.227278Z"
    }
   },
   "id": "ae4c135c0338a5f9"
  },
  {
   "cell_type": "code",
   "execution_count": 30,
   "outputs": [
    {
     "data": {
      "text/plain": "   Severity          Start_Time  Start_Lat  Start_Lng  Distance(mi)  \\\n0         2 2016-11-30 16:37:24  40.775616 -74.237305          0.01   \n1         3 2016-11-30 16:25:41  41.139324 -74.169876          0.01   \n2         3 2016-11-30 15:40:06  41.118748 -74.159744          2.53   \n3         3 2016-11-30 15:26:18  41.014034 -73.717239          1.17   \n4         3 2016-11-30 16:14:11  41.390369 -73.597969          0.01   \n\n                    Street     Zipcode  Temperature(F)  Humidity(%)  \\\n0                  Main St  07050-1520            55.0         93.0   \n1                 Route 17       10974            53.1         93.0   \n2                  I-287 S       10901            53.1         93.0   \n3  Hutchinson River Pkwy S       10605            52.0         93.0   \n4                   I-84 E       10509            52.0         89.0   \n\n   Pressure(in)  ...  Station Stop  Traffic_Calming Traffic_Signal  \\\n0         29.79  ...        0    0                0              1   \n1         29.81  ...        0    0                0              0   \n2         29.83  ...        0    0                0              0   \n3         29.81  ...        0    0                0              0   \n4         29.86  ...        0    0                0              0   \n\n   Turning_Loop  Sunrise_Sunset  Civil_Twilight  Nautical_Twilight  \\\n0             0           Night             Day                Day   \n1             0             Day             Day                Day   \n2             0             Day             Day                Day   \n3             0             Day             Day                Day   \n4             0             Day             Day                Day   \n\n   Astronomical_Twilight  TimeTaken  \n0                    Day       2681  \n1                    Day       2689  \n2                    Day       5374  \n3                    Day       5384  \n4                    Day       2689  \n\n[5 rows x 32 columns]",
      "text/html": "<div>\n<style scoped>\n    .dataframe tbody tr th:only-of-type {\n        vertical-align: middle;\n    }\n\n    .dataframe tbody tr th {\n        vertical-align: top;\n    }\n\n    .dataframe thead th {\n        text-align: right;\n    }\n</style>\n<table border=\"1\" class=\"dataframe\">\n  <thead>\n    <tr style=\"text-align: right;\">\n      <th></th>\n      <th>Severity</th>\n      <th>Start_Time</th>\n      <th>Start_Lat</th>\n      <th>Start_Lng</th>\n      <th>Distance(mi)</th>\n      <th>Street</th>\n      <th>Zipcode</th>\n      <th>Temperature(F)</th>\n      <th>Humidity(%)</th>\n      <th>Pressure(in)</th>\n      <th>...</th>\n      <th>Station</th>\n      <th>Stop</th>\n      <th>Traffic_Calming</th>\n      <th>Traffic_Signal</th>\n      <th>Turning_Loop</th>\n      <th>Sunrise_Sunset</th>\n      <th>Civil_Twilight</th>\n      <th>Nautical_Twilight</th>\n      <th>Astronomical_Twilight</th>\n      <th>TimeTaken</th>\n    </tr>\n  </thead>\n  <tbody>\n    <tr>\n      <th>0</th>\n      <td>2</td>\n      <td>2016-11-30 16:37:24</td>\n      <td>40.775616</td>\n      <td>-74.237305</td>\n      <td>0.01</td>\n      <td>Main St</td>\n      <td>07050-1520</td>\n      <td>55.0</td>\n      <td>93.0</td>\n      <td>29.79</td>\n      <td>...</td>\n      <td>0</td>\n      <td>0</td>\n      <td>0</td>\n      <td>1</td>\n      <td>0</td>\n      <td>Night</td>\n      <td>Day</td>\n      <td>Day</td>\n      <td>Day</td>\n      <td>2681</td>\n    </tr>\n    <tr>\n      <th>1</th>\n      <td>3</td>\n      <td>2016-11-30 16:25:41</td>\n      <td>41.139324</td>\n      <td>-74.169876</td>\n      <td>0.01</td>\n      <td>Route 17</td>\n      <td>10974</td>\n      <td>53.1</td>\n      <td>93.0</td>\n      <td>29.81</td>\n      <td>...</td>\n      <td>0</td>\n      <td>0</td>\n      <td>0</td>\n      <td>0</td>\n      <td>0</td>\n      <td>Day</td>\n      <td>Day</td>\n      <td>Day</td>\n      <td>Day</td>\n      <td>2689</td>\n    </tr>\n    <tr>\n      <th>2</th>\n      <td>3</td>\n      <td>2016-11-30 15:40:06</td>\n      <td>41.118748</td>\n      <td>-74.159744</td>\n      <td>2.53</td>\n      <td>I-287 S</td>\n      <td>10901</td>\n      <td>53.1</td>\n      <td>93.0</td>\n      <td>29.83</td>\n      <td>...</td>\n      <td>0</td>\n      <td>0</td>\n      <td>0</td>\n      <td>0</td>\n      <td>0</td>\n      <td>Day</td>\n      <td>Day</td>\n      <td>Day</td>\n      <td>Day</td>\n      <td>5374</td>\n    </tr>\n    <tr>\n      <th>3</th>\n      <td>3</td>\n      <td>2016-11-30 15:26:18</td>\n      <td>41.014034</td>\n      <td>-73.717239</td>\n      <td>1.17</td>\n      <td>Hutchinson River Pkwy S</td>\n      <td>10605</td>\n      <td>52.0</td>\n      <td>93.0</td>\n      <td>29.81</td>\n      <td>...</td>\n      <td>0</td>\n      <td>0</td>\n      <td>0</td>\n      <td>0</td>\n      <td>0</td>\n      <td>Day</td>\n      <td>Day</td>\n      <td>Day</td>\n      <td>Day</td>\n      <td>5384</td>\n    </tr>\n    <tr>\n      <th>4</th>\n      <td>3</td>\n      <td>2016-11-30 16:14:11</td>\n      <td>41.390369</td>\n      <td>-73.597969</td>\n      <td>0.01</td>\n      <td>I-84 E</td>\n      <td>10509</td>\n      <td>52.0</td>\n      <td>89.0</td>\n      <td>29.86</td>\n      <td>...</td>\n      <td>0</td>\n      <td>0</td>\n      <td>0</td>\n      <td>0</td>\n      <td>0</td>\n      <td>Day</td>\n      <td>Day</td>\n      <td>Day</td>\n      <td>Day</td>\n      <td>2689</td>\n    </tr>\n  </tbody>\n</table>\n<p>5 rows × 32 columns</p>\n</div>"
     },
     "execution_count": 30,
     "metadata": {},
     "output_type": "execute_result"
    }
   ],
   "source": [
    "data = data.drop(columns='Precipitation(in)', axis=1)\n",
    "data.head()"
   ],
   "metadata": {
    "collapsed": false,
    "ExecuteTime": {
     "end_time": "2023-12-04T23:51:29.344296Z",
     "start_time": "2023-12-04T23:51:29.294224Z"
    }
   },
   "id": "d3f651eff53d3d16"
  },
  {
   "cell_type": "markdown",
   "source": [
    "Preprocessing for Sunlight, sunset..."
   ],
   "metadata": {
    "collapsed": false
   },
   "id": "533f95c1aa096d4c"
  },
  {
   "cell_type": "code",
   "execution_count": 31,
   "outputs": [
    {
     "data": {
      "text/plain": "Sunrise_Sunset  Civil_Twilight  Nautical_Twilight  Astronomical_Twilight\nDay             Day             Day                Day                      341900\nNight           Night           Night              Night                     80803\n                                Day                Day                       23666\n                Day             Day                Day                       22625\n                Night           Night              Day                       19685\nName: count, dtype: int64"
     },
     "execution_count": 31,
     "metadata": {},
     "output_type": "execute_result"
    }
   ],
   "source": [
    "data[['Sunrise_Sunset', 'Civil_Twilight', 'Nautical_Twilight', 'Astronomical_Twilight']].value_counts()"
   ],
   "metadata": {
    "collapsed": false,
    "ExecuteTime": {
     "end_time": "2023-12-04T23:51:31.865802Z",
     "start_time": "2023-12-04T23:51:31.783309Z"
    }
   },
   "id": "64c6b4bc77542fa"
  },
  {
   "cell_type": "code",
   "execution_count": 32,
   "outputs": [
    {
     "data": {
      "text/plain": "Sunrise_Sunset           0\nCivil_Twilight           0\nNautical_Twilight        0\nAstronomical_Twilight    0\ndtype: int64"
     },
     "execution_count": 32,
     "metadata": {},
     "output_type": "execute_result"
    }
   ],
   "source": [
    "data[['Sunrise_Sunset', 'Civil_Twilight', 'Nautical_Twilight', 'Astronomical_Twilight']].isnull().sum()"
   ],
   "metadata": {
    "collapsed": false,
    "ExecuteTime": {
     "end_time": "2023-12-04T23:51:33.843508Z",
     "start_time": "2023-12-04T23:51:33.781135Z"
    }
   },
   "id": "99503358ab4a8cb9"
  },
  {
   "cell_type": "markdown",
   "source": [
    "Label encoding all these columns "
   ],
   "metadata": {
    "collapsed": false
   },
   "id": "d438867771930277"
  },
  {
   "cell_type": "code",
   "execution_count": 33,
   "outputs": [
    {
     "data": {
      "text/plain": "   Severity          Start_Time  Start_Lat  Start_Lng  Distance(mi)  \\\n0         2 2016-11-30 16:37:24  40.775616 -74.237305          0.01   \n1         3 2016-11-30 16:25:41  41.139324 -74.169876          0.01   \n2         3 2016-11-30 15:40:06  41.118748 -74.159744          2.53   \n3         3 2016-11-30 15:26:18  41.014034 -73.717239          1.17   \n4         3 2016-11-30 16:14:11  41.390369 -73.597969          0.01   \n\n                    Street     Zipcode  Temperature(F)  Humidity(%)  \\\n0                  Main St  07050-1520            55.0         93.0   \n1                 Route 17       10974            53.1         93.0   \n2                  I-287 S       10901            53.1         93.0   \n3  Hutchinson River Pkwy S       10605            52.0         93.0   \n4                   I-84 E       10509            52.0         89.0   \n\n   Pressure(in)  ...  Station Stop  Traffic_Calming Traffic_Signal  \\\n0         29.79  ...        0    0                0              1   \n1         29.81  ...        0    0                0              0   \n2         29.83  ...        0    0                0              0   \n3         29.81  ...        0    0                0              0   \n4         29.86  ...        0    0                0              0   \n\n   Turning_Loop  Sunrise_Sunset  Civil_Twilight  Nautical_Twilight  \\\n0             0               1               0                  0   \n1             0               0               0                  0   \n2             0               0               0                  0   \n3             0               0               0                  0   \n4             0               0               0                  0   \n\n   Astronomical_Twilight  TimeTaken  \n0                      0       2681  \n1                      0       2689  \n2                      0       5374  \n3                      0       5384  \n4                      0       2689  \n\n[5 rows x 32 columns]",
      "text/html": "<div>\n<style scoped>\n    .dataframe tbody tr th:only-of-type {\n        vertical-align: middle;\n    }\n\n    .dataframe tbody tr th {\n        vertical-align: top;\n    }\n\n    .dataframe thead th {\n        text-align: right;\n    }\n</style>\n<table border=\"1\" class=\"dataframe\">\n  <thead>\n    <tr style=\"text-align: right;\">\n      <th></th>\n      <th>Severity</th>\n      <th>Start_Time</th>\n      <th>Start_Lat</th>\n      <th>Start_Lng</th>\n      <th>Distance(mi)</th>\n      <th>Street</th>\n      <th>Zipcode</th>\n      <th>Temperature(F)</th>\n      <th>Humidity(%)</th>\n      <th>Pressure(in)</th>\n      <th>...</th>\n      <th>Station</th>\n      <th>Stop</th>\n      <th>Traffic_Calming</th>\n      <th>Traffic_Signal</th>\n      <th>Turning_Loop</th>\n      <th>Sunrise_Sunset</th>\n      <th>Civil_Twilight</th>\n      <th>Nautical_Twilight</th>\n      <th>Astronomical_Twilight</th>\n      <th>TimeTaken</th>\n    </tr>\n  </thead>\n  <tbody>\n    <tr>\n      <th>0</th>\n      <td>2</td>\n      <td>2016-11-30 16:37:24</td>\n      <td>40.775616</td>\n      <td>-74.237305</td>\n      <td>0.01</td>\n      <td>Main St</td>\n      <td>07050-1520</td>\n      <td>55.0</td>\n      <td>93.0</td>\n      <td>29.79</td>\n      <td>...</td>\n      <td>0</td>\n      <td>0</td>\n      <td>0</td>\n      <td>1</td>\n      <td>0</td>\n      <td>1</td>\n      <td>0</td>\n      <td>0</td>\n      <td>0</td>\n      <td>2681</td>\n    </tr>\n    <tr>\n      <th>1</th>\n      <td>3</td>\n      <td>2016-11-30 16:25:41</td>\n      <td>41.139324</td>\n      <td>-74.169876</td>\n      <td>0.01</td>\n      <td>Route 17</td>\n      <td>10974</td>\n      <td>53.1</td>\n      <td>93.0</td>\n      <td>29.81</td>\n      <td>...</td>\n      <td>0</td>\n      <td>0</td>\n      <td>0</td>\n      <td>0</td>\n      <td>0</td>\n      <td>0</td>\n      <td>0</td>\n      <td>0</td>\n      <td>0</td>\n      <td>2689</td>\n    </tr>\n    <tr>\n      <th>2</th>\n      <td>3</td>\n      <td>2016-11-30 15:40:06</td>\n      <td>41.118748</td>\n      <td>-74.159744</td>\n      <td>2.53</td>\n      <td>I-287 S</td>\n      <td>10901</td>\n      <td>53.1</td>\n      <td>93.0</td>\n      <td>29.83</td>\n      <td>...</td>\n      <td>0</td>\n      <td>0</td>\n      <td>0</td>\n      <td>0</td>\n      <td>0</td>\n      <td>0</td>\n      <td>0</td>\n      <td>0</td>\n      <td>0</td>\n      <td>5374</td>\n    </tr>\n    <tr>\n      <th>3</th>\n      <td>3</td>\n      <td>2016-11-30 15:26:18</td>\n      <td>41.014034</td>\n      <td>-73.717239</td>\n      <td>1.17</td>\n      <td>Hutchinson River Pkwy S</td>\n      <td>10605</td>\n      <td>52.0</td>\n      <td>93.0</td>\n      <td>29.81</td>\n      <td>...</td>\n      <td>0</td>\n      <td>0</td>\n      <td>0</td>\n      <td>0</td>\n      <td>0</td>\n      <td>0</td>\n      <td>0</td>\n      <td>0</td>\n      <td>0</td>\n      <td>5384</td>\n    </tr>\n    <tr>\n      <th>4</th>\n      <td>3</td>\n      <td>2016-11-30 16:14:11</td>\n      <td>41.390369</td>\n      <td>-73.597969</td>\n      <td>0.01</td>\n      <td>I-84 E</td>\n      <td>10509</td>\n      <td>52.0</td>\n      <td>89.0</td>\n      <td>29.86</td>\n      <td>...</td>\n      <td>0</td>\n      <td>0</td>\n      <td>0</td>\n      <td>0</td>\n      <td>0</td>\n      <td>0</td>\n      <td>0</td>\n      <td>0</td>\n      <td>0</td>\n      <td>2689</td>\n    </tr>\n  </tbody>\n</table>\n<p>5 rows × 32 columns</p>\n</div>"
     },
     "execution_count": 33,
     "metadata": {},
     "output_type": "execute_result"
    }
   ],
   "source": [
    "le = LabelEncoder()\n",
    "data[['Sunrise_Sunset','Civil_Twilight','Nautical_Twilight','Astronomical_Twilight']] = data[['Sunrise_Sunset','Civil_Twilight','Nautical_Twilight','Astronomical_Twilight']].apply(le.fit_transform)\n",
    "data.head()"
   ],
   "metadata": {
    "collapsed": false,
    "ExecuteTime": {
     "end_time": "2023-12-04T23:51:36.571022Z",
     "start_time": "2023-12-04T23:51:36.392317Z"
    }
   },
   "id": "9ca5883489a73759"
  },
  {
   "cell_type": "markdown",
   "source": [
    "# EDA "
   ],
   "metadata": {
    "collapsed": false
   },
   "id": "58517e79db35f2c3"
  },
  {
   "cell_type": "code",
   "execution_count": 36,
   "outputs": [
    {
     "name": "stderr",
     "output_type": "stream",
     "text": [
      "/Users/manedge/miniconda/envs/EnvironmentTest/lib/python3.11/site-packages/seaborn/_oldcore.py:1498: FutureWarning: is_categorical_dtype is deprecated and will be removed in a future version. Use isinstance(dtype, CategoricalDtype) instead\n",
      "  if pd.api.types.is_categorical_dtype(vector):\n",
      "/Users/manedge/miniconda/envs/EnvironmentTest/lib/python3.11/site-packages/seaborn/_oldcore.py:1498: FutureWarning: is_categorical_dtype is deprecated and will be removed in a future version. Use isinstance(dtype, CategoricalDtype) instead\n",
      "  if pd.api.types.is_categorical_dtype(vector):\n",
      "/Users/manedge/miniconda/envs/EnvironmentTest/lib/python3.11/site-packages/seaborn/_oldcore.py:1498: FutureWarning: is_categorical_dtype is deprecated and will be removed in a future version. Use isinstance(dtype, CategoricalDtype) instead\n",
      "  if pd.api.types.is_categorical_dtype(vector):\n"
     ]
    },
    {
     "data": {
      "text/plain": "<Figure size 960x480 with 1 Axes>",
      "image/png": "[encoded data removed]"
     },
     "metadata": {},
     "output_type": "display_data"
    }
   ],
   "source": [
    "\n",
    "#data['Start_Time'] = pd.to_datetime(data['Start_Time'])\n",
    "\n",
    "\n",
    "newyork_year = pd.DataFrame(data['Start_Time'].dt.year.value_counts()).reset_index().rename(columns={'count':'Cases', 'Start_Time':'Year'}).sort_values(by='Cases', ascending=True)\n",
    "\n",
    "fig, ax = plt.subplots(figsize=(12, 6), dpi=80)\n",
    "\n",
    "# If not, replace them with the correct column names.\n",
    "ax = sns.barplot(y=newyork_year['Cases'], x=newyork_year['Year'], palette=['#9a90e8', '#5d82de', '#3ee6e0', '#40ff53', '#2ee88e'])\n",
    "\n",
    "total = newyork_year['Cases'].sum()\n",
    "for i in ax.patches:\n",
    "    ax.text(i.get_x() + 0.2, i.get_height() - 500, \\\n",
    "            str(round((i.get_height() / total) * 100, 2)) + '%', fontsize=15, weight='bold',\n",
    "            color='black')\n",
    "\n",
    "plt.ylim(0, newyork_year['Cases'].max() + 1000)\n",
    "plt.title('\\nRoad Accident Percentage \\nover the Years in New york\\n', size=20, color='grey')\n",
    "plt.ylabel('\\nAccident Cases\\n', fontsize=15, color='grey')\n",
    "plt.xlabel('\\nYears\\n', fontsize=15, color='grey')\n",
    "plt.xticks(fontsize=13)\n",
    "plt.yticks(fontsize=12)\n",
    "\n",
    "# Remove spines\n",
    "for i in ['bottom', 'top', 'left', 'right']:\n",
    "    ax.spines[i].set_color('white')\n",
    "    ax.spines[i].set_linewidth(1.5)\n",
    "\n",
    "# Hide the remaining spines\n",
    "for k in ['top', 'right', \"bottom\", 'left']:\n",
    "    side = ax.spines[k]\n",
    "    side.set_visible(False)\n",
    "\n",
    "ax.set_axisbelow(True)\n",
    "ax.grid(color='#b2d6c7', linewidth=1, axis='y', alpha=0.3)\n",
    "\n",
    "plt.show()"
   ],
   "metadata": {
    "collapsed": false,
    "ExecuteTime": {
     "end_time": "2023-12-04T23:52:55.278557Z",
     "start_time": "2023-12-04T23:52:55.188410Z"
    }
   },
   "id": "8ca9e9bb1b7f3d13"
  },
  {
   "cell_type": "code",
   "execution_count": 37,
   "outputs": [
    {
     "data": {
      "text/plain": "array([2016, 2017, 2022, 2021, 2020, 2019, 2018], dtype=int32)"
     },
     "execution_count": 37,
     "metadata": {},
     "output_type": "execute_result"
    }
   ],
   "source": [
    "# Filter out rows with the year 2023\n",
    "data = data[data['Start_Time'].dt.year < 2023]\n",
    "\n",
    "# Verify the changes\n",
    "data['Start_Time'].dt.year.unique()"
   ],
   "metadata": {
    "collapsed": false,
    "ExecuteTime": {
     "end_time": "2023-12-04T23:53:03.538886Z",
     "start_time": "2023-12-04T23:53:03.467145Z"
    }
   },
   "id": "1de7b3724171d47e"
  },
  {
   "cell_type": "code",
   "execution_count": 38,
   "outputs": [
    {
     "name": "stderr",
     "output_type": "stream",
     "text": [
      "/Users/manedge/miniconda/envs/EnvironmentTest/lib/python3.11/site-packages/seaborn/_oldcore.py:1498: FutureWarning: is_categorical_dtype is deprecated and will be removed in a future version. Use isinstance(dtype, CategoricalDtype) instead\n",
      "  if pd.api.types.is_categorical_dtype(vector):\n",
      "/Users/manedge/miniconda/envs/EnvironmentTest/lib/python3.11/site-packages/seaborn/_oldcore.py:1498: FutureWarning: is_categorical_dtype is deprecated and will be removed in a future version. Use isinstance(dtype, CategoricalDtype) instead\n",
      "  if pd.api.types.is_categorical_dtype(vector):\n",
      "/Users/manedge/miniconda/envs/EnvironmentTest/lib/python3.11/site-packages/seaborn/_oldcore.py:1498: FutureWarning: is_categorical_dtype is deprecated and will be removed in a future version. Use isinstance(dtype, CategoricalDtype) instead\n",
      "  if pd.api.types.is_categorical_dtype(vector):\n"
     ]
    },
    {
     "data": {
      "text/plain": "<Figure size 800x480 with 1 Axes>",
      "image/png": "[encoded data removed]"
     },
     "metadata": {},
     "output_type": "display_data"
    }
   ],
   "source": [
    "# Assuming df_processed is your DataFrame\n",
    "X = data.copy()\n",
    "\n",
    "# Convert \"Start_Time\" to datetime\n",
    "X[\"Start_Time\"] = pd.to_datetime(X[\"Start_Time\"])\n",
    "\n",
    "# Create a DataFrame for day-wise analysis\n",
    "day_df = pd.DataFrame(X.Start_Time.dt.day_name().value_counts()).reset_index().rename(columns={'count': 'Cases', 'Start_Time': 'Day'})\n",
    "\n",
    "# Plotting\n",
    "fig, ax = plt.subplots(figsize=(10, 6), dpi=80)\n",
    "\n",
    "# Use seaborn to create a bar plot with a custom color palette\n",
    "ax = sns.barplot(y=day_df['Cases'], x=day_df['Day'], palette='viridis')\n",
    "\n",
    "total = X.shape[0]\n",
    "for i in ax.patches:\n",
    "    ax.text(i.get_x() + 0.2, i.get_height() - 20000,\n",
    "            str(round((i.get_height() / total) * 100, 2)) + '%', fontsize=12, weight='bold',\n",
    "            color='white')\n",
    "\n",
    "plt.ylim(0, 100000)\n",
    "plt.title('\\nRoad Accident Percentage \\nfor Different Days of the Week\\n', size=18, color='grey')\n",
    "plt.ylabel('\\nAccident Cases\\n', fontsize=14, color='grey')\n",
    "plt.xlabel('\\nDay of the Week\\n', fontsize=14, color='grey')\n",
    "plt.xticks(fontsize=12, rotation=45)  # Rotate x-axis labels for better visibility\n",
    "plt.yticks(fontsize=12)\n",
    "plt.grid(axis='y', linestyle='--', alpha=0.7)\n",
    "\n",
    "# Remove spines\n",
    "for i in ['top', 'right']:\n",
    "    side = ax.spines[i]\n",
    "    side.set_visible(False)\n",
    "\n",
    "ax.set_axisbelow(True)\n",
    "ax.spines['bottom'].set_bounds(0.005, 6)\n",
    "ax.spines['left'].set_bounds(0, 300000)\n",
    "\n",
    "# Display legend\n",
    "ax.legend(handles=[], prop={'size': 10.5}, loc='best', borderpad=1, edgecolor='white', labelcolor=['#4E5180', '#C5CBE3'])\n",
    "\n",
    "plt.show();"
   ],
   "metadata": {
    "collapsed": false,
    "ExecuteTime": {
     "end_time": "2023-12-04T23:53:08.957101Z",
     "start_time": "2023-12-04T23:53:08.748522Z"
    }
   },
   "id": "5660011d8109c104"
  },
  {
   "cell_type": "code",
   "execution_count": 39,
   "outputs": [
    {
     "name": "stderr",
     "output_type": "stream",
     "text": [
      "/var/folders/2b/36p5ztyn4yj61wp8q88_2fxh0000gn/T/ipykernel_73514/271944503.py:15: FutureWarning: Calling int on a single element Series is deprecated and will raise a TypeError in the future. Use int(ser.iloc[0]) instead\n",
      "  if int(hour_df[hour_df['Cases'] == x]['Hour']) <= 11:\n",
      "/Users/manedge/miniconda/envs/EnvironmentTest/lib/python3.11/site-packages/seaborn/_oldcore.py:1498: FutureWarning: is_categorical_dtype is deprecated and will be removed in a future version. Use isinstance(dtype, CategoricalDtype) instead\n",
      "  if pd.api.types.is_categorical_dtype(vector):\n",
      "/Users/manedge/miniconda/envs/EnvironmentTest/lib/python3.11/site-packages/seaborn/_oldcore.py:1498: FutureWarning: is_categorical_dtype is deprecated and will be removed in a future version. Use isinstance(dtype, CategoricalDtype) instead\n",
      "  if pd.api.types.is_categorical_dtype(vector):\n",
      "/Users/manedge/miniconda/envs/EnvironmentTest/lib/python3.11/site-packages/seaborn/_oldcore.py:1498: FutureWarning: is_categorical_dtype is deprecated and will be removed in a future version. Use isinstance(dtype, CategoricalDtype) instead\n",
      "  if pd.api.types.is_categorical_dtype(vector):\n"
     ]
    },
    {
     "data": {
      "text/plain": "<Figure size 960x480 with 2 Axes>",
      "image/png": "[encoded data removed]"
     },
     "metadata": {},
     "output_type": "display_data"
    }
   ],
   "source": [
    "# Assuming df_processed is your DataFrame\n",
    "X = data.copy()\n",
    "\n",
    "# Convert \"Start_Time\" to datetime\n",
    "X[\"Start_Time\"] = pd.to_datetime(X[\"Start_Time\"])\n",
    "\n",
    "# Extract hour and create a DataFrame\n",
    "hour_df = pd.DataFrame(X.Start_Time.dt.hour.value_counts()).reset_index().rename(columns={'count': 'Cases', 'Start_Time': 'Hour'}).sort_values('Hour')\n",
    "\n",
    "# Plotting\n",
    "fig, ax = plt.subplots(figsize=(12, 6), dpi=80)\n",
    "\n",
    "clrs = []\n",
    "for x in hour_df['Cases']:\n",
    "    if int(hour_df[hour_df['Cases'] == x]['Hour']) <= 11:\n",
    "        if (x == max(list(hour_df['Cases'])[:12])):\n",
    "            clrs.append('grey')\n",
    "        else:\n",
    "            clrs.append('#05ffda')\n",
    "    else:\n",
    "        if (x == max(list(hour_df['Cases'])[12:])):\n",
    "            clrs.append('grey')\n",
    "        else:\n",
    "            clrs.append('#2426b3')\n",
    "\n",
    "ax = sns.barplot(y=hour_df['Cases'], x=hour_df['Hour'], palette=clrs)\n",
    "ax1 = ax.twinx()\n",
    "\n",
    "# sns.lineplot(data=hour_df, marker='o', x='Hour', y='Cases', color='white', alpha=1)\n",
    "\n",
    "total = X.shape[0]\n",
    "for i in ax.patches:\n",
    "    ax.text(i.get_x(), i.get_height() + 1000,\n",
    "            str(round((i.get_height() / total) * 100, 2)) + '%', fontsize=10,\n",
    "            color='black')\n",
    "\n",
    "plt.ylim(1000, 150000)\n",
    "plt.title('\\nRoad Accident Percentage \\nfor Different Hours Along the Day\\n', size=20, color='grey')\n",
    "\n",
    "ax1.axes.yaxis.set_visible(False)\n",
    "ax.set_xlabel('\\nHours\\n', fontsize=15, color='grey')\n",
    "ax.set_ylabel('\\nAccident Cases\\n', fontsize=15, color='grey')\n",
    "\n",
    "for i in ['bottom', 'top', 'left', 'right']:\n",
    "    #     ax.spines[i].set_color('white')\n",
    "    ax.spines[i].set_linewidth(1.5)\n",
    "    #     ax1.spines[i].set_color('white')\n",
    "    ax1.spines[i].set_linewidth(1.5)\n",
    "\n",
    "ax.set_axisbelow(True)\n",
    "ax.grid(color='#b2d6c7', linewidth=1, alpha=.3)\n",
    "ax.tick_params(axis='both', which='major', labelsize=12)\n",
    "\n",
    "MA = mpatches.Patch(color='grey', label='Hour with Maximum\\n no. of Road Accidents')\n",
    "MO = mpatches.Patch(color='#05ffda', label='Morning Hours')\n",
    "NI = mpatches.Patch(color='#2426b3', label='Night Hours')\n",
    "\n",
    "# ax.legend(handles=[MA, MO, NI], prop={'size': 10.5}, loc='upper left', borderpad=1, edgecolor='white')\n",
    "\n",
    "plt.show()"
   ],
   "metadata": {
    "collapsed": false,
    "ExecuteTime": {
     "end_time": "2023-12-04T23:53:17.165216Z",
     "start_time": "2023-12-04T23:53:16.940569Z"
    }
   },
   "id": "f70717d2bfcedc54"
  },
  {
   "cell_type": "markdown",
   "source": [
    "# CHECK"
   ],
   "metadata": {
    "collapsed": false
   },
   "id": "f5d8ee391c45cd98"
  },
  {
   "cell_type": "code",
   "execution_count": 40,
   "outputs": [
    {
     "name": "stderr",
     "output_type": "stream",
     "text": [
      "/Users/manedge/miniconda/envs/EnvironmentTest/lib/python3.11/site-packages/seaborn/_oldcore.py:1498: FutureWarning: is_categorical_dtype is deprecated and will be removed in a future version. Use isinstance(dtype, CategoricalDtype) instead\n",
      "  if pd.api.types.is_categorical_dtype(vector):\n",
      "/Users/manedge/miniconda/envs/EnvironmentTest/lib/python3.11/site-packages/seaborn/_oldcore.py:1498: FutureWarning: is_categorical_dtype is deprecated and will be removed in a future version. Use isinstance(dtype, CategoricalDtype) instead\n",
      "  if pd.api.types.is_categorical_dtype(vector):\n",
      "/Users/manedge/miniconda/envs/EnvironmentTest/lib/python3.11/site-packages/seaborn/_oldcore.py:1498: FutureWarning: is_categorical_dtype is deprecated and will be removed in a future version. Use isinstance(dtype, CategoricalDtype) instead\n",
      "  if pd.api.types.is_categorical_dtype(vector):\n",
      "/Users/manedge/miniconda/envs/EnvironmentTest/lib/python3.11/site-packages/seaborn/_oldcore.py:1498: FutureWarning: is_categorical_dtype is deprecated and will be removed in a future version. Use isinstance(dtype, CategoricalDtype) instead\n",
      "  if pd.api.types.is_categorical_dtype(vector):\n"
     ]
    },
    {
     "ename": "AttributeError",
     "evalue": "'numpy.int32' object has no attribute 'startswith'",
     "output_type": "error",
     "traceback": [
      "\u001B[0;31m---------------------------------------------------------------------------\u001B[0m",
      "\u001B[0;31mAttributeError\u001B[0m                            Traceback (most recent call last)",
      "Cell \u001B[0;32mIn[40], line 32\u001B[0m\n\u001B[1;32m     30\u001B[0m \u001B[38;5;66;03m# Plot the bar plot\u001B[39;00m\n\u001B[1;32m     31\u001B[0m plt\u001B[38;5;241m.\u001B[39mfigure(figsize\u001B[38;5;241m=\u001B[39m(\u001B[38;5;241m15\u001B[39m, \u001B[38;5;241m8\u001B[39m))\n\u001B[0;32m---> 32\u001B[0m sns\u001B[38;5;241m.\u001B[39mbarplot(x\u001B[38;5;241m=\u001B[39m\u001B[38;5;124m\"\u001B[39m\u001B[38;5;124mmonth\u001B[39m\u001B[38;5;124m\"\u001B[39m, y\u001B[38;5;241m=\u001B[39m\u001B[38;5;124m\"\u001B[39m\u001B[38;5;124mnumber_of_accidents\u001B[39m\u001B[38;5;124m\"\u001B[39m, hue\u001B[38;5;241m=\u001B[39m\u001B[38;5;124m\"\u001B[39m\u001B[38;5;124myear\u001B[39m\u001B[38;5;124m\"\u001B[39m, data\u001B[38;5;241m=\u001B[39mmonthly_accidents)\n\u001B[1;32m     33\u001B[0m plt\u001B[38;5;241m.\u001B[39mtitle(\u001B[38;5;124m'\u001B[39m\u001B[38;5;124mMonthly Accidents in California Over the Years\u001B[39m\u001B[38;5;124m'\u001B[39m)\n\u001B[1;32m     34\u001B[0m plt\u001B[38;5;241m.\u001B[39mxlabel(\u001B[38;5;124m'\u001B[39m\u001B[38;5;124mMonth\u001B[39m\u001B[38;5;124m'\u001B[39m)\n",
      "File \u001B[0;32m~/miniconda/envs/EnvironmentTest/lib/python3.11/site-packages/seaborn/categorical.py:2763\u001B[0m, in \u001B[0;36mbarplot\u001B[0;34m(data, x, y, hue, order, hue_order, estimator, errorbar, n_boot, units, seed, orient, color, palette, saturation, width, errcolor, errwidth, capsize, dodge, ci, ax, **kwargs)\u001B[0m\n\u001B[1;32m   2760\u001B[0m \u001B[38;5;28;01mif\u001B[39;00m ax \u001B[38;5;129;01mis\u001B[39;00m \u001B[38;5;28;01mNone\u001B[39;00m:\n\u001B[1;32m   2761\u001B[0m     ax \u001B[38;5;241m=\u001B[39m plt\u001B[38;5;241m.\u001B[39mgca()\n\u001B[0;32m-> 2763\u001B[0m plotter\u001B[38;5;241m.\u001B[39mplot(ax, kwargs)\n\u001B[1;32m   2764\u001B[0m \u001B[38;5;28;01mreturn\u001B[39;00m ax\n",
      "File \u001B[0;32m~/miniconda/envs/EnvironmentTest/lib/python3.11/site-packages/seaborn/categorical.py:1587\u001B[0m, in \u001B[0;36m_BarPlotter.plot\u001B[0;34m(self, ax, bar_kws)\u001B[0m\n\u001B[1;32m   1585\u001B[0m \u001B[38;5;250m\u001B[39m\u001B[38;5;124;03m\"\"\"Make the plot.\"\"\"\u001B[39;00m\n\u001B[1;32m   1586\u001B[0m \u001B[38;5;28mself\u001B[39m\u001B[38;5;241m.\u001B[39mdraw_bars(ax, bar_kws)\n\u001B[0;32m-> 1587\u001B[0m \u001B[38;5;28mself\u001B[39m\u001B[38;5;241m.\u001B[39mannotate_axes(ax)\n\u001B[1;32m   1588\u001B[0m \u001B[38;5;28;01mif\u001B[39;00m \u001B[38;5;28mself\u001B[39m\u001B[38;5;241m.\u001B[39morient \u001B[38;5;241m==\u001B[39m \u001B[38;5;124m\"\u001B[39m\u001B[38;5;124mh\u001B[39m\u001B[38;5;124m\"\u001B[39m:\n\u001B[1;32m   1589\u001B[0m     ax\u001B[38;5;241m.\u001B[39minvert_yaxis()\n",
      "File \u001B[0;32m~/miniconda/envs/EnvironmentTest/lib/python3.11/site-packages/seaborn/categorical.py:767\u001B[0m, in \u001B[0;36m_CategoricalPlotter.annotate_axes\u001B[0;34m(self, ax)\u001B[0m\n\u001B[1;32m    764\u001B[0m     ax\u001B[38;5;241m.\u001B[39mset_ylim(\u001B[38;5;241m-\u001B[39m\u001B[38;5;241m.5\u001B[39m, \u001B[38;5;28mlen\u001B[39m(\u001B[38;5;28mself\u001B[39m\u001B[38;5;241m.\u001B[39mplot_data) \u001B[38;5;241m-\u001B[39m \u001B[38;5;241m.5\u001B[39m, auto\u001B[38;5;241m=\u001B[39m\u001B[38;5;28;01mNone\u001B[39;00m)\n\u001B[1;32m    766\u001B[0m \u001B[38;5;28;01mif\u001B[39;00m \u001B[38;5;28mself\u001B[39m\u001B[38;5;241m.\u001B[39mhue_names \u001B[38;5;129;01mis\u001B[39;00m \u001B[38;5;129;01mnot\u001B[39;00m \u001B[38;5;28;01mNone\u001B[39;00m:\n\u001B[0;32m--> 767\u001B[0m     ax\u001B[38;5;241m.\u001B[39mlegend(loc\u001B[38;5;241m=\u001B[39m\u001B[38;5;124m\"\u001B[39m\u001B[38;5;124mbest\u001B[39m\u001B[38;5;124m\"\u001B[39m, title\u001B[38;5;241m=\u001B[39m\u001B[38;5;28mself\u001B[39m\u001B[38;5;241m.\u001B[39mhue_title)\n",
      "File \u001B[0;32m~/miniconda/envs/EnvironmentTest/lib/python3.11/site-packages/matplotlib/axes/_axes.py:322\u001B[0m, in \u001B[0;36mAxes.legend\u001B[0;34m(self, *args, **kwargs)\u001B[0m\n\u001B[1;32m    204\u001B[0m \u001B[38;5;129m@_docstring\u001B[39m\u001B[38;5;241m.\u001B[39mdedent_interpd\n\u001B[1;32m    205\u001B[0m \u001B[38;5;28;01mdef\u001B[39;00m \u001B[38;5;21mlegend\u001B[39m(\u001B[38;5;28mself\u001B[39m, \u001B[38;5;241m*\u001B[39margs, \u001B[38;5;241m*\u001B[39m\u001B[38;5;241m*\u001B[39mkwargs):\n\u001B[1;32m    206\u001B[0m \u001B[38;5;250m    \u001B[39m\u001B[38;5;124;03m\"\"\"\u001B[39;00m\n\u001B[1;32m    207\u001B[0m \u001B[38;5;124;03m    Place a legend on the Axes.\u001B[39;00m\n\u001B[1;32m    208\u001B[0m \n\u001B[0;32m   (...)\u001B[0m\n\u001B[1;32m    320\u001B[0m \u001B[38;5;124;03m    .. plot:: gallery/text_labels_and_annotations/legend.py\u001B[39;00m\n\u001B[1;32m    321\u001B[0m \u001B[38;5;124;03m    \"\"\"\u001B[39;00m\n\u001B[0;32m--> 322\u001B[0m     handles, labels, kwargs \u001B[38;5;241m=\u001B[39m mlegend\u001B[38;5;241m.\u001B[39m_parse_legend_args([\u001B[38;5;28mself\u001B[39m], \u001B[38;5;241m*\u001B[39margs, \u001B[38;5;241m*\u001B[39m\u001B[38;5;241m*\u001B[39mkwargs)\n\u001B[1;32m    323\u001B[0m     \u001B[38;5;28mself\u001B[39m\u001B[38;5;241m.\u001B[39mlegend_ \u001B[38;5;241m=\u001B[39m mlegend\u001B[38;5;241m.\u001B[39mLegend(\u001B[38;5;28mself\u001B[39m, handles, labels, \u001B[38;5;241m*\u001B[39m\u001B[38;5;241m*\u001B[39mkwargs)\n\u001B[1;32m    324\u001B[0m     \u001B[38;5;28mself\u001B[39m\u001B[38;5;241m.\u001B[39mlegend_\u001B[38;5;241m.\u001B[39m_remove_method \u001B[38;5;241m=\u001B[39m \u001B[38;5;28mself\u001B[39m\u001B[38;5;241m.\u001B[39m_remove_legend\n",
      "File \u001B[0;32m~/miniconda/envs/EnvironmentTest/lib/python3.11/site-packages/matplotlib/legend.py:1361\u001B[0m, in \u001B[0;36m_parse_legend_args\u001B[0;34m(axs, handles, labels, *args, **kwargs)\u001B[0m\n\u001B[1;32m   1357\u001B[0m     handles \u001B[38;5;241m=\u001B[39m [handle \u001B[38;5;28;01mfor\u001B[39;00m handle, label\n\u001B[1;32m   1358\u001B[0m                \u001B[38;5;129;01min\u001B[39;00m \u001B[38;5;28mzip\u001B[39m(_get_legend_handles(axs, handlers), labels)]\n\u001B[1;32m   1360\u001B[0m \u001B[38;5;28;01melif\u001B[39;00m \u001B[38;5;28mlen\u001B[39m(args) \u001B[38;5;241m==\u001B[39m \u001B[38;5;241m0\u001B[39m:  \u001B[38;5;66;03m# 0 args: automatically detect labels and handles.\u001B[39;00m\n\u001B[0;32m-> 1361\u001B[0m     handles, labels \u001B[38;5;241m=\u001B[39m _get_legend_handles_labels(axs, handlers)\n\u001B[1;32m   1362\u001B[0m     \u001B[38;5;28;01mif\u001B[39;00m \u001B[38;5;129;01mnot\u001B[39;00m handles:\n\u001B[1;32m   1363\u001B[0m         log\u001B[38;5;241m.\u001B[39mwarning(\n\u001B[1;32m   1364\u001B[0m             \u001B[38;5;124m\"\u001B[39m\u001B[38;5;124mNo artists with labels found to put in legend.  Note that \u001B[39m\u001B[38;5;124m\"\u001B[39m\n\u001B[1;32m   1365\u001B[0m             \u001B[38;5;124m\"\u001B[39m\u001B[38;5;124martists whose label start with an underscore are ignored \u001B[39m\u001B[38;5;124m\"\u001B[39m\n\u001B[1;32m   1366\u001B[0m             \u001B[38;5;124m\"\u001B[39m\u001B[38;5;124mwhen legend() is called with no argument.\u001B[39m\u001B[38;5;124m\"\u001B[39m)\n",
      "File \u001B[0;32m~/miniconda/envs/EnvironmentTest/lib/python3.11/site-packages/matplotlib/legend.py:1291\u001B[0m, in \u001B[0;36m_get_legend_handles_labels\u001B[0;34m(axs, legend_handler_map)\u001B[0m\n\u001B[1;32m   1289\u001B[0m \u001B[38;5;28;01mfor\u001B[39;00m handle \u001B[38;5;129;01min\u001B[39;00m _get_legend_handles(axs, legend_handler_map):\n\u001B[1;32m   1290\u001B[0m     label \u001B[38;5;241m=\u001B[39m handle\u001B[38;5;241m.\u001B[39mget_label()\n\u001B[0;32m-> 1291\u001B[0m     \u001B[38;5;28;01mif\u001B[39;00m label \u001B[38;5;129;01mand\u001B[39;00m \u001B[38;5;129;01mnot\u001B[39;00m label\u001B[38;5;241m.\u001B[39mstartswith(\u001B[38;5;124m'\u001B[39m\u001B[38;5;124m_\u001B[39m\u001B[38;5;124m'\u001B[39m):\n\u001B[1;32m   1292\u001B[0m         handles\u001B[38;5;241m.\u001B[39mappend(handle)\n\u001B[1;32m   1293\u001B[0m         labels\u001B[38;5;241m.\u001B[39mappend(label)\n",
      "\u001B[0;31mAttributeError\u001B[0m: 'numpy.int32' object has no attribute 'startswith'"
     ]
    },
    {
     "data": {
      "text/plain": "<Figure size 1500x800 with 1 Axes>",
      "image/png": "[encoded data removed]"
     },
     "metadata": {},
     "output_type": "display_data"
    }
   ],
   "source": [
    "X = data.copy()\n",
    "\n",
    "X['Start_Time'] = pd.to_datetime(X['Start_Time'])\n",
    "\n",
    "# Extract month and year from 'Start_Time'\n",
    "X['month'] = X['Start_Time'].dt.month\n",
    "X['year'] = X['Start_Time'].dt.year\n",
    "\n",
    "# Map numerical month to its corresponding name\n",
    "X['month'] = X['month'].map({\n",
    "    1: \"January\",\n",
    "    2: \"February\",\n",
    "    3: \"March\",\n",
    "    4: \"April\",\n",
    "    5: \"May\",\n",
    "    6: \"June\",\n",
    "    7: \"July\",\n",
    "    8: \"August\",\n",
    "    9: \"September\",\n",
    "    10: \"October\",\n",
    "    11: \"November\",\n",
    "    12: \"December\"\n",
    "})\n",
    "\n",
    "# Create a DataFrame for monthly accidents\n",
    "monthly_accidents = X.groupby(['year', 'month']).size().reset_index(name='number_of_accidents')\n",
    "\n",
    "# Plot the bar plot\n",
    "plt.figure(figsize=(15, 8))\n",
    "sns.barplot(x=\"month\", y=\"number_of_accidents\", hue=\"year\", data=monthly_accidents)\n",
    "plt.title('Monthly Accidents in New york Over the Years')\n",
    "plt.xlabel('Month')\n",
    "plt.ylabel('Number of Accidents')\n",
    "plt.show()"
   ],
   "metadata": {
    "collapsed": false,
    "ExecuteTime": {
     "end_time": "2023-12-04T23:53:26.568828Z",
     "start_time": "2023-12-04T23:53:25.704704Z"
    }
   },
   "id": "fb6f83017e2d36b1"
  },
  {
   "cell_type": "code",
   "execution_count": 41,
   "outputs": [
    {
     "data": {
      "text/plain": "<Figure size 1500x1000 with 2 Axes>",
      "image/png": "[encoded data removed]"
     },
     "metadata": {},
     "output_type": "display_data"
    }
   ],
   "source": [
    "# Assuming df_processed is your DataFrame\n",
    "corr_matrix = data[['Severity', 'Start_Lat', 'Start_Lng', 'Distance(mi)','Temperature(F)', 'Humidity(%)', 'Pressure(in)', 'Visibility(mi)', 'Wind_Speed(mph)','TimeTaken']].corr()\n",
    "\n",
    "plt.figure(figsize=(15, 10))\n",
    "# Use vmin and vmax to set the color scale to represent correlation values between -1 and 1\n",
    "sns.heatmap(corr_matrix, vmin=-1, vmax=1, annot=True, cmap=\"seismic\", fmt=\".2f\")\n",
    "plt.gca().patch.set(hatch=\"X\", edgecolor=\"#666\")\n",
    "plt.show()"
   ],
   "metadata": {
    "collapsed": false,
    "ExecuteTime": {
     "end_time": "2023-12-04T23:53:55.022292Z",
     "start_time": "2023-12-04T23:53:54.816685Z"
    }
   },
   "id": "5174f9ebfd513b32"
  },
  {
   "cell_type": "code",
   "execution_count": 42,
   "outputs": [
    {
     "data": {
      "text/plain": "Index(['Severity', 'Start_Time', 'Start_Lat', 'Start_Lng', 'Distance(mi)',\n       'Street', 'Zipcode', 'Temperature(F)', 'Humidity(%)', 'Pressure(in)',\n       'Visibility(mi)', 'Wind_Direction', 'Wind_Speed(mph)',\n       'Weather_Condition', 'Amenity', 'Bump', 'Crossing', 'Give_Way',\n       'Junction', 'No_Exit', 'Railway', 'Roundabout', 'Station', 'Stop',\n       'Traffic_Calming', 'Traffic_Signal', 'Turning_Loop', 'Sunrise_Sunset',\n       'Civil_Twilight', 'Nautical_Twilight', 'Astronomical_Twilight',\n       'TimeTaken'],\n      dtype='object')"
     },
     "execution_count": 42,
     "metadata": {},
     "output_type": "execute_result"
    }
   ],
   "source": [
    "data.columns"
   ],
   "metadata": {
    "collapsed": false,
    "ExecuteTime": {
     "end_time": "2023-12-04T23:53:56.563275Z",
     "start_time": "2023-12-04T23:53:56.526035Z"
    }
   },
   "id": "b9eba9c79fd630f1"
  },
  {
   "cell_type": "markdown",
   "source": [
    "# Scaling and Target Encoding  "
   ],
   "metadata": {
    "collapsed": false
   },
   "id": "ceafbb133507f7d1"
  },
  {
   "cell_type": "code",
   "execution_count": 43,
   "outputs": [
    {
     "data": {
      "text/plain": "Index(['Severity', 'Start_Time', 'Start_Lat', 'Start_Lng', 'Distance(mi)',\n       'Street', 'Zipcode', 'Temperature(F)', 'Humidity(%)', 'Pressure(in)',\n       'Visibility(mi)', 'Wind_Direction', 'Wind_Speed(mph)',\n       'Weather_Condition', 'Amenity', 'Bump', 'Crossing', 'Give_Way',\n       'Junction', 'No_Exit', 'Railway', 'Roundabout', 'Station', 'Stop',\n       'Traffic_Calming', 'Traffic_Signal', 'Turning_Loop', 'Sunrise_Sunset',\n       'Civil_Twilight', 'Nautical_Twilight', 'Astronomical_Twilight',\n       'TimeTaken'],\n      dtype='object')"
     },
     "execution_count": 43,
     "metadata": {},
     "output_type": "execute_result"
    }
   ],
   "source": [
    "data.columns"
   ],
   "metadata": {
    "collapsed": false,
    "ExecuteTime": {
     "end_time": "2023-12-04T23:53:58.944495Z",
     "start_time": "2023-12-04T23:53:58.914333Z"
    }
   },
   "id": "e2b083f98e8d30c0"
  },
  {
   "cell_type": "code",
   "execution_count": 44,
   "outputs": [],
   "source": [
    "data = data.drop('Wind_Speed(mph)', axis=1)"
   ],
   "metadata": {
    "collapsed": false,
    "ExecuteTime": {
     "end_time": "2023-12-04T23:54:00.909579Z",
     "start_time": "2023-12-04T23:54:00.872384Z"
    }
   },
   "id": "d575a54284753231"
  },
  {
   "cell_type": "code",
   "execution_count": 45,
   "outputs": [
    {
     "data": {
      "text/plain": "   Severity          Start_Time  Start_Lat  Start_Lng  Distance(mi)  \\\n0         2 2016-11-30 16:37:24  -0.472877   0.205818     -0.361368   \n1         3 2016-11-30 16:25:41  -0.109174   0.256066     -0.361368   \n2         3 2016-11-30 15:40:06  -0.129749   0.263616      0.946431   \n3         3 2016-11-30 15:26:18  -0.234462   0.593365      0.240635   \n4         3 2016-11-30 16:14:11   0.141869   0.682244     -0.361368   \n\n                    Street     Zipcode  Temperature(F)  Humidity(%)  \\\n0                  Main St  07050-1520       -0.053000     1.345197   \n1                 Route 17       10974       -0.152607     1.345197   \n2                  I-287 S       10901       -0.152607     1.345197   \n3  Hutchinson River Pkwy S       10605       -0.210275     1.345197   \n4                   I-84 E       10509       -0.210275     1.149605   \n\n   Pressure(in)  ...  Station Stop Traffic_Calming  Traffic_Signal  \\\n0     -0.208519  ...        0    0               0               1   \n1     -0.151751  ...        0    0               0               0   \n2     -0.094983  ...        0    0               0               0   \n3     -0.151751  ...        0    0               0               0   \n4     -0.009831  ...        0    0               0               0   \n\n   Turning_Loop  Sunrise_Sunset  Civil_Twilight  Nautical_Twilight  \\\n0             0               1               0                  0   \n1             0               0               0                  0   \n2             0               0               0                  0   \n3             0               0               0                  0   \n4             0               0               0                  0   \n\n   Astronomical_Twilight  TimeTaken  \n0                      0  -0.542339  \n1                      0  -0.541330  \n2                      0  -0.202782  \n3                      0  -0.201521  \n4                      0  -0.541330  \n\n[5 rows x 31 columns]",
      "text/html": "<div>\n<style scoped>\n    .dataframe tbody tr th:only-of-type {\n        vertical-align: middle;\n    }\n\n    .dataframe tbody tr th {\n        vertical-align: top;\n    }\n\n    .dataframe thead th {\n        text-align: right;\n    }\n</style>\n<table border=\"1\" class=\"dataframe\">\n  <thead>\n    <tr style=\"text-align: right;\">\n      <th></th>\n      <th>Severity</th>\n      <th>Start_Time</th>\n      <th>Start_Lat</th>\n      <th>Start_Lng</th>\n      <th>Distance(mi)</th>\n      <th>Street</th>\n      <th>Zipcode</th>\n      <th>Temperature(F)</th>\n      <th>Humidity(%)</th>\n      <th>Pressure(in)</th>\n      <th>...</th>\n      <th>Station</th>\n      <th>Stop</th>\n      <th>Traffic_Calming</th>\n      <th>Traffic_Signal</th>\n      <th>Turning_Loop</th>\n      <th>Sunrise_Sunset</th>\n      <th>Civil_Twilight</th>\n      <th>Nautical_Twilight</th>\n      <th>Astronomical_Twilight</th>\n      <th>TimeTaken</th>\n    </tr>\n  </thead>\n  <tbody>\n    <tr>\n      <th>0</th>\n      <td>2</td>\n      <td>2016-11-30 16:37:24</td>\n      <td>-0.472877</td>\n      <td>0.205818</td>\n      <td>-0.361368</td>\n      <td>Main St</td>\n      <td>07050-1520</td>\n      <td>-0.053000</td>\n      <td>1.345197</td>\n      <td>-0.208519</td>\n      <td>...</td>\n      <td>0</td>\n      <td>0</td>\n      <td>0</td>\n      <td>1</td>\n      <td>0</td>\n      <td>1</td>\n      <td>0</td>\n      <td>0</td>\n      <td>0</td>\n      <td>-0.542339</td>\n    </tr>\n    <tr>\n      <th>1</th>\n      <td>3</td>\n      <td>2016-11-30 16:25:41</td>\n      <td>-0.109174</td>\n      <td>0.256066</td>\n      <td>-0.361368</td>\n      <td>Route 17</td>\n      <td>10974</td>\n      <td>-0.152607</td>\n      <td>1.345197</td>\n      <td>-0.151751</td>\n      <td>...</td>\n      <td>0</td>\n      <td>0</td>\n      <td>0</td>\n      <td>0</td>\n      <td>0</td>\n      <td>0</td>\n      <td>0</td>\n      <td>0</td>\n      <td>0</td>\n      <td>-0.541330</td>\n    </tr>\n    <tr>\n      <th>2</th>\n      <td>3</td>\n      <td>2016-11-30 15:40:06</td>\n      <td>-0.129749</td>\n      <td>0.263616</td>\n      <td>0.946431</td>\n      <td>I-287 S</td>\n      <td>10901</td>\n      <td>-0.152607</td>\n      <td>1.345197</td>\n      <td>-0.094983</td>\n      <td>...</td>\n      <td>0</td>\n      <td>0</td>\n      <td>0</td>\n      <td>0</td>\n      <td>0</td>\n      <td>0</td>\n      <td>0</td>\n      <td>0</td>\n      <td>0</td>\n      <td>-0.202782</td>\n    </tr>\n    <tr>\n      <th>3</th>\n      <td>3</td>\n      <td>2016-11-30 15:26:18</td>\n      <td>-0.234462</td>\n      <td>0.593365</td>\n      <td>0.240635</td>\n      <td>Hutchinson River Pkwy S</td>\n      <td>10605</td>\n      <td>-0.210275</td>\n      <td>1.345197</td>\n      <td>-0.151751</td>\n      <td>...</td>\n      <td>0</td>\n      <td>0</td>\n      <td>0</td>\n      <td>0</td>\n      <td>0</td>\n      <td>0</td>\n      <td>0</td>\n      <td>0</td>\n      <td>0</td>\n      <td>-0.201521</td>\n    </tr>\n    <tr>\n      <th>4</th>\n      <td>3</td>\n      <td>2016-11-30 16:14:11</td>\n      <td>0.141869</td>\n      <td>0.682244</td>\n      <td>-0.361368</td>\n      <td>I-84 E</td>\n      <td>10509</td>\n      <td>-0.210275</td>\n      <td>1.149605</td>\n      <td>-0.009831</td>\n      <td>...</td>\n      <td>0</td>\n      <td>0</td>\n      <td>0</td>\n      <td>0</td>\n      <td>0</td>\n      <td>0</td>\n      <td>0</td>\n      <td>0</td>\n      <td>0</td>\n      <td>-0.541330</td>\n    </tr>\n  </tbody>\n</table>\n<p>5 rows × 31 columns</p>\n</div>"
     },
     "execution_count": 45,
     "metadata": {},
     "output_type": "execute_result"
    }
   ],
   "source": [
    "scaler = StandardScaler()\n",
    "data[['Start_Lat', 'Start_Lng', 'Distance(mi)','Temperature(F)', 'Humidity(%)', 'Pressure(in)', 'Visibility(mi)', 'TimeTaken']] = scaler.fit_transform(data[['Start_Lat', 'Start_Lng', 'Distance(mi)','Temperature(F)', 'Humidity(%)', 'Pressure(in)', 'Visibility(mi)', 'TimeTaken']])\n",
    "data.head()"
   ],
   "metadata": {
    "collapsed": false,
    "ExecuteTime": {
     "end_time": "2023-12-04T23:54:03.354087Z",
     "start_time": "2023-12-04T23:54:03.306542Z"
    }
   },
   "id": "24f6b20a5984b540"
  },
  {
   "cell_type": "code",
   "execution_count": 46,
   "outputs": [],
   "source": [
    "Te = TargetEncoder(target_type='continuous')\n",
    "data[['Zipcode','Street','Wind_Direction','Weather_Condition']] = Te.fit_transform(data[['Zipcode','Street','Wind_Direction','Weather_Condition']], data.Severity)"
   ],
   "metadata": {
    "collapsed": false,
    "ExecuteTime": {
     "end_time": "2023-12-04T23:54:05.874196Z",
     "start_time": "2023-12-04T23:54:05.509929Z"
    }
   },
   "id": "430c80429293e73d"
  },
  {
   "cell_type": "code",
   "execution_count": 47,
   "outputs": [
    {
     "data": {
      "text/plain": "   Severity          Start_Time  Start_Lat  Start_Lng  Distance(mi)    Street  \\\n0         2 2016-11-30 16:37:24  -0.472877   0.205818     -0.361368 -0.002357   \n1         3 2016-11-30 16:25:41  -0.109174   0.256066     -0.361368  0.547821   \n2         3 2016-11-30 15:40:06  -0.129749   0.263616      0.946431  1.152862   \n3         3 2016-11-30 15:26:18  -0.234462   0.593365      0.240635 -0.042970   \n4         3 2016-11-30 16:14:11   0.141869   0.682244     -0.361368  0.632058   \n\n    Zipcode  Temperature(F)  Humidity(%)  Pressure(in)  ...  Station  Stop  \\\n0  0.581094       -0.053000     1.345197     -0.208519  ...        0     0   \n1  2.793280       -0.152607     1.345197     -0.151751  ...        0     0   \n2  0.899015       -0.152607     1.345197     -0.094983  ...        0     0   \n3 -0.217501       -0.210275     1.345197     -0.151751  ...        0     0   \n4  1.180043       -0.210275     1.149605     -0.009831  ...        0     0   \n\n   Traffic_Calming  Traffic_Signal  Turning_Loop  Sunrise_Sunset  \\\n0                0               1             0               1   \n1                0               0             0               0   \n2                0               0             0               0   \n3                0               0             0               0   \n4                0               0             0               0   \n\n   Civil_Twilight  Nautical_Twilight  Astronomical_Twilight  TimeTaken  \n0               0                  0                      0  -0.542339  \n1               0                  0                      0  -0.541330  \n2               0                  0                      0  -0.202782  \n3               0                  0                      0  -0.201521  \n4               0                  0                      0  -0.541330  \n\n[5 rows x 31 columns]",
      "text/html": "<div>\n<style scoped>\n    .dataframe tbody tr th:only-of-type {\n        vertical-align: middle;\n    }\n\n    .dataframe tbody tr th {\n        vertical-align: top;\n    }\n\n    .dataframe thead th {\n        text-align: right;\n    }\n</style>\n<table border=\"1\" class=\"dataframe\">\n  <thead>\n    <tr style=\"text-align: right;\">\n      <th></th>\n      <th>Severity</th>\n      <th>Start_Time</th>\n      <th>Start_Lat</th>\n      <th>Start_Lng</th>\n      <th>Distance(mi)</th>\n      <th>Street</th>\n      <th>Zipcode</th>\n      <th>Temperature(F)</th>\n      <th>Humidity(%)</th>\n      <th>Pressure(in)</th>\n      <th>...</th>\n      <th>Station</th>\n      <th>Stop</th>\n      <th>Traffic_Calming</th>\n      <th>Traffic_Signal</th>\n      <th>Turning_Loop</th>\n      <th>Sunrise_Sunset</th>\n      <th>Civil_Twilight</th>\n      <th>Nautical_Twilight</th>\n      <th>Astronomical_Twilight</th>\n      <th>TimeTaken</th>\n    </tr>\n  </thead>\n  <tbody>\n    <tr>\n      <th>0</th>\n      <td>2</td>\n      <td>2016-11-30 16:37:24</td>\n      <td>-0.472877</td>\n      <td>0.205818</td>\n      <td>-0.361368</td>\n      <td>-0.002357</td>\n      <td>0.581094</td>\n      <td>-0.053000</td>\n      <td>1.345197</td>\n      <td>-0.208519</td>\n      <td>...</td>\n      <td>0</td>\n      <td>0</td>\n      <td>0</td>\n      <td>1</td>\n      <td>0</td>\n      <td>1</td>\n      <td>0</td>\n      <td>0</td>\n      <td>0</td>\n      <td>-0.542339</td>\n    </tr>\n    <tr>\n      <th>1</th>\n      <td>3</td>\n      <td>2016-11-30 16:25:41</td>\n      <td>-0.109174</td>\n      <td>0.256066</td>\n      <td>-0.361368</td>\n      <td>0.547821</td>\n      <td>2.793280</td>\n      <td>-0.152607</td>\n      <td>1.345197</td>\n      <td>-0.151751</td>\n      <td>...</td>\n      <td>0</td>\n      <td>0</td>\n      <td>0</td>\n      <td>0</td>\n      <td>0</td>\n      <td>0</td>\n      <td>0</td>\n      <td>0</td>\n      <td>0</td>\n      <td>-0.541330</td>\n    </tr>\n    <tr>\n      <th>2</th>\n      <td>3</td>\n      <td>2016-11-30 15:40:06</td>\n      <td>-0.129749</td>\n      <td>0.263616</td>\n      <td>0.946431</td>\n      <td>1.152862</td>\n      <td>0.899015</td>\n      <td>-0.152607</td>\n      <td>1.345197</td>\n      <td>-0.094983</td>\n      <td>...</td>\n      <td>0</td>\n      <td>0</td>\n      <td>0</td>\n      <td>0</td>\n      <td>0</td>\n      <td>0</td>\n      <td>0</td>\n      <td>0</td>\n      <td>0</td>\n      <td>-0.202782</td>\n    </tr>\n    <tr>\n      <th>3</th>\n      <td>3</td>\n      <td>2016-11-30 15:26:18</td>\n      <td>-0.234462</td>\n      <td>0.593365</td>\n      <td>0.240635</td>\n      <td>-0.042970</td>\n      <td>-0.217501</td>\n      <td>-0.210275</td>\n      <td>1.345197</td>\n      <td>-0.151751</td>\n      <td>...</td>\n      <td>0</td>\n      <td>0</td>\n      <td>0</td>\n      <td>0</td>\n      <td>0</td>\n      <td>0</td>\n      <td>0</td>\n      <td>0</td>\n      <td>0</td>\n      <td>-0.201521</td>\n    </tr>\n    <tr>\n      <th>4</th>\n      <td>3</td>\n      <td>2016-11-30 16:14:11</td>\n      <td>0.141869</td>\n      <td>0.682244</td>\n      <td>-0.361368</td>\n      <td>0.632058</td>\n      <td>1.180043</td>\n      <td>-0.210275</td>\n      <td>1.149605</td>\n      <td>-0.009831</td>\n      <td>...</td>\n      <td>0</td>\n      <td>0</td>\n      <td>0</td>\n      <td>0</td>\n      <td>0</td>\n      <td>0</td>\n      <td>0</td>\n      <td>0</td>\n      <td>0</td>\n      <td>-0.541330</td>\n    </tr>\n  </tbody>\n</table>\n<p>5 rows × 31 columns</p>\n</div>"
     },
     "execution_count": 47,
     "metadata": {},
     "output_type": "execute_result"
    }
   ],
   "source": [
    "data[['Zipcode','Street','Wind_Direction','Weather_Condition']] = scaler.fit_transform(data[['Street','Zipcode','Wind_Direction','Weather_Condition']])\n",
    "data.head()"
   ],
   "metadata": {
    "collapsed": false,
    "ExecuteTime": {
     "end_time": "2023-12-04T23:54:06.942086Z",
     "start_time": "2023-12-04T23:54:06.892869Z"
    }
   },
   "id": "34e4bef0179df356"
  },
  {
   "cell_type": "code",
   "execution_count": 48,
   "outputs": [
    {
     "data": {
      "text/plain": "   Severity          Start_Time  Start_Lat  Start_Lng  Distance(mi)    Street  \\\n0         2 2016-11-30 16:37:24  -0.472877   0.205818     -0.361368 -0.002357   \n1         3 2016-11-30 16:25:41  -0.109174   0.256066     -0.361368  0.547821   \n2         3 2016-11-30 15:40:06  -0.129749   0.263616      0.946431  1.152862   \n3         3 2016-11-30 15:26:18  -0.234462   0.593365      0.240635 -0.042970   \n4         3 2016-11-30 16:14:11   0.141869   0.682244     -0.361368  0.632058   \n\n    Zipcode  Temperature(F)  Humidity(%)  Pressure(in)  ...  Station  Stop  \\\n0  0.581094       -0.053000     1.345197     -0.208519  ...        0     0   \n1  2.793280       -0.152607     1.345197     -0.151751  ...        0     0   \n2  0.899015       -0.152607     1.345197     -0.094983  ...        0     0   \n3 -0.217501       -0.210275     1.345197     -0.151751  ...        0     0   \n4  1.180043       -0.210275     1.149605     -0.009831  ...        0     0   \n\n   Traffic_Calming  Traffic_Signal  Turning_Loop  Sunrise_Sunset  \\\n0                0               1             0               1   \n1                0               0             0               0   \n2                0               0             0               0   \n3                0               0             0               0   \n4                0               0             0               0   \n\n   Civil_Twilight  Nautical_Twilight  Astronomical_Twilight  TimeTaken  \n0               0                  0                      0  -0.542339  \n1               0                  0                      0  -0.541330  \n2               0                  0                      0  -0.202782  \n3               0                  0                      0  -0.201521  \n4               0                  0                      0  -0.541330  \n\n[5 rows x 31 columns]",
      "text/html": "<div>\n<style scoped>\n    .dataframe tbody tr th:only-of-type {\n        vertical-align: middle;\n    }\n\n    .dataframe tbody tr th {\n        vertical-align: top;\n    }\n\n    .dataframe thead th {\n        text-align: right;\n    }\n</style>\n<table border=\"1\" class=\"dataframe\">\n  <thead>\n    <tr style=\"text-align: right;\">\n      <th></th>\n      <th>Severity</th>\n      <th>Start_Time</th>\n      <th>Start_Lat</th>\n      <th>Start_Lng</th>\n      <th>Distance(mi)</th>\n      <th>Street</th>\n      <th>Zipcode</th>\n      <th>Temperature(F)</th>\n      <th>Humidity(%)</th>\n      <th>Pressure(in)</th>\n      <th>...</th>\n      <th>Station</th>\n      <th>Stop</th>\n      <th>Traffic_Calming</th>\n      <th>Traffic_Signal</th>\n      <th>Turning_Loop</th>\n      <th>Sunrise_Sunset</th>\n      <th>Civil_Twilight</th>\n      <th>Nautical_Twilight</th>\n      <th>Astronomical_Twilight</th>\n      <th>TimeTaken</th>\n    </tr>\n  </thead>\n  <tbody>\n    <tr>\n      <th>0</th>\n      <td>2</td>\n      <td>2016-11-30 16:37:24</td>\n      <td>-0.472877</td>\n      <td>0.205818</td>\n      <td>-0.361368</td>\n      <td>-0.002357</td>\n      <td>0.581094</td>\n      <td>-0.053000</td>\n      <td>1.345197</td>\n      <td>-0.208519</td>\n      <td>...</td>\n      <td>0</td>\n      <td>0</td>\n      <td>0</td>\n      <td>1</td>\n      <td>0</td>\n      <td>1</td>\n      <td>0</td>\n      <td>0</td>\n      <td>0</td>\n      <td>-0.542339</td>\n    </tr>\n    <tr>\n      <th>1</th>\n      <td>3</td>\n      <td>2016-11-30 16:25:41</td>\n      <td>-0.109174</td>\n      <td>0.256066</td>\n      <td>-0.361368</td>\n      <td>0.547821</td>\n      <td>2.793280</td>\n      <td>-0.152607</td>\n      <td>1.345197</td>\n      <td>-0.151751</td>\n      <td>...</td>\n      <td>0</td>\n      <td>0</td>\n      <td>0</td>\n      <td>0</td>\n      <td>0</td>\n      <td>0</td>\n      <td>0</td>\n      <td>0</td>\n      <td>0</td>\n      <td>-0.541330</td>\n    </tr>\n    <tr>\n      <th>2</th>\n      <td>3</td>\n      <td>2016-11-30 15:40:06</td>\n      <td>-0.129749</td>\n      <td>0.263616</td>\n      <td>0.946431</td>\n      <td>1.152862</td>\n      <td>0.899015</td>\n      <td>-0.152607</td>\n      <td>1.345197</td>\n      <td>-0.094983</td>\n      <td>...</td>\n      <td>0</td>\n      <td>0</td>\n      <td>0</td>\n      <td>0</td>\n      <td>0</td>\n      <td>0</td>\n      <td>0</td>\n      <td>0</td>\n      <td>0</td>\n      <td>-0.202782</td>\n    </tr>\n    <tr>\n      <th>3</th>\n      <td>3</td>\n      <td>2016-11-30 15:26:18</td>\n      <td>-0.234462</td>\n      <td>0.593365</td>\n      <td>0.240635</td>\n      <td>-0.042970</td>\n      <td>-0.217501</td>\n      <td>-0.210275</td>\n      <td>1.345197</td>\n      <td>-0.151751</td>\n      <td>...</td>\n      <td>0</td>\n      <td>0</td>\n      <td>0</td>\n      <td>0</td>\n      <td>0</td>\n      <td>0</td>\n      <td>0</td>\n      <td>0</td>\n      <td>0</td>\n      <td>-0.201521</td>\n    </tr>\n    <tr>\n      <th>4</th>\n      <td>3</td>\n      <td>2016-11-30 16:14:11</td>\n      <td>0.141869</td>\n      <td>0.682244</td>\n      <td>-0.361368</td>\n      <td>0.632058</td>\n      <td>1.180043</td>\n      <td>-0.210275</td>\n      <td>1.149605</td>\n      <td>-0.009831</td>\n      <td>...</td>\n      <td>0</td>\n      <td>0</td>\n      <td>0</td>\n      <td>0</td>\n      <td>0</td>\n      <td>0</td>\n      <td>0</td>\n      <td>0</td>\n      <td>0</td>\n      <td>-0.541330</td>\n    </tr>\n  </tbody>\n</table>\n<p>5 rows × 31 columns</p>\n</div>"
     },
     "execution_count": 48,
     "metadata": {},
     "output_type": "execute_result"
    }
   ],
   "source": [
    "data[['Wind_Direction','Weather_Condition']] = Te.fit_transform(data[['Wind_Direction','Weather_Condition']], data.Severity)\n",
    "data[['Wind_Direction','Weather_Condition']] = scaler.fit_transform(data[['Wind_Direction','Weather_Condition']])\n",
    "data.head()"
   ],
   "metadata": {
    "collapsed": false,
    "ExecuteTime": {
     "end_time": "2023-12-04T23:54:08.949960Z",
     "start_time": "2023-12-04T23:54:08.752091Z"
    }
   },
   "id": "40a6924c222ada07"
  },
  {
   "cell_type": "code",
   "execution_count": 49,
   "outputs": [
    {
     "data": {
      "text/plain": "   Severity          Start_Time  Start_Lat  Start_Lng  Distance(mi)    Street  \\\n0         2 2016-11-30 16:37:24  -0.472877   0.205818     -0.361368 -0.002357   \n1         3 2016-11-30 16:25:41  -0.109174   0.256066     -0.361368  0.547821   \n2         3 2016-11-30 15:40:06  -0.129749   0.263616      0.946431  1.152862   \n3         3 2016-11-30 15:26:18  -0.234462   0.593365      0.240635 -0.042970   \n4         3 2016-11-30 16:14:11   0.141869   0.682244     -0.361368  0.632058   \n\n    Zipcode  Temperature(F)  Humidity(%)  Pressure(in)  ...  Station  Stop  \\\n0  0.581094       -0.053000     1.345197     -0.208519  ...        0     0   \n1  2.793280       -0.152607     1.345197     -0.151751  ...        0     0   \n2  0.899015       -0.152607     1.345197     -0.094983  ...        0     0   \n3 -0.217501       -0.210275     1.345197     -0.151751  ...        0     0   \n4  1.180043       -0.210275     1.149605     -0.009831  ...        0     0   \n\n   Traffic_Calming  Traffic_Signal  Turning_Loop  Sunrise_Sunset  \\\n0                0               1             0               1   \n1                0               0             0               0   \n2                0               0             0               0   \n3                0               0             0               0   \n4                0               0             0               0   \n\n   Civil_Twilight  Nautical_Twilight  Astronomical_Twilight  TimeTaken  \n0               0                  0                      0  -0.542339  \n1               0                  0                      0  -0.541330  \n2               0                  0                      0  -0.202782  \n3               0                  0                      0  -0.201521  \n4               0                  0                      0  -0.541330  \n\n[5 rows x 31 columns]",
      "text/html": "<div>\n<style scoped>\n    .dataframe tbody tr th:only-of-type {\n        vertical-align: middle;\n    }\n\n    .dataframe tbody tr th {\n        vertical-align: top;\n    }\n\n    .dataframe thead th {\n        text-align: right;\n    }\n</style>\n<table border=\"1\" class=\"dataframe\">\n  <thead>\n    <tr style=\"text-align: right;\">\n      <th></th>\n      <th>Severity</th>\n      <th>Start_Time</th>\n      <th>Start_Lat</th>\n      <th>Start_Lng</th>\n      <th>Distance(mi)</th>\n      <th>Street</th>\n      <th>Zipcode</th>\n      <th>Temperature(F)</th>\n      <th>Humidity(%)</th>\n      <th>Pressure(in)</th>\n      <th>...</th>\n      <th>Station</th>\n      <th>Stop</th>\n      <th>Traffic_Calming</th>\n      <th>Traffic_Signal</th>\n      <th>Turning_Loop</th>\n      <th>Sunrise_Sunset</th>\n      <th>Civil_Twilight</th>\n      <th>Nautical_Twilight</th>\n      <th>Astronomical_Twilight</th>\n      <th>TimeTaken</th>\n    </tr>\n  </thead>\n  <tbody>\n    <tr>\n      <th>0</th>\n      <td>2</td>\n      <td>2016-11-30 16:37:24</td>\n      <td>-0.472877</td>\n      <td>0.205818</td>\n      <td>-0.361368</td>\n      <td>-0.002357</td>\n      <td>0.581094</td>\n      <td>-0.053000</td>\n      <td>1.345197</td>\n      <td>-0.208519</td>\n      <td>...</td>\n      <td>0</td>\n      <td>0</td>\n      <td>0</td>\n      <td>1</td>\n      <td>0</td>\n      <td>1</td>\n      <td>0</td>\n      <td>0</td>\n      <td>0</td>\n      <td>-0.542339</td>\n    </tr>\n    <tr>\n      <th>1</th>\n      <td>3</td>\n      <td>2016-11-30 16:25:41</td>\n      <td>-0.109174</td>\n      <td>0.256066</td>\n      <td>-0.361368</td>\n      <td>0.547821</td>\n      <td>2.793280</td>\n      <td>-0.152607</td>\n      <td>1.345197</td>\n      <td>-0.151751</td>\n      <td>...</td>\n      <td>0</td>\n      <td>0</td>\n      <td>0</td>\n      <td>0</td>\n      <td>0</td>\n      <td>0</td>\n      <td>0</td>\n      <td>0</td>\n      <td>0</td>\n      <td>-0.541330</td>\n    </tr>\n    <tr>\n      <th>2</th>\n      <td>3</td>\n      <td>2016-11-30 15:40:06</td>\n      <td>-0.129749</td>\n      <td>0.263616</td>\n      <td>0.946431</td>\n      <td>1.152862</td>\n      <td>0.899015</td>\n      <td>-0.152607</td>\n      <td>1.345197</td>\n      <td>-0.094983</td>\n      <td>...</td>\n      <td>0</td>\n      <td>0</td>\n      <td>0</td>\n      <td>0</td>\n      <td>0</td>\n      <td>0</td>\n      <td>0</td>\n      <td>0</td>\n      <td>0</td>\n      <td>-0.202782</td>\n    </tr>\n    <tr>\n      <th>3</th>\n      <td>3</td>\n      <td>2016-11-30 15:26:18</td>\n      <td>-0.234462</td>\n      <td>0.593365</td>\n      <td>0.240635</td>\n      <td>-0.042970</td>\n      <td>-0.217501</td>\n      <td>-0.210275</td>\n      <td>1.345197</td>\n      <td>-0.151751</td>\n      <td>...</td>\n      <td>0</td>\n      <td>0</td>\n      <td>0</td>\n      <td>0</td>\n      <td>0</td>\n      <td>0</td>\n      <td>0</td>\n      <td>0</td>\n      <td>0</td>\n      <td>-0.201521</td>\n    </tr>\n    <tr>\n      <th>4</th>\n      <td>3</td>\n      <td>2016-11-30 16:14:11</td>\n      <td>0.141869</td>\n      <td>0.682244</td>\n      <td>-0.361368</td>\n      <td>0.632058</td>\n      <td>1.180043</td>\n      <td>-0.210275</td>\n      <td>1.149605</td>\n      <td>-0.009831</td>\n      <td>...</td>\n      <td>0</td>\n      <td>0</td>\n      <td>0</td>\n      <td>0</td>\n      <td>0</td>\n      <td>0</td>\n      <td>0</td>\n      <td>0</td>\n      <td>0</td>\n      <td>-0.541330</td>\n    </tr>\n  </tbody>\n</table>\n<p>5 rows × 31 columns</p>\n</div>"
     },
     "execution_count": 49,
     "metadata": {},
     "output_type": "execute_result"
    }
   ],
   "source": [
    "le = LabelEncoder()\n",
    "data[['Sunrise_Sunset','Civil_Twilight','Nautical_Twilight','Astronomical_Twilight']] = data[['Sunrise_Sunset','Civil_Twilight','Nautical_Twilight','Astronomical_Twilight']].apply(le.fit_transform)\n",
    "data.head()"
   ],
   "metadata": {
    "collapsed": false,
    "ExecuteTime": {
     "end_time": "2023-12-04T23:54:10.391526Z",
     "start_time": "2023-12-04T23:54:10.328171Z"
    }
   },
   "id": "92896df8816d7cec"
  },
  {
   "cell_type": "code",
   "execution_count": 50,
   "outputs": [],
   "source": [
    "data = data.drop('Start_Time', axis=1)"
   ],
   "metadata": {
    "collapsed": false,
    "ExecuteTime": {
     "end_time": "2023-12-04T23:54:11.940309Z",
     "start_time": "2023-12-04T23:54:11.900105Z"
    }
   },
   "id": "362cee3eaaa94be"
  },
  {
   "cell_type": "code",
   "execution_count": null,
   "outputs": [],
   "source": [
    "#filename = 'ney york accidents preprocessed.csv'\n",
    "#data.to_csv(path_or_buf=filename, index=False)"
   ],
   "metadata": {
    "collapsed": false
   },
   "id": "78c821e2b202b2d7"
  },
  {
   "cell_type": "markdown",
   "source": [
    "# Model creation and analysis "
   ],
   "metadata": {
    "collapsed": false
   },
   "id": "79463564321b3d66"
  },
  {
   "cell_type": "markdown",
   "source": [
    "# Random Forest "
   ],
   "metadata": {
    "collapsed": false
   },
   "id": "836bd715a13e98b3"
  },
  {
   "cell_type": "code",
   "execution_count": 51,
   "outputs": [],
   "source": [
    "# Metric printing \n",
    "def metric_analysis(ytrue,ypred):\n",
    "    print(confusion_matrix(ytrue,ypred))\n",
    "    print(\"the accuracy is \",accuracy_score(ytrue,ypred))\n",
    "    #print(\"the precision is \",precision_score(ytrue,ypred))\n",
    "    #print(\"the recall is \",recall_score(ytrue,ypred))\n",
    "    print(classification_report(ytrue, ypred))\n",
    "    return accuracy_score(ytrue,ypred)#, precision_score(ytrue,ypred), recall_score(ytrue,ypred)"
   ],
   "metadata": {
    "collapsed": false,
    "ExecuteTime": {
     "end_time": "2023-12-04T23:54:17.526584Z",
     "start_time": "2023-12-04T23:54:17.504842Z"
    }
   },
   "id": "4c193386e7bf313e"
  },
  {
   "cell_type": "code",
   "execution_count": 52,
   "outputs": [],
   "source": [
    "data = data.drop('TimeTaken', axis=1)"
   ],
   "metadata": {
    "collapsed": false,
    "ExecuteTime": {
     "end_time": "2023-12-04T23:54:18.479728Z",
     "start_time": "2023-12-04T23:54:18.474894Z"
    }
   },
   "id": "cb44cd01ea8f7f29"
  },
  {
   "cell_type": "code",
   "execution_count": 54,
   "outputs": [],
   "source": [
    "#data = data.drop('TimeTaken',axis=1)\n",
    "xtrain, xtest, ytrain, ytest = train_test_split(\n",
    "    data.drop('Severity',axis=1),\n",
    "    data.Severity,\n",
    "    test_size=0.2\n",
    ")"
   ],
   "metadata": {
    "collapsed": false,
    "ExecuteTime": {
     "end_time": "2023-12-04T23:54:23.824737Z",
     "start_time": "2023-12-04T23:54:23.724313Z"
    }
   },
   "id": "f91f79448e75605f"
  },
  {
   "cell_type": "code",
   "execution_count": 55,
   "outputs": [],
   "source": [
    "rlf = RandomForestClassifier(\n",
    "    n_estimators=100,\n",
    "    criterion='gini',\n",
    "    n_jobs=-1\n",
    ")"
   ],
   "metadata": {
    "collapsed": false,
    "ExecuteTime": {
     "end_time": "2023-12-04T23:54:24.856300Z",
     "start_time": "2023-12-04T23:54:24.834885Z"
    }
   },
   "id": "b7af0dab4fabb890"
  },
  {
   "cell_type": "code",
   "execution_count": 56,
   "outputs": [
    {
     "data": {
      "text/plain": "RandomForestClassifier(n_jobs=-1)",
      "text/html": "<style>#sk-container-id-1 {color: black;}#sk-container-id-1 pre{padding: 0;}#sk-container-id-1 div.sk-toggleable {background-color: white;}#sk-container-id-1 label.sk-toggleable__label {cursor: pointer;display: block;width: 100%;margin-bottom: 0;padding: 0.3em;box-sizing: border-box;text-align: center;}#sk-container-id-1 label.sk-toggleable__label-arrow:before {content: \"▸\";float: left;margin-right: 0.25em;color: #696969;}#sk-container-id-1 label.sk-toggleable__label-arrow:hover:before {color: black;}#sk-container-id-1 div.sk-estimator:hover label.sk-toggleable__label-arrow:before {color: black;}#sk-container-id-1 div.sk-toggleable__content {max-height: 0;max-width: 0;overflow: hidden;text-align: left;background-color: #f0f8ff;}#sk-container-id-1 div.sk-toggleable__content pre {margin: 0.2em;color: black;border-radius: 0.25em;background-color: #f0f8ff;}#sk-container-id-1 input.sk-toggleable__control:checked~div.sk-toggleable__content {max-height: 200px;max-width: 100%;overflow: auto;}#sk-container-id-1 input.sk-toggleable__control:checked~label.sk-toggleable__label-arrow:before {content: \"▾\";}#sk-container-id-1 div.sk-estimator input.sk-toggleable__control:checked~label.sk-toggleable__label {background-color: #d4ebff;}#sk-container-id-1 div.sk-label input.sk-toggleable__control:checked~label.sk-toggleable__label {background-color: #d4ebff;}#sk-container-id-1 input.sk-hidden--visually {border: 0;clip: rect(1px 1px 1px 1px);clip: rect(1px, 1px, 1px, 1px);height: 1px;margin: -1px;overflow: hidden;padding: 0;position: absolute;width: 1px;}#sk-container-id-1 div.sk-estimator {font-family: monospace;background-color: #f0f8ff;border: 1px dotted black;border-radius: 0.25em;box-sizing: border-box;margin-bottom: 0.5em;}#sk-container-id-1 div.sk-estimator:hover {background-color: #d4ebff;}#sk-container-id-1 div.sk-parallel-item::after {content: \"\";width: 100%;border-bottom: 1px solid gray;flex-grow: 1;}#sk-container-id-1 div.sk-label:hover label.sk-toggleable__label {background-color: #d4ebff;}#sk-container-id-1 div.sk-serial::before {content: \"\";position: absolute;border-left: 1px solid gray;box-sizing: border-box;top: 0;bottom: 0;left: 50%;z-index: 0;}#sk-container-id-1 div.sk-serial {display: flex;flex-direction: column;align-items: center;background-color: white;padding-right: 0.2em;padding-left: 0.2em;position: relative;}#sk-container-id-1 div.sk-item {position: relative;z-index: 1;}#sk-container-id-1 div.sk-parallel {display: flex;align-items: stretch;justify-content: center;background-color: white;position: relative;}#sk-container-id-1 div.sk-item::before, #sk-container-id-1 div.sk-parallel-item::before {content: \"\";position: absolute;border-left: 1px solid gray;box-sizing: border-box;top: 0;bottom: 0;left: 50%;z-index: -1;}#sk-container-id-1 div.sk-parallel-item {display: flex;flex-direction: column;z-index: 1;position: relative;background-color: white;}#sk-container-id-1 div.sk-parallel-item:first-child::after {align-self: flex-end;width: 50%;}#sk-container-id-1 div.sk-parallel-item:last-child::after {align-self: flex-start;width: 50%;}#sk-container-id-1 div.sk-parallel-item:only-child::after {width: 0;}#sk-container-id-1 div.sk-dashed-wrapped {border: 1px dashed gray;margin: 0 0.4em 0.5em 0.4em;box-sizing: border-box;padding-bottom: 0.4em;background-color: white;}#sk-container-id-1 div.sk-label label {font-family: monospace;font-weight: bold;display: inline-block;line-height: 1.2em;}#sk-container-id-1 div.sk-label-container {text-align: center;}#sk-container-id-1 div.sk-container {/* jupyter's `normalize.less` sets `[hidden] { display: none; }` but bootstrap.min.css set `[hidden] { display: none !important; }` so we also need the `!important` here to be able to override the default hidden behavior on the sphinx rendered scikit-learn.org. See: https://github.com/scikit-learn/scikit-learn/issues/21755 */display: inline-block !important;position: relative;}#sk-container-id-1 div.sk-text-repr-fallback {display: none;}</style><div id=\"sk-container-id-1\" class=\"sk-top-container\"><div class=\"sk-text-repr-fallback\"><pre>RandomForestClassifier(n_jobs=-1)</pre><b>In a Jupyter environment, please rerun this cell to show the HTML representation or trust the notebook. <br />On GitHub, the HTML representation is unable to render, please try loading this page with nbviewer.org.</b></div><div class=\"sk-container\" hidden><div class=\"sk-item\"><div class=\"sk-estimator sk-toggleable\"><input class=\"sk-toggleable__control sk-hidden--visually\" id=\"sk-estimator-id-1\" type=\"checkbox\" checked><label for=\"sk-estimator-id-1\" class=\"sk-toggleable__label sk-toggleable__label-arrow\">RandomForestClassifier</label><div class=\"sk-toggleable__content\"><pre>RandomForestClassifier(n_jobs=-1)</pre></div></div></div></div></div>"
     },
     "execution_count": 56,
     "metadata": {},
     "output_type": "execute_result"
    }
   ],
   "source": [
    "rlf.fit(xtrain, ytrain)"
   ],
   "metadata": {
    "collapsed": false,
    "ExecuteTime": {
     "end_time": "2023-12-04T23:54:34.580489Z",
     "start_time": "2023-12-04T23:54:26.050664Z"
    }
   },
   "id": "bbfa78666ac68e1f"
  },
  {
   "cell_type": "code",
   "execution_count": 57,
   "outputs": [],
   "source": [
    "ytrainpred = rlf.predict(xtrain)"
   ],
   "metadata": {
    "collapsed": false,
    "ExecuteTime": {
     "end_time": "2023-12-04T23:54:35.736748Z",
     "start_time": "2023-12-04T23:54:34.580701Z"
    }
   },
   "id": "17ef3a02bb80306f"
  },
  {
   "cell_type": "code",
   "execution_count": 58,
   "outputs": [
    {
     "name": "stdout",
     "output_type": "stream",
     "text": [
      "The training accuracy is \n",
      "[[  1172      1      0      0]\n",
      " [     0 291011      5     16]\n",
      " [     0     10  73318      1]\n",
      " [     0    106      0  12870]]\n",
      "the accuracy is  0.9996327706005126\n",
      "              precision    recall  f1-score   support\n",
      "\n",
      "           1       1.00      1.00      1.00      1173\n",
      "           2       1.00      1.00      1.00    291032\n",
      "           3       1.00      1.00      1.00     73329\n",
      "           4       1.00      0.99      1.00     12976\n",
      "\n",
      "    accuracy                           1.00    378510\n",
      "   macro avg       1.00      1.00      1.00    378510\n",
      "weighted avg       1.00      1.00      1.00    378510\n"
     ]
    },
    {
     "data": {
      "text/plain": "0.9996327706005126"
     },
     "execution_count": 58,
     "metadata": {},
     "output_type": "execute_result"
    }
   ],
   "source": [
    "print(\"The training accuracy is \")\n",
    "metric_analysis(ytrain, ytrainpred)"
   ],
   "metadata": {
    "collapsed": false,
    "ExecuteTime": {
     "end_time": "2023-12-04T23:54:36.091011Z",
     "start_time": "2023-12-04T23:54:35.737329Z"
    }
   },
   "id": "919d680b03fe9d6"
  },
  {
   "cell_type": "code",
   "execution_count": 59,
   "outputs": [
    {
     "name": "stdout",
     "output_type": "stream",
     "text": [
      "The test metrics are\n",
      "[[   33   207    33     0]\n",
      " [    2 70087  2633   248]\n",
      " [    1  4749 13272    29]\n",
      " [    0  2455   144   735]]\n",
      "the accuracy is  0.8890286173225683\n",
      "              precision    recall  f1-score   support\n",
      "\n",
      "           1       0.92      0.12      0.21       273\n",
      "           2       0.90      0.96      0.93     72970\n",
      "           3       0.83      0.74      0.78     18051\n",
      "           4       0.73      0.22      0.34      3334\n",
      "\n",
      "    accuracy                           0.89     94628\n",
      "   macro avg       0.84      0.51      0.57     94628\n",
      "weighted avg       0.88      0.89      0.88     94628\n"
     ]
    },
    {
     "data": {
      "text/plain": "0.8890286173225683"
     },
     "execution_count": 59,
     "metadata": {},
     "output_type": "execute_result"
    }
   ],
   "source": [
    "ypred = rlf.predict(xtest)\n",
    "print(\"The test metrics are\")\n",
    "metric_analysis(ytest, ypred)"
   ],
   "metadata": {
    "collapsed": false,
    "ExecuteTime": {
     "end_time": "2023-12-04T23:54:39.056287Z",
     "start_time": "2023-12-04T23:54:38.686697Z"
    }
   },
   "id": "1acc8c5cf5f1d4de"
  },
  {
   "cell_type": "markdown",
   "source": [
    "# Feature importance "
   ],
   "metadata": {
    "collapsed": false
   },
   "id": "5d79299dc30315a1"
  },
  {
   "cell_type": "markdown",
   "source": [
    "The most important features according to random forest are"
   ],
   "metadata": {
    "collapsed": false
   },
   "id": "4e81f4f452a32254"
  },
  {
   "cell_type": "code",
   "execution_count": 60,
   "outputs": [
    {
     "data": {
      "text/plain": "Index(['Distance(mi)', 'Zipcode', 'Street', 'Weather_Condition', 'Start_Lat',\n       'Start_Lng', 'Pressure(in)', 'Temperature(F)', 'Wind_Direction',\n       'Humidity(%)', 'Visibility(mi)', 'Traffic_Signal', 'Junction',\n       'Sunrise_Sunset', 'Crossing', 'Civil_Twilight', 'Nautical_Twilight',\n       'Astronomical_Twilight', 'Stop', 'Amenity', 'Station', 'Give_Way',\n       'Railway', 'Traffic_Calming', 'No_Exit', 'Bump', 'Roundabout',\n       'Turning_Loop'],\n      dtype='object')"
     },
     "execution_count": 60,
     "metadata": {},
     "output_type": "execute_result"
    }
   ],
   "source": [
    "data.columns[1:][np.argsort(rlf.feature_importances_)[::-1]]"
   ],
   "metadata": {
    "collapsed": false,
    "ExecuteTime": {
     "end_time": "2023-12-04T23:54:44.770637Z",
     "start_time": "2023-12-04T23:54:44.703378Z"
    }
   },
   "id": "7901bc00031df09b"
  },
  {
   "cell_type": "markdown",
   "source": [
    "# KNN"
   ],
   "metadata": {
    "collapsed": false
   },
   "id": "4800456d258ea641"
  },
  {
   "cell_type": "code",
   "execution_count": 62,
   "outputs": [],
   "source": [
    "param_grid = {\n",
    "    'n_neighbors':[4,5,9,10],\n",
    "    'weights':['uniform', 'distance']\n",
    "}\n",
    "best = GridSearchCV(\n",
    "    KNeighborsClassifier(n_jobs= -1),\n",
    "    param_grid=param_grid,\n",
    "    n_jobs=-1\n",
    ")"
   ],
   "metadata": {
    "collapsed": false,
    "ExecuteTime": {
     "end_time": "2023-12-04T23:55:06.424079Z",
     "start_time": "2023-12-04T23:55:06.393497Z"
    }
   },
   "id": "1fd01ffac816d22d"
  },
  {
   "cell_type": "markdown",
   "source": [
    "* Getting the best features according to random forest"
   ],
   "metadata": {
    "collapsed": false
   },
   "id": "cf7581fafd30bc2c"
  },
  {
   "cell_type": "code",
   "execution_count": 63,
   "outputs": [],
   "source": [
    "xtrain = xtrain[['Zipcode', 'Distance(mi)', 'Street', 'Start_Lat','Start_Lng']]\n",
    "xtest  = xtest[['Zipcode', 'Distance(mi)', 'Street', 'Start_Lat','Start_Lng']]"
   ],
   "metadata": {
    "collapsed": false,
    "ExecuteTime": {
     "end_time": "2023-12-04T23:55:07.525804Z",
     "start_time": "2023-12-04T23:55:07.499729Z"
    }
   },
   "id": "feb0086ac377534"
  },
  {
   "cell_type": "code",
   "execution_count": 64,
   "outputs": [
    {
     "data": {
      "text/plain": "GridSearchCV(estimator=KNeighborsClassifier(n_jobs=-1), n_jobs=-1,\n             param_grid={'n_neighbors': [4, 5, 9, 10],\n                         'weights': ['uniform', 'distance']})",
      "text/html": "<style>#sk-container-id-2 {color: black;}#sk-container-id-2 pre{padding: 0;}#sk-container-id-2 div.sk-toggleable {background-color: white;}#sk-container-id-2 label.sk-toggleable__label {cursor: pointer;display: block;width: 100%;margin-bottom: 0;padding: 0.3em;box-sizing: border-box;text-align: center;}#sk-container-id-2 label.sk-toggleable__label-arrow:before {content: \"▸\";float: left;margin-right: 0.25em;color: #696969;}#sk-container-id-2 label.sk-toggleable__label-arrow:hover:before {color: black;}#sk-container-id-2 div.sk-estimator:hover label.sk-toggleable__label-arrow:before {color: black;}#sk-container-id-2 div.sk-toggleable__content {max-height: 0;max-width: 0;overflow: hidden;text-align: left;background-color: #f0f8ff;}#sk-container-id-2 div.sk-toggleable__content pre {margin: 0.2em;color: black;border-radius: 0.25em;background-color: #f0f8ff;}#sk-container-id-2 input.sk-toggleable__control:checked~div.sk-toggleable__content {max-height: 200px;max-width: 100%;overflow: auto;}#sk-container-id-2 input.sk-toggleable__control:checked~label.sk-toggleable__label-arrow:before {content: \"▾\";}#sk-container-id-2 div.sk-estimator input.sk-toggleable__control:checked~label.sk-toggleable__label {background-color: #d4ebff;}#sk-container-id-2 div.sk-label input.sk-toggleable__control:checked~label.sk-toggleable__label {background-color: #d4ebff;}#sk-container-id-2 input.sk-hidden--visually {border: 0;clip: rect(1px 1px 1px 1px);clip: rect(1px, 1px, 1px, 1px);height: 1px;margin: -1px;overflow: hidden;padding: 0;position: absolute;width: 1px;}#sk-container-id-2 div.sk-estimator {font-family: monospace;background-color: #f0f8ff;border: 1px dotted black;border-radius: 0.25em;box-sizing: border-box;margin-bottom: 0.5em;}#sk-container-id-2 div.sk-estimator:hover {background-color: #d4ebff;}#sk-container-id-2 div.sk-parallel-item::after {content: \"\";width: 100%;border-bottom: 1px solid gray;flex-grow: 1;}#sk-container-id-2 div.sk-label:hover label.sk-toggleable__label {background-color: #d4ebff;}#sk-container-id-2 div.sk-serial::before {content: \"\";position: absolute;border-left: 1px solid gray;box-sizing: border-box;top: 0;bottom: 0;left: 50%;z-index: 0;}#sk-container-id-2 div.sk-serial {display: flex;flex-direction: column;align-items: center;background-color: white;padding-right: 0.2em;padding-left: 0.2em;position: relative;}#sk-container-id-2 div.sk-item {position: relative;z-index: 1;}#sk-container-id-2 div.sk-parallel {display: flex;align-items: stretch;justify-content: center;background-color: white;position: relative;}#sk-container-id-2 div.sk-item::before, #sk-container-id-2 div.sk-parallel-item::before {content: \"\";position: absolute;border-left: 1px solid gray;box-sizing: border-box;top: 0;bottom: 0;left: 50%;z-index: -1;}#sk-container-id-2 div.sk-parallel-item {display: flex;flex-direction: column;z-index: 1;position: relative;background-color: white;}#sk-container-id-2 div.sk-parallel-item:first-child::after {align-self: flex-end;width: 50%;}#sk-container-id-2 div.sk-parallel-item:last-child::after {align-self: flex-start;width: 50%;}#sk-container-id-2 div.sk-parallel-item:only-child::after {width: 0;}#sk-container-id-2 div.sk-dashed-wrapped {border: 1px dashed gray;margin: 0 0.4em 0.5em 0.4em;box-sizing: border-box;padding-bottom: 0.4em;background-color: white;}#sk-container-id-2 div.sk-label label {font-family: monospace;font-weight: bold;display: inline-block;line-height: 1.2em;}#sk-container-id-2 div.sk-label-container {text-align: center;}#sk-container-id-2 div.sk-container {/* jupyter's `normalize.less` sets `[hidden] { display: none; }` but bootstrap.min.css set `[hidden] { display: none !important; }` so we also need the `!important` here to be able to override the default hidden behavior on the sphinx rendered scikit-learn.org. See: https://github.com/scikit-learn/scikit-learn/issues/21755 */display: inline-block !important;position: relative;}#sk-container-id-2 div.sk-text-repr-fallback {display: none;}</style><div id=\"sk-container-id-2\" class=\"sk-top-container\"><div class=\"sk-text-repr-fallback\"><pre>GridSearchCV(estimator=KNeighborsClassifier(n_jobs=-1), n_jobs=-1,\n             param_grid={&#x27;n_neighbors&#x27;: [4, 5, 9, 10],\n                         &#x27;weights&#x27;: [&#x27;uniform&#x27;, &#x27;distance&#x27;]})</pre><b>In a Jupyter environment, please rerun this cell to show the HTML representation or trust the notebook. <br />On GitHub, the HTML representation is unable to render, please try loading this page with nbviewer.org.</b></div><div class=\"sk-container\" hidden><div class=\"sk-item sk-dashed-wrapped\"><div class=\"sk-label-container\"><div class=\"sk-label sk-toggleable\"><input class=\"sk-toggleable__control sk-hidden--visually\" id=\"sk-estimator-id-2\" type=\"checkbox\" ><label for=\"sk-estimator-id-2\" class=\"sk-toggleable__label sk-toggleable__label-arrow\">GridSearchCV</label><div class=\"sk-toggleable__content\"><pre>GridSearchCV(estimator=KNeighborsClassifier(n_jobs=-1), n_jobs=-1,\n             param_grid={&#x27;n_neighbors&#x27;: [4, 5, 9, 10],\n                         &#x27;weights&#x27;: [&#x27;uniform&#x27;, &#x27;distance&#x27;]})</pre></div></div></div><div class=\"sk-parallel\"><div class=\"sk-parallel-item\"><div class=\"sk-item\"><div class=\"sk-label-container\"><div class=\"sk-label sk-toggleable\"><input class=\"sk-toggleable__control sk-hidden--visually\" id=\"sk-estimator-id-3\" type=\"checkbox\" ><label for=\"sk-estimator-id-3\" class=\"sk-toggleable__label sk-toggleable__label-arrow\">estimator: KNeighborsClassifier</label><div class=\"sk-toggleable__content\"><pre>KNeighborsClassifier(n_jobs=-1)</pre></div></div></div><div class=\"sk-serial\"><div class=\"sk-item\"><div class=\"sk-estimator sk-toggleable\"><input class=\"sk-toggleable__control sk-hidden--visually\" id=\"sk-estimator-id-4\" type=\"checkbox\" ><label for=\"sk-estimator-id-4\" class=\"sk-toggleable__label sk-toggleable__label-arrow\">KNeighborsClassifier</label><div class=\"sk-toggleable__content\"><pre>KNeighborsClassifier(n_jobs=-1)</pre></div></div></div></div></div></div></div></div></div></div>"
     },
     "execution_count": 64,
     "metadata": {},
     "output_type": "execute_result"
    }
   ],
   "source": [
    "best.fit(xtrain, ytrain)"
   ],
   "metadata": {
    "collapsed": false,
    "ExecuteTime": {
     "end_time": "2023-12-04T23:55:19.439819Z",
     "start_time": "2023-12-04T23:55:09.560186Z"
    }
   },
   "id": "cec28c3492854f4f"
  },
  {
   "cell_type": "code",
   "execution_count": 65,
   "outputs": [
    {
     "data": {
      "text/plain": "{'n_neighbors': 10, 'weights': 'distance'}"
     },
     "execution_count": 65,
     "metadata": {},
     "output_type": "execute_result"
    }
   ],
   "source": [
    "best.best_params_"
   ],
   "metadata": {
    "collapsed": false,
    "ExecuteTime": {
     "end_time": "2023-12-04T23:55:19.445161Z",
     "start_time": "2023-12-04T23:55:19.438969Z"
    }
   },
   "id": "e8b43b360bf4a01f"
  },
  {
   "cell_type": "code",
   "execution_count": 66,
   "outputs": [],
   "source": [
    "n_neighbors, weights = best.best_params_.values()"
   ],
   "metadata": {
    "collapsed": false,
    "ExecuteTime": {
     "end_time": "2023-12-04T23:55:19.445496Z",
     "start_time": "2023-12-04T23:55:19.441566Z"
    }
   },
   "id": "e1dcd9455da66bb4"
  },
  {
   "cell_type": "code",
   "execution_count": 68,
   "outputs": [],
   "source": [
    "knn = KNeighborsClassifier(\n",
    "    n_neighbors= n_neighbors,\n",
    "    weights= weights,\n",
    "    n_jobs = -1\n",
    ")"
   ],
   "metadata": {
    "collapsed": false,
    "ExecuteTime": {
     "end_time": "2023-12-04T23:55:25.239314Z",
     "start_time": "2023-12-04T23:55:25.212262Z"
    }
   },
   "id": "c7a3497d289ec80f"
  },
  {
   "cell_type": "code",
   "execution_count": 69,
   "outputs": [
    {
     "data": {
      "text/plain": "KNeighborsClassifier(n_jobs=-1, n_neighbors=10, weights='distance')",
      "text/html": "<style>#sk-container-id-3 {color: black;}#sk-container-id-3 pre{padding: 0;}#sk-container-id-3 div.sk-toggleable {background-color: white;}#sk-container-id-3 label.sk-toggleable__label {cursor: pointer;display: block;width: 100%;margin-bottom: 0;padding: 0.3em;box-sizing: border-box;text-align: center;}#sk-container-id-3 label.sk-toggleable__label-arrow:before {content: \"▸\";float: left;margin-right: 0.25em;color: #696969;}#sk-container-id-3 label.sk-toggleable__label-arrow:hover:before {color: black;}#sk-container-id-3 div.sk-estimator:hover label.sk-toggleable__label-arrow:before {color: black;}#sk-container-id-3 div.sk-toggleable__content {max-height: 0;max-width: 0;overflow: hidden;text-align: left;background-color: #f0f8ff;}#sk-container-id-3 div.sk-toggleable__content pre {margin: 0.2em;color: black;border-radius: 0.25em;background-color: #f0f8ff;}#sk-container-id-3 input.sk-toggleable__control:checked~div.sk-toggleable__content {max-height: 200px;max-width: 100%;overflow: auto;}#sk-container-id-3 input.sk-toggleable__control:checked~label.sk-toggleable__label-arrow:before {content: \"▾\";}#sk-container-id-3 div.sk-estimator input.sk-toggleable__control:checked~label.sk-toggleable__label {background-color: #d4ebff;}#sk-container-id-3 div.sk-label input.sk-toggleable__control:checked~label.sk-toggleable__label {background-color: #d4ebff;}#sk-container-id-3 input.sk-hidden--visually {border: 0;clip: rect(1px 1px 1px 1px);clip: rect(1px, 1px, 1px, 1px);height: 1px;margin: -1px;overflow: hidden;padding: 0;position: absolute;width: 1px;}#sk-container-id-3 div.sk-estimator {font-family: monospace;background-color: #f0f8ff;border: 1px dotted black;border-radius: 0.25em;box-sizing: border-box;margin-bottom: 0.5em;}#sk-container-id-3 div.sk-estimator:hover {background-color: #d4ebff;}#sk-container-id-3 div.sk-parallel-item::after {content: \"\";width: 100%;border-bottom: 1px solid gray;flex-grow: 1;}#sk-container-id-3 div.sk-label:hover label.sk-toggleable__label {background-color: #d4ebff;}#sk-container-id-3 div.sk-serial::before {content: \"\";position: absolute;border-left: 1px solid gray;box-sizing: border-box;top: 0;bottom: 0;left: 50%;z-index: 0;}#sk-container-id-3 div.sk-serial {display: flex;flex-direction: column;align-items: center;background-color: white;padding-right: 0.2em;padding-left: 0.2em;position: relative;}#sk-container-id-3 div.sk-item {position: relative;z-index: 1;}#sk-container-id-3 div.sk-parallel {display: flex;align-items: stretch;justify-content: center;background-color: white;position: relative;}#sk-container-id-3 div.sk-item::before, #sk-container-id-3 div.sk-parallel-item::before {content: \"\";position: absolute;border-left: 1px solid gray;box-sizing: border-box;top: 0;bottom: 0;left: 50%;z-index: -1;}#sk-container-id-3 div.sk-parallel-item {display: flex;flex-direction: column;z-index: 1;position: relative;background-color: white;}#sk-container-id-3 div.sk-parallel-item:first-child::after {align-self: flex-end;width: 50%;}#sk-container-id-3 div.sk-parallel-item:last-child::after {align-self: flex-start;width: 50%;}#sk-container-id-3 div.sk-parallel-item:only-child::after {width: 0;}#sk-container-id-3 div.sk-dashed-wrapped {border: 1px dashed gray;margin: 0 0.4em 0.5em 0.4em;box-sizing: border-box;padding-bottom: 0.4em;background-color: white;}#sk-container-id-3 div.sk-label label {font-family: monospace;font-weight: bold;display: inline-block;line-height: 1.2em;}#sk-container-id-3 div.sk-label-container {text-align: center;}#sk-container-id-3 div.sk-container {/* jupyter's `normalize.less` sets `[hidden] { display: none; }` but bootstrap.min.css set `[hidden] { display: none !important; }` so we also need the `!important` here to be able to override the default hidden behavior on the sphinx rendered scikit-learn.org. See: https://github.com/scikit-learn/scikit-learn/issues/21755 */display: inline-block !important;position: relative;}#sk-container-id-3 div.sk-text-repr-fallback {display: none;}</style><div id=\"sk-container-id-3\" class=\"sk-top-container\"><div class=\"sk-text-repr-fallback\"><pre>KNeighborsClassifier(n_jobs=-1, n_neighbors=10, weights=&#x27;distance&#x27;)</pre><b>In a Jupyter environment, please rerun this cell to show the HTML representation or trust the notebook. <br />On GitHub, the HTML representation is unable to render, please try loading this page with nbviewer.org.</b></div><div class=\"sk-container\" hidden><div class=\"sk-item\"><div class=\"sk-estimator sk-toggleable\"><input class=\"sk-toggleable__control sk-hidden--visually\" id=\"sk-estimator-id-5\" type=\"checkbox\" checked><label for=\"sk-estimator-id-5\" class=\"sk-toggleable__label sk-toggleable__label-arrow\">KNeighborsClassifier</label><div class=\"sk-toggleable__content\"><pre>KNeighborsClassifier(n_jobs=-1, n_neighbors=10, weights=&#x27;distance&#x27;)</pre></div></div></div></div></div>"
     },
     "execution_count": 69,
     "metadata": {},
     "output_type": "execute_result"
    }
   ],
   "source": [
    "knn.fit(xtrain, ytrain)"
   ],
   "metadata": {
    "collapsed": false,
    "ExecuteTime": {
     "end_time": "2023-12-04T23:55:27.766720Z",
     "start_time": "2023-12-04T23:55:27.629681Z"
    }
   },
   "id": "8ffd5558c95558ed"
  },
  {
   "cell_type": "code",
   "execution_count": 70,
   "outputs": [],
   "source": [
    "ypred = knn.predict(xtest)"
   ],
   "metadata": {
    "collapsed": false,
    "ExecuteTime": {
     "end_time": "2023-12-04T23:55:32.371530Z",
     "start_time": "2023-12-04T23:55:31.811978Z"
    }
   },
   "id": "a6411fbfe0552d62"
  },
  {
   "cell_type": "markdown",
   "source": [
    "Test metrics for KNN "
   ],
   "metadata": {
    "collapsed": false
   },
   "id": "ccee55d66a89824"
  },
  {
   "cell_type": "code",
   "execution_count": 71,
   "outputs": [
    {
     "name": "stdout",
     "output_type": "stream",
     "text": [
      "[[   34   189    44     6]\n",
      " [   77 68388  3918   587]\n",
      " [   25  4963 12973    90]\n",
      " [    7  2420   237   670]]\n",
      "the accuracy is  0.8672380267996788\n",
      "              precision    recall  f1-score   support\n",
      "\n",
      "           1       0.24      0.12      0.16       273\n",
      "           2       0.90      0.94      0.92     72970\n",
      "           3       0.76      0.72      0.74     18051\n",
      "           4       0.50      0.20      0.29      3334\n",
      "\n",
      "    accuracy                           0.87     94628\n",
      "   macro avg       0.60      0.50      0.53     94628\n",
      "weighted avg       0.86      0.87      0.86     94628\n"
     ]
    },
    {
     "data": {
      "text/plain": "0.8672380267996788"
     },
     "execution_count": 71,
     "metadata": {},
     "output_type": "execute_result"
    }
   ],
   "source": [
    "metric_analysis(ytest, ypred)"
   ],
   "metadata": {
    "collapsed": false,
    "ExecuteTime": {
     "end_time": "2023-12-04T23:55:34.019538Z",
     "start_time": "2023-12-04T23:55:33.923352Z"
    }
   },
   "id": "12c6ea6fd70f9313"
  },
  {
   "cell_type": "markdown",
   "source": [
    "# Neural Network "
   ],
   "metadata": {
    "collapsed": false
   },
   "id": "d3070fd218c3cbd"
  },
  {
   "cell_type": "code",
   "execution_count": 132,
   "outputs": [],
   "source": [
    "#data = data.drop('TimeTaken',axis=1)\n",
    "xtrain, xtest, ytrain, ytest = train_test_split(\n",
    "    data.drop('Severity',axis=1),\n",
    "    data.Severity,\n",
    "    test_size=0.2\n",
    ")"
   ],
   "metadata": {
    "collapsed": false,
    "ExecuteTime": {
     "end_time": "2023-12-04T05:59:34.682332Z",
     "start_time": "2023-12-04T05:59:34.585844Z"
    }
   },
   "id": "8932abc5c03b5666"
  },
  {
   "cell_type": "code",
   "execution_count": 136,
   "outputs": [],
   "source": [
    "model = Sequential()\n",
    "model.add(\n",
    "    Dense(\n",
    "        units= 50,\n",
    "        activation='sigmoid',\n",
    "        input_shape= (28,)\n",
    "    )\n",
    ")\n",
    "model.add(Dropout(0.2))\n",
    "model.add(Dense(\n",
    "    units=25,\n",
    "    activation='sigmoid',\n",
    "))\n",
    "model.add(Dropout(0.1))\n",
    "model.add(Dense(\n",
    "    units = 4,\n",
    "    activation='softmax'\n",
    "))"
   ],
   "metadata": {
    "collapsed": false,
    "ExecuteTime": {
     "end_time": "2023-12-04T06:00:08.197601Z",
     "start_time": "2023-12-04T06:00:08.068632Z"
    }
   },
   "id": "28d60c573017fb1d"
  },
  {
   "cell_type": "code",
   "execution_count": 137,
   "outputs": [],
   "source": [
    "opt = Adam(learning_rate = 0.005)\n",
    "model.compile(optimizer=opt, loss='sparse_categorical_crossentropy', metrics=['sparse_categorical_accuracy'])"
   ],
   "metadata": {
    "collapsed": false,
    "ExecuteTime": {
     "end_time": "2023-12-04T06:00:09.506092Z",
     "start_time": "2023-12-04T06:00:09.484409Z"
    }
   },
   "id": "61aa3457ed8a2545"
  },
  {
   "cell_type": "code",
   "execution_count": 138,
   "outputs": [
    {
     "name": "stdout",
     "output_type": "stream",
     "text": [
      "Model: \"sequential_1\"\n",
      "_________________________________________________________________\n",
      " Layer (type)                Output Shape              Param #   \n",
      "=================================================================\n",
      " dense_3 (Dense)             (None, 50)                1450      \n",
      "                                                                 \n",
      " dropout_2 (Dropout)         (None, 50)                0         \n",
      "                                                                 \n",
      " dense_4 (Dense)             (None, 25)                1275      \n",
      "                                                                 \n",
      " dropout_3 (Dropout)         (None, 25)                0         \n",
      "                                                                 \n",
      " dense_5 (Dense)             (None, 4)                 104       \n",
      "                                                                 \n",
      "=================================================================\n",
      "Total params: 2829 (11.05 KB)\n",
      "Trainable params: 2829 (11.05 KB)\n",
      "Non-trainable params: 0 (0.00 Byte)\n",
      "_________________________________________________________________\n"
     ]
    }
   ],
   "source": [
    "model.summary()"
   ],
   "metadata": {
    "collapsed": false,
    "ExecuteTime": {
     "end_time": "2023-12-04T06:00:09.993385Z",
     "start_time": "2023-12-04T06:00:09.974298Z"
    }
   },
   "id": "96cd0aaf417fc1a4"
  },
  {
   "cell_type": "code",
   "execution_count": 139,
   "outputs": [
    {
     "name": "stdout",
     "output_type": "stream",
     "text": [
      "Epoch 1/3\n"
     ]
    },
    {
     "name": "stderr",
     "output_type": "stream",
     "text": [
      "2023-12-04 01:00:10.942782: I tensorflow/core/grappler/optimizers/custom_graph_optimizer_registry.cc:117] Plugin optimizer for device_type GPU is enabled.\n"
     ]
    },
    {
     "name": "stdout",
     "output_type": "stream",
     "text": [
      "11829/11829 [==============================] - 74s 6ms/step - loss: 0.3653 - sparse_categorical_accuracy: 0.8236\n",
      "Epoch 2/3\n",
      "11829/11829 [==============================] - 70s 6ms/step - loss: 0.3712 - sparse_categorical_accuracy: 0.8307\n",
      "Epoch 3/3\n",
      "11829/11829 [==============================] - 70s 6ms/step - loss: 0.3796 - sparse_categorical_accuracy: 0.8285\n"
     ]
    },
    {
     "data": {
      "text/plain": "<keras.src.callbacks.History at 0x39feb0450>"
     },
     "execution_count": 139,
     "metadata": {},
     "output_type": "execute_result"
    }
   ],
   "source": [
    "model.fit(xtrain,ytrain, epochs=3)"
   ],
   "metadata": {
    "collapsed": false,
    "ExecuteTime": {
     "end_time": "2023-12-04T06:03:44.540859Z",
     "start_time": "2023-12-04T06:00:10.623468Z"
    }
   },
   "id": "72c67753a49e888e"
  },
  {
   "cell_type": "code",
   "execution_count": 141,
   "outputs": [
    {
     "name": "stdout",
     "output_type": "stream",
     "text": [
      "11829/11829 [==============================] - 42s 3ms/step - loss: 0.4171 - sparse_categorical_accuracy: 0.7996\n"
     ]
    },
    {
     "data": {
      "text/plain": "[0.4171343445777893, 0.7996037006378174]"
     },
     "execution_count": 141,
     "metadata": {},
     "output_type": "execute_result"
    }
   ],
   "source": [
    "model.evaluate(xtrain,ytrain)"
   ],
   "metadata": {
    "collapsed": false,
    "ExecuteTime": {
     "end_time": "2023-12-04T06:17:09.965856Z",
     "start_time": "2023-12-04T06:16:27.831249Z"
    }
   },
   "id": "de1c6b1cf1ced13e"
  },
  {
   "cell_type": "code",
   "execution_count": 142,
   "outputs": [
    {
     "name": "stdout",
     "output_type": "stream",
     "text": [
      "2958/2958 [==============================] - 11s 4ms/step - loss: 0.4194 - sparse_categorical_accuracy: 0.7979\n"
     ]
    },
    {
     "data": {
      "text/plain": "[0.41943538188934326, 0.7978610992431641]"
     },
     "execution_count": 142,
     "metadata": {},
     "output_type": "execute_result"
    }
   ],
   "source": [
    "model.evaluate(xtest,ytest)"
   ],
   "metadata": {
    "collapsed": false,
    "ExecuteTime": {
     "end_time": "2023-12-04T06:17:24.352789Z",
     "start_time": "2023-12-04T06:17:13.217783Z"
    }
   },
   "id": "826b5afe854fb58e"
  },
  {
   "cell_type": "code",
   "execution_count": 143,
   "outputs": [
    {
     "name": "stdout",
     "output_type": "stream",
     "text": [
      "11829/11829 [==============================] - 16s 1ms/step\n"
     ]
    }
   ],
   "source": [
    "trainpred = model.predict(xtrain)"
   ],
   "metadata": {
    "collapsed": false,
    "ExecuteTime": {
     "end_time": "2023-12-04T06:17:48.051347Z",
     "start_time": "2023-12-04T06:17:27.093257Z"
    }
   },
   "id": "37040be94a59e1c8"
  },
  {
   "cell_type": "code",
   "execution_count": 144,
   "outputs": [
    {
     "name": "stdout",
     "output_type": "stream",
     "text": [
      "[[     0   1153      5      0]\n",
      " [     0 289745   1524      0]\n",
      " [     0  60127  12913      0]\n",
      " [     0  12994     49      0]]\n",
      "the accuracy is  0.7996037092811287\n",
      "              precision    recall  f1-score   support\n",
      "\n",
      "           1       0.00      0.00      0.00      1158\n",
      "           2       0.80      0.99      0.88    291269\n",
      "           3       0.89      0.18      0.30     73040\n",
      "           4       0.00      0.00      0.00     13043\n",
      "\n",
      "    accuracy                           0.80    378510\n",
      "   macro avg       0.42      0.29      0.29    378510\n",
      "weighted avg       0.78      0.80      0.74    378510\n"
     ]
    },
    {
     "name": "stderr",
     "output_type": "stream",
     "text": [
      "/Users/manedge/miniconda/envs/EnvironmentTest/lib/python3.11/site-packages/sklearn/metrics/_classification.py:1469: UndefinedMetricWarning: Precision and F-score are ill-defined and being set to 0.0 in labels with no predicted samples. Use `zero_division` parameter to control this behavior.\n",
      "  _warn_prf(average, modifier, msg_start, len(result))\n",
      "/Users/manedge/miniconda/envs/EnvironmentTest/lib/python3.11/site-packages/sklearn/metrics/_classification.py:1469: UndefinedMetricWarning: Precision and F-score are ill-defined and being set to 0.0 in labels with no predicted samples. Use `zero_division` parameter to control this behavior.\n",
      "  _warn_prf(average, modifier, msg_start, len(result))\n",
      "/Users/manedge/miniconda/envs/EnvironmentTest/lib/python3.11/site-packages/sklearn/metrics/_classification.py:1469: UndefinedMetricWarning: Precision and F-score are ill-defined and being set to 0.0 in labels with no predicted samples. Use `zero_division` parameter to control this behavior.\n",
      "  _warn_prf(average, modifier, msg_start, len(result))\n"
     ]
    },
    {
     "data": {
      "text/plain": "0.7996037092811287"
     },
     "execution_count": 144,
     "metadata": {},
     "output_type": "execute_result"
    }
   ],
   "source": [
    "metric_analysis(ytrain, trainpred.argmax(axis=1))"
   ],
   "metadata": {
    "collapsed": false,
    "ExecuteTime": {
     "end_time": "2023-12-04T06:17:48.381167Z",
     "start_time": "2023-12-04T06:17:48.051952Z"
    }
   },
   "id": "b80fb2b310da6237"
  },
  {
   "cell_type": "code",
   "execution_count": 145,
   "outputs": [
    {
     "name": "stdout",
     "output_type": "stream",
     "text": [
      "2958/2958 [==============================] - 4s 1ms/step\n"
     ]
    },
    {
     "data": {
      "text/plain": "array([[1.6472804e-08, 5.6715799e-03, 8.9876318e-01, 9.5565185e-02],\n       [1.6462161e-08, 5.6693004e-03, 8.9906019e-01, 9.5270574e-02],\n       [1.6475852e-08, 5.6719375e-03, 8.9871013e-01, 9.5617890e-02],\n       ...,\n       [1.6474033e-08, 5.6720036e-03, 8.9872062e-01, 9.5607325e-02],\n       [1.6428945e-08, 5.6737689e-03, 8.9954913e-01, 9.4777063e-02],\n       [1.6471832e-08, 5.6719375e-03, 8.9871013e-01, 9.5617890e-02]],\n      dtype=float32)"
     },
     "execution_count": 145,
     "metadata": {},
     "output_type": "execute_result"
    }
   ],
   "source": [
    "ypred = model.predict(xtest)\n",
    "ypred"
   ],
   "metadata": {
    "collapsed": false,
    "ExecuteTime": {
     "end_time": "2023-12-04T06:17:53.293856Z",
     "start_time": "2023-12-04T06:17:48.380148Z"
    }
   },
   "id": "fdc6c3ed02ed42fe"
  },
  {
   "cell_type": "code",
   "execution_count": 146,
   "outputs": [
    {
     "name": "stdout",
     "output_type": "stream",
     "text": [
      "[[    0   286     2     0]\n",
      " [    0 72342   391     0]\n",
      " [    0 15182  3158     0]\n",
      " [    0  3258     9     0]]\n",
      "the accuracy is  0.7978610981950374\n",
      "              precision    recall  f1-score   support\n",
      "\n",
      "           1       0.00      0.00      0.00       288\n",
      "           2       0.79      0.99      0.88     72733\n",
      "           3       0.89      0.17      0.29     18340\n",
      "           4       0.00      0.00      0.00      3267\n",
      "\n",
      "    accuracy                           0.80     94628\n",
      "   macro avg       0.42      0.29      0.29     94628\n",
      "weighted avg       0.78      0.80      0.73     94628\n"
     ]
    },
    {
     "name": "stderr",
     "output_type": "stream",
     "text": [
      "/Users/manedge/miniconda/envs/EnvironmentTest/lib/python3.11/site-packages/sklearn/metrics/_classification.py:1469: UndefinedMetricWarning: Precision and F-score are ill-defined and being set to 0.0 in labels with no predicted samples. Use `zero_division` parameter to control this behavior.\n",
      "  _warn_prf(average, modifier, msg_start, len(result))\n",
      "/Users/manedge/miniconda/envs/EnvironmentTest/lib/python3.11/site-packages/sklearn/metrics/_classification.py:1469: UndefinedMetricWarning: Precision and F-score are ill-defined and being set to 0.0 in labels with no predicted samples. Use `zero_division` parameter to control this behavior.\n",
      "  _warn_prf(average, modifier, msg_start, len(result))\n",
      "/Users/manedge/miniconda/envs/EnvironmentTest/lib/python3.11/site-packages/sklearn/metrics/_classification.py:1469: UndefinedMetricWarning: Precision and F-score are ill-defined and being set to 0.0 in labels with no predicted samples. Use `zero_division` parameter to control this behavior.\n",
      "  _warn_prf(average, modifier, msg_start, len(result))\n"
     ]
    },
    {
     "data": {
      "text/plain": "0.7978610981950374"
     },
     "execution_count": 146,
     "metadata": {},
     "output_type": "execute_result"
    }
   ],
   "source": [
    "metric_analysis(ytest, ypred.argmax(axis=1))"
   ],
   "metadata": {
    "collapsed": false,
    "ExecuteTime": {
     "end_time": "2023-12-04T06:17:53.379487Z",
     "start_time": "2023-12-04T06:17:53.292896Z"
    }
   },
   "id": "92366b659f0c008f"
  },
  {
   "cell_type": "markdown",
   "source": [
    "# Naive Bayes "
   ],
   "metadata": {
    "collapsed": false
   },
   "id": "956cfb3dc1e8ab04"
  },
  {
   "cell_type": "code",
   "execution_count": 72,
   "outputs": [],
   "source": [
    "#data = data.drop('TimeTaken',axis=1)\n",
    "xtrain, xtest, ytrain, ytest = train_test_split(\n",
    "    data.drop('Severity',axis=1),\n",
    "    data.Severity,\n",
    "    test_size=0.2\n",
    ")"
   ],
   "metadata": {
    "collapsed": false,
    "ExecuteTime": {
     "end_time": "2023-12-04T23:55:50.931675Z",
     "start_time": "2023-12-04T23:55:50.803762Z"
    }
   },
   "id": "a09253c8635996ec"
  },
  {
   "cell_type": "code",
   "execution_count": 73,
   "outputs": [],
   "source": [
    "xtrain = xtrain[['Amenity', 'Bump', 'Crossing','Give_Way', 'Junction', 'No_Exit', 'Railway', 'Roundabout', 'Station','Stop', 'Traffic_Calming', 'Traffic_Signal', 'Turning_Loop','Sunrise_Sunset', 'Civil_Twilight', 'Nautical_Twilight','Astronomical_Twilight']]\n",
    "xtest = xtest[['Amenity', 'Bump', 'Crossing','Give_Way', 'Junction', 'No_Exit', 'Railway', 'Roundabout', 'Station','Stop', 'Traffic_Calming', 'Traffic_Signal', 'Turning_Loop','Sunrise_Sunset', 'Civil_Twilight', 'Nautical_Twilight','Astronomical_Twilight']]"
   ],
   "metadata": {
    "collapsed": false,
    "ExecuteTime": {
     "end_time": "2023-12-04T23:55:51.474001Z",
     "start_time": "2023-12-04T23:55:51.463884Z"
    }
   },
   "id": "e5d6071aa63603f0"
  },
  {
   "cell_type": "code",
   "execution_count": 74,
   "outputs": [
    {
     "data": {
      "text/plain": "MultinomialNB()",
      "text/html": "<style>#sk-container-id-4 {color: black;}#sk-container-id-4 pre{padding: 0;}#sk-container-id-4 div.sk-toggleable {background-color: white;}#sk-container-id-4 label.sk-toggleable__label {cursor: pointer;display: block;width: 100%;margin-bottom: 0;padding: 0.3em;box-sizing: border-box;text-align: center;}#sk-container-id-4 label.sk-toggleable__label-arrow:before {content: \"▸\";float: left;margin-right: 0.25em;color: #696969;}#sk-container-id-4 label.sk-toggleable__label-arrow:hover:before {color: black;}#sk-container-id-4 div.sk-estimator:hover label.sk-toggleable__label-arrow:before {color: black;}#sk-container-id-4 div.sk-toggleable__content {max-height: 0;max-width: 0;overflow: hidden;text-align: left;background-color: #f0f8ff;}#sk-container-id-4 div.sk-toggleable__content pre {margin: 0.2em;color: black;border-radius: 0.25em;background-color: #f0f8ff;}#sk-container-id-4 input.sk-toggleable__control:checked~div.sk-toggleable__content {max-height: 200px;max-width: 100%;overflow: auto;}#sk-container-id-4 input.sk-toggleable__control:checked~label.sk-toggleable__label-arrow:before {content: \"▾\";}#sk-container-id-4 div.sk-estimator input.sk-toggleable__control:checked~label.sk-toggleable__label {background-color: #d4ebff;}#sk-container-id-4 div.sk-label input.sk-toggleable__control:checked~label.sk-toggleable__label {background-color: #d4ebff;}#sk-container-id-4 input.sk-hidden--visually {border: 0;clip: rect(1px 1px 1px 1px);clip: rect(1px, 1px, 1px, 1px);height: 1px;margin: -1px;overflow: hidden;padding: 0;position: absolute;width: 1px;}#sk-container-id-4 div.sk-estimator {font-family: monospace;background-color: #f0f8ff;border: 1px dotted black;border-radius: 0.25em;box-sizing: border-box;margin-bottom: 0.5em;}#sk-container-id-4 div.sk-estimator:hover {background-color: #d4ebff;}#sk-container-id-4 div.sk-parallel-item::after {content: \"\";width: 100%;border-bottom: 1px solid gray;flex-grow: 1;}#sk-container-id-4 div.sk-label:hover label.sk-toggleable__label {background-color: #d4ebff;}#sk-container-id-4 div.sk-serial::before {content: \"\";position: absolute;border-left: 1px solid gray;box-sizing: border-box;top: 0;bottom: 0;left: 50%;z-index: 0;}#sk-container-id-4 div.sk-serial {display: flex;flex-direction: column;align-items: center;background-color: white;padding-right: 0.2em;padding-left: 0.2em;position: relative;}#sk-container-id-4 div.sk-item {position: relative;z-index: 1;}#sk-container-id-4 div.sk-parallel {display: flex;align-items: stretch;justify-content: center;background-color: white;position: relative;}#sk-container-id-4 div.sk-item::before, #sk-container-id-4 div.sk-parallel-item::before {content: \"\";position: absolute;border-left: 1px solid gray;box-sizing: border-box;top: 0;bottom: 0;left: 50%;z-index: -1;}#sk-container-id-4 div.sk-parallel-item {display: flex;flex-direction: column;z-index: 1;position: relative;background-color: white;}#sk-container-id-4 div.sk-parallel-item:first-child::after {align-self: flex-end;width: 50%;}#sk-container-id-4 div.sk-parallel-item:last-child::after {align-self: flex-start;width: 50%;}#sk-container-id-4 div.sk-parallel-item:only-child::after {width: 0;}#sk-container-id-4 div.sk-dashed-wrapped {border: 1px dashed gray;margin: 0 0.4em 0.5em 0.4em;box-sizing: border-box;padding-bottom: 0.4em;background-color: white;}#sk-container-id-4 div.sk-label label {font-family: monospace;font-weight: bold;display: inline-block;line-height: 1.2em;}#sk-container-id-4 div.sk-label-container {text-align: center;}#sk-container-id-4 div.sk-container {/* jupyter's `normalize.less` sets `[hidden] { display: none; }` but bootstrap.min.css set `[hidden] { display: none !important; }` so we also need the `!important` here to be able to override the default hidden behavior on the sphinx rendered scikit-learn.org. See: https://github.com/scikit-learn/scikit-learn/issues/21755 */display: inline-block !important;position: relative;}#sk-container-id-4 div.sk-text-repr-fallback {display: none;}</style><div id=\"sk-container-id-4\" class=\"sk-top-container\"><div class=\"sk-text-repr-fallback\"><pre>MultinomialNB()</pre><b>In a Jupyter environment, please rerun this cell to show the HTML representation or trust the notebook. <br />On GitHub, the HTML representation is unable to render, please try loading this page with nbviewer.org.</b></div><div class=\"sk-container\" hidden><div class=\"sk-item\"><div class=\"sk-estimator sk-toggleable\"><input class=\"sk-toggleable__control sk-hidden--visually\" id=\"sk-estimator-id-6\" type=\"checkbox\" checked><label for=\"sk-estimator-id-6\" class=\"sk-toggleable__label sk-toggleable__label-arrow\">MultinomialNB</label><div class=\"sk-toggleable__content\"><pre>MultinomialNB()</pre></div></div></div></div></div>"
     },
     "execution_count": 74,
     "metadata": {},
     "output_type": "execute_result"
    }
   ],
   "source": [
    "naive = MultinomialNB()\n",
    "naive.fit(xtrain, ytrain)"
   ],
   "metadata": {
    "collapsed": false,
    "ExecuteTime": {
     "end_time": "2023-12-04T23:55:52.148527Z",
     "start_time": "2023-12-04T23:55:52.085141Z"
    }
   },
   "id": "699a1dce97e131a6"
  },
  {
   "cell_type": "code",
   "execution_count": 75,
   "outputs": [
    {
     "name": "stdout",
     "output_type": "stream",
     "text": [
      "[[     0   1121      0      0]\n",
      " [     0 291047    138      0]\n",
      " [     0  73036     66      0]\n",
      " [     0  13095      7      0]]\n",
      "the accuracy is  0.7691025336186627\n",
      "              precision    recall  f1-score   support\n",
      "\n",
      "           1       0.00      0.00      0.00      1121\n",
      "           2       0.77      1.00      0.87    291185\n",
      "           3       0.31      0.00      0.00     73102\n",
      "           4       0.00      0.00      0.00     13102\n",
      "\n",
      "    accuracy                           0.77    378510\n",
      "   macro avg       0.27      0.25      0.22    378510\n",
      "weighted avg       0.65      0.77      0.67    378510\n"
     ]
    },
    {
     "name": "stderr",
     "output_type": "stream",
     "text": [
      "/Users/manedge/miniconda/envs/EnvironmentTest/lib/python3.11/site-packages/sklearn/metrics/_classification.py:1469: UndefinedMetricWarning: Precision and F-score are ill-defined and being set to 0.0 in labels with no predicted samples. Use `zero_division` parameter to control this behavior.\n",
      "  _warn_prf(average, modifier, msg_start, len(result))\n",
      "/Users/manedge/miniconda/envs/EnvironmentTest/lib/python3.11/site-packages/sklearn/metrics/_classification.py:1469: UndefinedMetricWarning: Precision and F-score are ill-defined and being set to 0.0 in labels with no predicted samples. Use `zero_division` parameter to control this behavior.\n",
      "  _warn_prf(average, modifier, msg_start, len(result))\n",
      "/Users/manedge/miniconda/envs/EnvironmentTest/lib/python3.11/site-packages/sklearn/metrics/_classification.py:1469: UndefinedMetricWarning: Precision and F-score are ill-defined and being set to 0.0 in labels with no predicted samples. Use `zero_division` parameter to control this behavior.\n",
      "  _warn_prf(average, modifier, msg_start, len(result))\n"
     ]
    },
    {
     "data": {
      "text/plain": "0.7691025336186627"
     },
     "execution_count": 75,
     "metadata": {},
     "output_type": "execute_result"
    }
   ],
   "source": [
    "trainpred = naive.predict(xtrain)\n",
    "metric_analysis(ytrain, trainpred)"
   ],
   "metadata": {
    "collapsed": false,
    "ExecuteTime": {
     "end_time": "2023-12-04T23:55:53.226732Z",
     "start_time": "2023-12-04T23:55:52.853019Z"
    }
   },
   "id": "6f57b679e95bf4d0"
  },
  {
   "cell_type": "markdown",
   "source": [
    "# Adaboost"
   ],
   "metadata": {
    "collapsed": false
   },
   "id": "a9b829931ad0c995"
  },
  {
   "cell_type": "code",
   "execution_count": 76,
   "outputs": [],
   "source": [
    "xtrain, xtest, ytrain, ytest = train_test_split(\n",
    "    data.drop('Severity',axis=1),\n",
    "    data.Severity,\n",
    "    test_size=0.3\n",
    ")"
   ],
   "metadata": {
    "collapsed": false,
    "ExecuteTime": {
     "end_time": "2023-12-04T23:55:55.282704Z",
     "start_time": "2023-12-04T23:55:55.187099Z"
    }
   },
   "id": "a6d650f56037ab64"
  },
  {
   "cell_type": "code",
   "execution_count": 77,
   "outputs": [
    {
     "data": {
      "text/plain": "AdaBoostClassifier()",
      "text/html": "<style>#sk-container-id-5 {color: black;}#sk-container-id-5 pre{padding: 0;}#sk-container-id-5 div.sk-toggleable {background-color: white;}#sk-container-id-5 label.sk-toggleable__label {cursor: pointer;display: block;width: 100%;margin-bottom: 0;padding: 0.3em;box-sizing: border-box;text-align: center;}#sk-container-id-5 label.sk-toggleable__label-arrow:before {content: \"▸\";float: left;margin-right: 0.25em;color: #696969;}#sk-container-id-5 label.sk-toggleable__label-arrow:hover:before {color: black;}#sk-container-id-5 div.sk-estimator:hover label.sk-toggleable__label-arrow:before {color: black;}#sk-container-id-5 div.sk-toggleable__content {max-height: 0;max-width: 0;overflow: hidden;text-align: left;background-color: #f0f8ff;}#sk-container-id-5 div.sk-toggleable__content pre {margin: 0.2em;color: black;border-radius: 0.25em;background-color: #f0f8ff;}#sk-container-id-5 input.sk-toggleable__control:checked~div.sk-toggleable__content {max-height: 200px;max-width: 100%;overflow: auto;}#sk-container-id-5 input.sk-toggleable__control:checked~label.sk-toggleable__label-arrow:before {content: \"▾\";}#sk-container-id-5 div.sk-estimator input.sk-toggleable__control:checked~label.sk-toggleable__label {background-color: #d4ebff;}#sk-container-id-5 div.sk-label input.sk-toggleable__control:checked~label.sk-toggleable__label {background-color: #d4ebff;}#sk-container-id-5 input.sk-hidden--visually {border: 0;clip: rect(1px 1px 1px 1px);clip: rect(1px, 1px, 1px, 1px);height: 1px;margin: -1px;overflow: hidden;padding: 0;position: absolute;width: 1px;}#sk-container-id-5 div.sk-estimator {font-family: monospace;background-color: #f0f8ff;border: 1px dotted black;border-radius: 0.25em;box-sizing: border-box;margin-bottom: 0.5em;}#sk-container-id-5 div.sk-estimator:hover {background-color: #d4ebff;}#sk-container-id-5 div.sk-parallel-item::after {content: \"\";width: 100%;border-bottom: 1px solid gray;flex-grow: 1;}#sk-container-id-5 div.sk-label:hover label.sk-toggleable__label {background-color: #d4ebff;}#sk-container-id-5 div.sk-serial::before {content: \"\";position: absolute;border-left: 1px solid gray;box-sizing: border-box;top: 0;bottom: 0;left: 50%;z-index: 0;}#sk-container-id-5 div.sk-serial {display: flex;flex-direction: column;align-items: center;background-color: white;padding-right: 0.2em;padding-left: 0.2em;position: relative;}#sk-container-id-5 div.sk-item {position: relative;z-index: 1;}#sk-container-id-5 div.sk-parallel {display: flex;align-items: stretch;justify-content: center;background-color: white;position: relative;}#sk-container-id-5 div.sk-item::before, #sk-container-id-5 div.sk-parallel-item::before {content: \"\";position: absolute;border-left: 1px solid gray;box-sizing: border-box;top: 0;bottom: 0;left: 50%;z-index: -1;}#sk-container-id-5 div.sk-parallel-item {display: flex;flex-direction: column;z-index: 1;position: relative;background-color: white;}#sk-container-id-5 div.sk-parallel-item:first-child::after {align-self: flex-end;width: 50%;}#sk-container-id-5 div.sk-parallel-item:last-child::after {align-self: flex-start;width: 50%;}#sk-container-id-5 div.sk-parallel-item:only-child::after {width: 0;}#sk-container-id-5 div.sk-dashed-wrapped {border: 1px dashed gray;margin: 0 0.4em 0.5em 0.4em;box-sizing: border-box;padding-bottom: 0.4em;background-color: white;}#sk-container-id-5 div.sk-label label {font-family: monospace;font-weight: bold;display: inline-block;line-height: 1.2em;}#sk-container-id-5 div.sk-label-container {text-align: center;}#sk-container-id-5 div.sk-container {/* jupyter's `normalize.less` sets `[hidden] { display: none; }` but bootstrap.min.css set `[hidden] { display: none !important; }` so we also need the `!important` here to be able to override the default hidden behavior on the sphinx rendered scikit-learn.org. See: https://github.com/scikit-learn/scikit-learn/issues/21755 */display: inline-block !important;position: relative;}#sk-container-id-5 div.sk-text-repr-fallback {display: none;}</style><div id=\"sk-container-id-5\" class=\"sk-top-container\"><div class=\"sk-text-repr-fallback\"><pre>AdaBoostClassifier()</pre><b>In a Jupyter environment, please rerun this cell to show the HTML representation or trust the notebook. <br />On GitHub, the HTML representation is unable to render, please try loading this page with nbviewer.org.</b></div><div class=\"sk-container\" hidden><div class=\"sk-item\"><div class=\"sk-estimator sk-toggleable\"><input class=\"sk-toggleable__control sk-hidden--visually\" id=\"sk-estimator-id-7\" type=\"checkbox\" checked><label for=\"sk-estimator-id-7\" class=\"sk-toggleable__label sk-toggleable__label-arrow\">AdaBoostClassifier</label><div class=\"sk-toggleable__content\"><pre>AdaBoostClassifier()</pre></div></div></div></div></div>"
     },
     "execution_count": 77,
     "metadata": {},
     "output_type": "execute_result"
    }
   ],
   "source": [
    "adaboost = AdaBoostClassifier(n_estimators=50)\n",
    "adaboost.fit(xtrain, ytrain)"
   ],
   "metadata": {
    "collapsed": false,
    "ExecuteTime": {
     "end_time": "2023-12-04T23:56:07.053909Z",
     "start_time": "2023-12-04T23:55:55.876350Z"
    }
   },
   "id": "1ee85669cfee8edc"
  },
  {
   "cell_type": "code",
   "execution_count": 78,
   "outputs": [
    {
     "name": "stdout",
     "output_type": "stream",
     "text": [
      "[[    11    874    127      0]\n",
      " [    60 241923  11416   1264]\n",
      " [    11  25028  38841    202]\n",
      " [     1   9426    622   1390]]\n",
      "the accuracy is  0.8519577531129603\n",
      "              precision    recall  f1-score   support\n",
      "\n",
      "           1       0.13      0.01      0.02      1012\n",
      "           2       0.87      0.95      0.91    254663\n",
      "           3       0.76      0.61      0.67     64082\n",
      "           4       0.49      0.12      0.19     11439\n",
      "\n",
      "    accuracy                           0.85    331196\n",
      "   macro avg       0.56      0.42      0.45    331196\n",
      "weighted avg       0.84      0.85      0.84    331196\n"
     ]
    },
    {
     "data": {
      "text/plain": "0.8519577531129603"
     },
     "execution_count": 78,
     "metadata": {},
     "output_type": "execute_result"
    }
   ],
   "source": [
    "trainpred = adaboost.predict(xtrain)\n",
    "metric_analysis(ytrain, trainpred)"
   ],
   "metadata": {
    "collapsed": false,
    "ExecuteTime": {
     "end_time": "2023-12-04T23:56:09.904805Z",
     "start_time": "2023-12-04T23:56:08.544574Z"
    }
   },
   "id": "261934ab5edaa69c"
  },
  {
   "cell_type": "code",
   "execution_count": 79,
   "outputs": [
    {
     "name": "stdout",
     "output_type": "stream",
     "text": [
      "[[     7    370     55      2]\n",
      " [    26 103906   4871    536]\n",
      " [     5  10633  16562     98]\n",
      " [     1   4036    259    575]]\n",
      "the accuracy is  0.8528131208521791\n",
      "              precision    recall  f1-score   support\n",
      "\n",
      "           1       0.18      0.02      0.03       434\n",
      "           2       0.87      0.95      0.91    109339\n",
      "           3       0.76      0.61      0.68     27298\n",
      "           4       0.47      0.12      0.19      4871\n",
      "\n",
      "    accuracy                           0.85    141942\n",
      "   macro avg       0.57      0.42      0.45    141942\n",
      "weighted avg       0.84      0.85      0.84    141942\n"
     ]
    },
    {
     "data": {
      "text/plain": "0.8528131208521791"
     },
     "execution_count": 79,
     "metadata": {},
     "output_type": "execute_result"
    }
   ],
   "source": [
    "ypred = adaboost.predict(xtest)\n",
    "metric_analysis(ytest, ypred)"
   ],
   "metadata": {
    "collapsed": false,
    "ExecuteTime": {
     "end_time": "2023-12-04T23:56:13.278644Z",
     "start_time": "2023-12-04T23:56:12.712311Z"
    }
   },
   "id": "3432376c0a29a8e8"
  },
  {
   "cell_type": "markdown",
   "source": [
    "# XGboost "
   ],
   "metadata": {
    "collapsed": false
   },
   "id": "21b4a69d74c6dc1e"
  },
  {
   "cell_type": "code",
   "execution_count": 80,
   "outputs": [
    {
     "data": {
      "text/plain": "LabelEncoder()",
      "text/html": "<style>#sk-container-id-6 {color: black;}#sk-container-id-6 pre{padding: 0;}#sk-container-id-6 div.sk-toggleable {background-color: white;}#sk-container-id-6 label.sk-toggleable__label {cursor: pointer;display: block;width: 100%;margin-bottom: 0;padding: 0.3em;box-sizing: border-box;text-align: center;}#sk-container-id-6 label.sk-toggleable__label-arrow:before {content: \"▸\";float: left;margin-right: 0.25em;color: #696969;}#sk-container-id-6 label.sk-toggleable__label-arrow:hover:before {color: black;}#sk-container-id-6 div.sk-estimator:hover label.sk-toggleable__label-arrow:before {color: black;}#sk-container-id-6 div.sk-toggleable__content {max-height: 0;max-width: 0;overflow: hidden;text-align: left;background-color: #f0f8ff;}#sk-container-id-6 div.sk-toggleable__content pre {margin: 0.2em;color: black;border-radius: 0.25em;background-color: #f0f8ff;}#sk-container-id-6 input.sk-toggleable__control:checked~div.sk-toggleable__content {max-height: 200px;max-width: 100%;overflow: auto;}#sk-container-id-6 input.sk-toggleable__control:checked~label.sk-toggleable__label-arrow:before {content: \"▾\";}#sk-container-id-6 div.sk-estimator input.sk-toggleable__control:checked~label.sk-toggleable__label {background-color: #d4ebff;}#sk-container-id-6 div.sk-label input.sk-toggleable__control:checked~label.sk-toggleable__label {background-color: #d4ebff;}#sk-container-id-6 input.sk-hidden--visually {border: 0;clip: rect(1px 1px 1px 1px);clip: rect(1px, 1px, 1px, 1px);height: 1px;margin: -1px;overflow: hidden;padding: 0;position: absolute;width: 1px;}#sk-container-id-6 div.sk-estimator {font-family: monospace;background-color: #f0f8ff;border: 1px dotted black;border-radius: 0.25em;box-sizing: border-box;margin-bottom: 0.5em;}#sk-container-id-6 div.sk-estimator:hover {background-color: #d4ebff;}#sk-container-id-6 div.sk-parallel-item::after {content: \"\";width: 100%;border-bottom: 1px solid gray;flex-grow: 1;}#sk-container-id-6 div.sk-label:hover label.sk-toggleable__label {background-color: #d4ebff;}#sk-container-id-6 div.sk-serial::before {content: \"\";position: absolute;border-left: 1px solid gray;box-sizing: border-box;top: 0;bottom: 0;left: 50%;z-index: 0;}#sk-container-id-6 div.sk-serial {display: flex;flex-direction: column;align-items: center;background-color: white;padding-right: 0.2em;padding-left: 0.2em;position: relative;}#sk-container-id-6 div.sk-item {position: relative;z-index: 1;}#sk-container-id-6 div.sk-parallel {display: flex;align-items: stretch;justify-content: center;background-color: white;position: relative;}#sk-container-id-6 div.sk-item::before, #sk-container-id-6 div.sk-parallel-item::before {content: \"\";position: absolute;border-left: 1px solid gray;box-sizing: border-box;top: 0;bottom: 0;left: 50%;z-index: -1;}#sk-container-id-6 div.sk-parallel-item {display: flex;flex-direction: column;z-index: 1;position: relative;background-color: white;}#sk-container-id-6 div.sk-parallel-item:first-child::after {align-self: flex-end;width: 50%;}#sk-container-id-6 div.sk-parallel-item:last-child::after {align-self: flex-start;width: 50%;}#sk-container-id-6 div.sk-parallel-item:only-child::after {width: 0;}#sk-container-id-6 div.sk-dashed-wrapped {border: 1px dashed gray;margin: 0 0.4em 0.5em 0.4em;box-sizing: border-box;padding-bottom: 0.4em;background-color: white;}#sk-container-id-6 div.sk-label label {font-family: monospace;font-weight: bold;display: inline-block;line-height: 1.2em;}#sk-container-id-6 div.sk-label-container {text-align: center;}#sk-container-id-6 div.sk-container {/* jupyter's `normalize.less` sets `[hidden] { display: none; }` but bootstrap.min.css set `[hidden] { display: none !important; }` so we also need the `!important` here to be able to override the default hidden behavior on the sphinx rendered scikit-learn.org. See: https://github.com/scikit-learn/scikit-learn/issues/21755 */display: inline-block !important;position: relative;}#sk-container-id-6 div.sk-text-repr-fallback {display: none;}</style><div id=\"sk-container-id-6\" class=\"sk-top-container\"><div class=\"sk-text-repr-fallback\"><pre>LabelEncoder()</pre><b>In a Jupyter environment, please rerun this cell to show the HTML representation or trust the notebook. <br />On GitHub, the HTML representation is unable to render, please try loading this page with nbviewer.org.</b></div><div class=\"sk-container\" hidden><div class=\"sk-item\"><div class=\"sk-estimator sk-toggleable\"><input class=\"sk-toggleable__control sk-hidden--visually\" id=\"sk-estimator-id-8\" type=\"checkbox\" checked><label for=\"sk-estimator-id-8\" class=\"sk-toggleable__label sk-toggleable__label-arrow\">LabelEncoder</label><div class=\"sk-toggleable__content\"><pre>LabelEncoder()</pre></div></div></div></div></div>"
     },
     "execution_count": 80,
     "metadata": {},
     "output_type": "execute_result"
    }
   ],
   "source": [
    "le = LabelEncoder()\n",
    "le.fit(ytrain.ravel())"
   ],
   "metadata": {
    "collapsed": false,
    "ExecuteTime": {
     "end_time": "2023-12-04T23:56:15.020397Z",
     "start_time": "2023-12-04T23:56:15.002469Z"
    }
   },
   "id": "eeba728b86a08951"
  },
  {
   "cell_type": "code",
   "execution_count": 81,
   "outputs": [],
   "source": [
    "ytrain =pd.DataFrame(le.transform(ytrain))\n",
    "ytest = pd.DataFrame(le.transform(ytest))"
   ],
   "metadata": {
    "collapsed": false,
    "ExecuteTime": {
     "end_time": "2023-12-04T23:56:16.397562Z",
     "start_time": "2023-12-04T23:56:16.376279Z"
    }
   },
   "id": "1005f782bca7f90"
  },
  {
   "cell_type": "code",
   "execution_count": 82,
   "outputs": [],
   "source": [
    "xgb = XGBClassifier(n_jobs=-1)"
   ],
   "metadata": {
    "collapsed": false,
    "ExecuteTime": {
     "end_time": "2023-12-04T23:56:17.002101Z",
     "start_time": "2023-12-04T23:56:16.985774Z"
    }
   },
   "id": "d5f4e2baad2c84be"
  },
  {
   "cell_type": "code",
   "execution_count": 83,
   "outputs": [
    {
     "name": "stderr",
     "output_type": "stream",
     "text": [
      "/Users/manedge/miniconda/envs/EnvironmentTest/lib/python3.11/site-packages/xgboost/data.py:299: FutureWarning: is_sparse is deprecated and will be removed in a future version. Check `isinstance(dtype, pd.SparseDtype)` instead.\n",
      "  if is_sparse(dtype):\n",
      "/Users/manedge/miniconda/envs/EnvironmentTest/lib/python3.11/site-packages/xgboost/data.py:301: FutureWarning: is_categorical_dtype is deprecated and will be removed in a future version. Use isinstance(dtype, CategoricalDtype) instead\n",
      "  elif is_categorical_dtype(dtype) and enable_categorical:\n",
      "/Users/manedge/miniconda/envs/EnvironmentTest/lib/python3.11/site-packages/xgboost/data.py:332: FutureWarning: is_categorical_dtype is deprecated and will be removed in a future version. Use isinstance(dtype, CategoricalDtype) instead\n",
      "  if is_categorical_dtype(dtype)\n",
      "/Users/manedge/miniconda/envs/EnvironmentTest/lib/python3.11/site-packages/xgboost/data.py:323: FutureWarning: is_categorical_dtype is deprecated and will be removed in a future version. Use isinstance(dtype, CategoricalDtype) instead\n",
      "  return is_int or is_bool or is_float or is_categorical_dtype(dtype)\n",
      "/Users/manedge/miniconda/envs/EnvironmentTest/lib/python3.11/site-packages/xgboost/data.py:332: FutureWarning: is_categorical_dtype is deprecated and will be removed in a future version. Use isinstance(dtype, CategoricalDtype) instead\n",
      "  if is_categorical_dtype(dtype)\n",
      "/Users/manedge/miniconda/envs/EnvironmentTest/lib/python3.11/site-packages/xgboost/data.py:323: FutureWarning: is_categorical_dtype is deprecated and will be removed in a future version. Use isinstance(dtype, CategoricalDtype) instead\n",
      "  return is_int or is_bool or is_float or is_categorical_dtype(dtype)\n",
      "/Users/manedge/miniconda/envs/EnvironmentTest/lib/python3.11/site-packages/xgboost/data.py:299: FutureWarning: is_sparse is deprecated and will be removed in a future version. Check `isinstance(dtype, pd.SparseDtype)` instead.\n",
      "  if is_sparse(dtype):\n",
      "/Users/manedge/miniconda/envs/EnvironmentTest/lib/python3.11/site-packages/xgboost/data.py:301: FutureWarning: is_categorical_dtype is deprecated and will be removed in a future version. Use isinstance(dtype, CategoricalDtype) instead\n",
      "  elif is_categorical_dtype(dtype) and enable_categorical:\n",
      "/Users/manedge/miniconda/envs/EnvironmentTest/lib/python3.11/site-packages/xgboost/data.py:332: FutureWarning: is_categorical_dtype is deprecated and will be removed in a future version. Use isinstance(dtype, CategoricalDtype) instead\n",
      "  if is_categorical_dtype(dtype)\n",
      "/Users/manedge/miniconda/envs/EnvironmentTest/lib/python3.11/site-packages/xgboost/data.py:323: FutureWarning: is_categorical_dtype is deprecated and will be removed in a future version. Use isinstance(dtype, CategoricalDtype) instead\n",
      "  return is_int or is_bool or is_float or is_categorical_dtype(dtype)\n"
     ]
    }
   ],
   "source": [
    "xgb.fit(xtrain, ytrain)\n",
    "trainpred = xgb.predict(xtrain)"
   ],
   "metadata": {
    "collapsed": false,
    "ExecuteTime": {
     "end_time": "2023-12-04T23:56:42.067972Z",
     "start_time": "2023-12-04T23:56:17.608291Z"
    }
   },
   "id": "46cc124e214f8eb5"
  },
  {
   "cell_type": "code",
   "execution_count": 84,
   "outputs": [
    {
     "name": "stdout",
     "output_type": "stream",
     "text": [
      "[[   173    724    115      0]\n",
      " [     1 244461   9701    500]\n",
      " [     1  16443  47480    158]\n",
      " [     0   7666    512   3261]]\n",
      "the accuracy is  0.8918435005253686\n",
      "              precision    recall  f1-score   support\n",
      "\n",
      "           0       0.99      0.17      0.29      1012\n",
      "           1       0.91      0.96      0.93    254663\n",
      "           2       0.82      0.74      0.78     64082\n",
      "           3       0.83      0.29      0.42     11439\n",
      "\n",
      "    accuracy                           0.89    331196\n",
      "   macro avg       0.89      0.54      0.61    331196\n",
      "weighted avg       0.89      0.89      0.88    331196\n"
     ]
    },
    {
     "data": {
      "text/plain": "0.8918435005253686"
     },
     "execution_count": 84,
     "metadata": {},
     "output_type": "execute_result"
    }
   ],
   "source": [
    "metric_analysis(ytrain, trainpred)"
   ],
   "metadata": {
    "collapsed": false,
    "ExecuteTime": {
     "end_time": "2023-12-04T23:56:45.799731Z",
     "start_time": "2023-12-04T23:56:45.520491Z"
    }
   },
   "id": "58095dc7a666aff0"
  },
  {
   "cell_type": "code",
   "execution_count": 85,
   "outputs": [
    {
     "name": "stderr",
     "output_type": "stream",
     "text": [
      "/Users/manedge/miniconda/envs/EnvironmentTest/lib/python3.11/site-packages/xgboost/data.py:299: FutureWarning: is_sparse is deprecated and will be removed in a future version. Check `isinstance(dtype, pd.SparseDtype)` instead.\n",
      "  if is_sparse(dtype):\n",
      "/Users/manedge/miniconda/envs/EnvironmentTest/lib/python3.11/site-packages/xgboost/data.py:301: FutureWarning: is_categorical_dtype is deprecated and will be removed in a future version. Use isinstance(dtype, CategoricalDtype) instead\n",
      "  elif is_categorical_dtype(dtype) and enable_categorical:\n",
      "/Users/manedge/miniconda/envs/EnvironmentTest/lib/python3.11/site-packages/xgboost/data.py:332: FutureWarning: is_categorical_dtype is deprecated and will be removed in a future version. Use isinstance(dtype, CategoricalDtype) instead\n",
      "  if is_categorical_dtype(dtype)\n",
      "/Users/manedge/miniconda/envs/EnvironmentTest/lib/python3.11/site-packages/xgboost/data.py:323: FutureWarning: is_categorical_dtype is deprecated and will be removed in a future version. Use isinstance(dtype, CategoricalDtype) instead\n",
      "  return is_int or is_bool or is_float or is_categorical_dtype(dtype)\n"
     ]
    },
    {
     "name": "stdout",
     "output_type": "stream",
     "text": [
      "[[    37    346     50      1]\n",
      " [     2 104307   4653    377]\n",
      " [     2   7545  19653     98]\n",
      " [     0   3550    244   1077]]\n",
      "the accuracy is  0.8811627284383763\n",
      "              precision    recall  f1-score   support\n",
      "\n",
      "           0       0.90      0.09      0.16       434\n",
      "           1       0.90      0.95      0.93    109339\n",
      "           2       0.80      0.72      0.76     27298\n",
      "           3       0.69      0.22      0.34      4871\n",
      "\n",
      "    accuracy                           0.88    141942\n",
      "   macro avg       0.82      0.50      0.54    141942\n",
      "weighted avg       0.87      0.88      0.87    141942\n"
     ]
    },
    {
     "data": {
      "text/plain": "0.8811627284383763"
     },
     "execution_count": 85,
     "metadata": {},
     "output_type": "execute_result"
    }
   ],
   "source": [
    "ypred = xgb.predict(xtest)\n",
    "metric_analysis(ytest, ypred)"
   ],
   "metadata": {
    "collapsed": false,
    "ExecuteTime": {
     "end_time": "2023-12-04T23:56:48.410397Z",
     "start_time": "2023-12-04T23:56:48.190534Z"
    }
   },
   "id": "f7b6326d3e35bca6"
  },
  {
   "cell_type": "markdown",
   "source": [
    "MiniBatchKMeans Clustering "
   ],
   "metadata": {
    "collapsed": false
   },
   "id": "b75190d3a8a6447e"
  },
  {
   "cell_type": "markdown",
   "source": [
    "Objective: Cluster the data points based on temperature. Then remove the features realted to temperature and only train on the clustered label. (editor note: this does not affect accuracy, but can lead to interesting use case, and certain problem solving) "
   ],
   "metadata": {
    "collapsed": false
   },
   "id": "9682b9089409eaf7"
  },
  {
   "cell_type": "code",
   "execution_count": 88,
   "outputs": [
    {
     "name": "stderr",
     "output_type": "stream",
     "text": [
      "/Users/manedge/miniconda/envs/EnvironmentTest/lib/python3.11/site-packages/sklearn/cluster/_kmeans.py:1930: FutureWarning: The default value of `n_init` will change from 3 to 'auto' in 1.4. Set the value of `n_init` explicitly to suppress the warning\n",
      "  super()._check_params_vs_input(X, default_n_init=3)\n"
     ]
    },
    {
     "data": {
      "text/plain": "MiniBatchKMeans(n_clusters=150)",
      "text/html": "<style>#sk-container-id-7 {color: black;}#sk-container-id-7 pre{padding: 0;}#sk-container-id-7 div.sk-toggleable {background-color: white;}#sk-container-id-7 label.sk-toggleable__label {cursor: pointer;display: block;width: 100%;margin-bottom: 0;padding: 0.3em;box-sizing: border-box;text-align: center;}#sk-container-id-7 label.sk-toggleable__label-arrow:before {content: \"▸\";float: left;margin-right: 0.25em;color: #696969;}#sk-container-id-7 label.sk-toggleable__label-arrow:hover:before {color: black;}#sk-container-id-7 div.sk-estimator:hover label.sk-toggleable__label-arrow:before {color: black;}#sk-container-id-7 div.sk-toggleable__content {max-height: 0;max-width: 0;overflow: hidden;text-align: left;background-color: #f0f8ff;}#sk-container-id-7 div.sk-toggleable__content pre {margin: 0.2em;color: black;border-radius: 0.25em;background-color: #f0f8ff;}#sk-container-id-7 input.sk-toggleable__control:checked~div.sk-toggleable__content {max-height: 200px;max-width: 100%;overflow: auto;}#sk-container-id-7 input.sk-toggleable__control:checked~label.sk-toggleable__label-arrow:before {content: \"▾\";}#sk-container-id-7 div.sk-estimator input.sk-toggleable__control:checked~label.sk-toggleable__label {background-color: #d4ebff;}#sk-container-id-7 div.sk-label input.sk-toggleable__control:checked~label.sk-toggleable__label {background-color: #d4ebff;}#sk-container-id-7 input.sk-hidden--visually {border: 0;clip: rect(1px 1px 1px 1px);clip: rect(1px, 1px, 1px, 1px);height: 1px;margin: -1px;overflow: hidden;padding: 0;position: absolute;width: 1px;}#sk-container-id-7 div.sk-estimator {font-family: monospace;background-color: #f0f8ff;border: 1px dotted black;border-radius: 0.25em;box-sizing: border-box;margin-bottom: 0.5em;}#sk-container-id-7 div.sk-estimator:hover {background-color: #d4ebff;}#sk-container-id-7 div.sk-parallel-item::after {content: \"\";width: 100%;border-bottom: 1px solid gray;flex-grow: 1;}#sk-container-id-7 div.sk-label:hover label.sk-toggleable__label {background-color: #d4ebff;}#sk-container-id-7 div.sk-serial::before {content: \"\";position: absolute;border-left: 1px solid gray;box-sizing: border-box;top: 0;bottom: 0;left: 50%;z-index: 0;}#sk-container-id-7 div.sk-serial {display: flex;flex-direction: column;align-items: center;background-color: white;padding-right: 0.2em;padding-left: 0.2em;position: relative;}#sk-container-id-7 div.sk-item {position: relative;z-index: 1;}#sk-container-id-7 div.sk-parallel {display: flex;align-items: stretch;justify-content: center;background-color: white;position: relative;}#sk-container-id-7 div.sk-item::before, #sk-container-id-7 div.sk-parallel-item::before {content: \"\";position: absolute;border-left: 1px solid gray;box-sizing: border-box;top: 0;bottom: 0;left: 50%;z-index: -1;}#sk-container-id-7 div.sk-parallel-item {display: flex;flex-direction: column;z-index: 1;position: relative;background-color: white;}#sk-container-id-7 div.sk-parallel-item:first-child::after {align-self: flex-end;width: 50%;}#sk-container-id-7 div.sk-parallel-item:last-child::after {align-self: flex-start;width: 50%;}#sk-container-id-7 div.sk-parallel-item:only-child::after {width: 0;}#sk-container-id-7 div.sk-dashed-wrapped {border: 1px dashed gray;margin: 0 0.4em 0.5em 0.4em;box-sizing: border-box;padding-bottom: 0.4em;background-color: white;}#sk-container-id-7 div.sk-label label {font-family: monospace;font-weight: bold;display: inline-block;line-height: 1.2em;}#sk-container-id-7 div.sk-label-container {text-align: center;}#sk-container-id-7 div.sk-container {/* jupyter's `normalize.less` sets `[hidden] { display: none; }` but bootstrap.min.css set `[hidden] { display: none !important; }` so we also need the `!important` here to be able to override the default hidden behavior on the sphinx rendered scikit-learn.org. See: https://github.com/scikit-learn/scikit-learn/issues/21755 */display: inline-block !important;position: relative;}#sk-container-id-7 div.sk-text-repr-fallback {display: none;}</style><div id=\"sk-container-id-7\" class=\"sk-top-container\"><div class=\"sk-text-repr-fallback\"><pre>MiniBatchKMeans(n_clusters=150)</pre><b>In a Jupyter environment, please rerun this cell to show the HTML representation or trust the notebook. <br />On GitHub, the HTML representation is unable to render, please try loading this page with nbviewer.org.</b></div><div class=\"sk-container\" hidden><div class=\"sk-item\"><div class=\"sk-estimator sk-toggleable\"><input class=\"sk-toggleable__control sk-hidden--visually\" id=\"sk-estimator-id-9\" type=\"checkbox\" checked><label for=\"sk-estimator-id-9\" class=\"sk-toggleable__label sk-toggleable__label-arrow\">MiniBatchKMeans</label><div class=\"sk-toggleable__content\"><pre>MiniBatchKMeans(n_clusters=150)</pre></div></div></div></div></div>"
     },
     "execution_count": 88,
     "metadata": {},
     "output_type": "execute_result"
    }
   ],
   "source": [
    "minimeans = MiniBatchKMeans(compute_labels=True, n_clusters=150)\n",
    "minimeans.fit(data[['Temperature(F)', 'Humidity(%)', 'Pressure(in)', 'Visibility(mi)','Wind_Direction', 'Weather_Condition']])"
   ],
   "metadata": {
    "collapsed": false,
    "ExecuteTime": {
     "end_time": "2023-12-04T23:57:59.081755Z",
     "start_time": "2023-12-04T23:57:58.178720Z"
    }
   },
   "id": "35e581956e5828ad"
  },
  {
   "cell_type": "code",
   "execution_count": 89,
   "outputs": [
    {
     "data": {
      "text/plain": "360563.8975784617"
     },
     "execution_count": 89,
     "metadata": {},
     "output_type": "execute_result"
    }
   ],
   "source": [
    "minimeans.inertia_"
   ],
   "metadata": {
    "collapsed": false,
    "ExecuteTime": {
     "end_time": "2023-12-04T23:58:04.356760Z",
     "start_time": "2023-12-04T23:58:04.304961Z"
    }
   },
   "id": "1265fb12739960fd"
  },
  {
   "cell_type": "code",
   "execution_count": 90,
   "outputs": [
    {
     "data": {
      "text/plain": "   Severity  Start_Lat  Start_Lng  Distance(mi)    Street   Zipcode  \\\n0         2  -0.472877   0.205818     -0.361368 -0.002357  0.581094   \n1         3  -0.109174   0.256066     -0.361368  0.547821  2.793280   \n2         3  -0.129749   0.263616      0.946431  1.152862  0.899015   \n3         3  -0.234462   0.593365      0.240635 -0.042970 -0.217501   \n4         3   0.141869   0.682244     -0.361368  0.632058  1.180043   \n\n   Temperature(F)  Humidity(%)  Pressure(in)  Visibility(mi)  ...  Station  \\\n0       -0.053000     1.345197     -0.208519       -2.404577  ...        0   \n1       -0.152607     1.345197     -0.151751       -2.959664  ...        0   \n2       -0.152607     1.345197     -0.094983       -2.959664  ...        0   \n3       -0.210275     1.345197     -0.151751       -2.589606  ...        0   \n4       -0.210275     1.149605     -0.009831       -2.219548  ...        0   \n\n   Stop  Traffic_Calming  Traffic_Signal  Turning_Loop  Sunrise_Sunset  \\\n0     0                0               1             0               1   \n1     0                0               0             0               0   \n2     0                0               0             0               0   \n3     0                0               0             0               0   \n4     0                0               0             0               0   \n\n   Civil_Twilight  Nautical_Twilight  Astronomical_Twilight  tempClusters  \n0               0                  0                      0             5  \n1               0                  0                      0             3  \n2               0                  0                      0             3  \n3               0                  0                      0            37  \n4               0                  0                      0             5  \n\n[5 rows x 30 columns]",
      "text/html": "<div>\n<style scoped>\n    .dataframe tbody tr th:only-of-type {\n        vertical-align: middle;\n    }\n\n    .dataframe tbody tr th {\n        vertical-align: top;\n    }\n\n    .dataframe thead th {\n        text-align: right;\n    }\n</style>\n<table border=\"1\" class=\"dataframe\">\n  <thead>\n    <tr style=\"text-align: right;\">\n      <th></th>\n      <th>Severity</th>\n      <th>Start_Lat</th>\n      <th>Start_Lng</th>\n      <th>Distance(mi)</th>\n      <th>Street</th>\n      <th>Zipcode</th>\n      <th>Temperature(F)</th>\n      <th>Humidity(%)</th>\n      <th>Pressure(in)</th>\n      <th>Visibility(mi)</th>\n      <th>...</th>\n      <th>Station</th>\n      <th>Stop</th>\n      <th>Traffic_Calming</th>\n      <th>Traffic_Signal</th>\n      <th>Turning_Loop</th>\n      <th>Sunrise_Sunset</th>\n      <th>Civil_Twilight</th>\n      <th>Nautical_Twilight</th>\n      <th>Astronomical_Twilight</th>\n      <th>tempClusters</th>\n    </tr>\n  </thead>\n  <tbody>\n    <tr>\n      <th>0</th>\n      <td>2</td>\n      <td>-0.472877</td>\n      <td>0.205818</td>\n      <td>-0.361368</td>\n      <td>-0.002357</td>\n      <td>0.581094</td>\n      <td>-0.053000</td>\n      <td>1.345197</td>\n      <td>-0.208519</td>\n      <td>-2.404577</td>\n      <td>...</td>\n      <td>0</td>\n      <td>0</td>\n      <td>0</td>\n      <td>1</td>\n      <td>0</td>\n      <td>1</td>\n      <td>0</td>\n      <td>0</td>\n      <td>0</td>\n      <td>5</td>\n    </tr>\n    <tr>\n      <th>1</th>\n      <td>3</td>\n      <td>-0.109174</td>\n      <td>0.256066</td>\n      <td>-0.361368</td>\n      <td>0.547821</td>\n      <td>2.793280</td>\n      <td>-0.152607</td>\n      <td>1.345197</td>\n      <td>-0.151751</td>\n      <td>-2.959664</td>\n      <td>...</td>\n      <td>0</td>\n      <td>0</td>\n      <td>0</td>\n      <td>0</td>\n      <td>0</td>\n      <td>0</td>\n      <td>0</td>\n      <td>0</td>\n      <td>0</td>\n      <td>3</td>\n    </tr>\n    <tr>\n      <th>2</th>\n      <td>3</td>\n      <td>-0.129749</td>\n      <td>0.263616</td>\n      <td>0.946431</td>\n      <td>1.152862</td>\n      <td>0.899015</td>\n      <td>-0.152607</td>\n      <td>1.345197</td>\n      <td>-0.094983</td>\n      <td>-2.959664</td>\n      <td>...</td>\n      <td>0</td>\n      <td>0</td>\n      <td>0</td>\n      <td>0</td>\n      <td>0</td>\n      <td>0</td>\n      <td>0</td>\n      <td>0</td>\n      <td>0</td>\n      <td>3</td>\n    </tr>\n    <tr>\n      <th>3</th>\n      <td>3</td>\n      <td>-0.234462</td>\n      <td>0.593365</td>\n      <td>0.240635</td>\n      <td>-0.042970</td>\n      <td>-0.217501</td>\n      <td>-0.210275</td>\n      <td>1.345197</td>\n      <td>-0.151751</td>\n      <td>-2.589606</td>\n      <td>...</td>\n      <td>0</td>\n      <td>0</td>\n      <td>0</td>\n      <td>0</td>\n      <td>0</td>\n      <td>0</td>\n      <td>0</td>\n      <td>0</td>\n      <td>0</td>\n      <td>37</td>\n    </tr>\n    <tr>\n      <th>4</th>\n      <td>3</td>\n      <td>0.141869</td>\n      <td>0.682244</td>\n      <td>-0.361368</td>\n      <td>0.632058</td>\n      <td>1.180043</td>\n      <td>-0.210275</td>\n      <td>1.149605</td>\n      <td>-0.009831</td>\n      <td>-2.219548</td>\n      <td>...</td>\n      <td>0</td>\n      <td>0</td>\n      <td>0</td>\n      <td>0</td>\n      <td>0</td>\n      <td>0</td>\n      <td>0</td>\n      <td>0</td>\n      <td>0</td>\n      <td>5</td>\n    </tr>\n  </tbody>\n</table>\n<p>5 rows × 30 columns</p>\n</div>"
     },
     "execution_count": 90,
     "metadata": {},
     "output_type": "execute_result"
    }
   ],
   "source": [
    "data['tempClusters'] = minimeans.labels_\n",
    "data.head()"
   ],
   "metadata": {
    "collapsed": false,
    "ExecuteTime": {
     "end_time": "2023-12-04T23:58:37.394142Z",
     "start_time": "2023-12-04T23:58:37.342610Z"
    }
   },
   "id": "8f4767ebb3dafbcf"
  },
  {
   "cell_type": "code",
   "execution_count": 91,
   "outputs": [],
   "source": [
    "data = data.drop(columns=['Temperature(F)', 'Humidity(%)', 'Pressure(in)', 'Visibility(mi)','Wind_Direction', 'Weather_Condition'], axis=1)"
   ],
   "metadata": {
    "collapsed": false,
    "ExecuteTime": {
     "end_time": "2023-12-04T23:58:50.435767Z",
     "start_time": "2023-12-04T23:58:50.399138Z"
    }
   },
   "id": "7e1c58a97333b046"
  },
  {
   "cell_type": "code",
   "execution_count": 92,
   "outputs": [
    {
     "data": {
      "text/plain": "   Severity  Start_Lat  Start_Lng  Distance(mi)    Street   Zipcode  Amenity  \\\n0         2  -0.472877   0.205818     -0.361368 -0.002357  0.581094        0   \n1         3  -0.109174   0.256066     -0.361368  0.547821  2.793280        0   \n2         3  -0.129749   0.263616      0.946431  1.152862  0.899015        0   \n3         3  -0.234462   0.593365      0.240635 -0.042970 -0.217501        0   \n4         3   0.141869   0.682244     -0.361368  0.632058  1.180043        0   \n\n   Bump  Crossing  Give_Way  ...  Station  Stop  Traffic_Calming  \\\n0     0         0         0  ...        0     0                0   \n1     0         0         0  ...        0     0                0   \n2     0         0         0  ...        0     0                0   \n3     0         0         0  ...        0     0                0   \n4     0         0         0  ...        0     0                0   \n\n   Traffic_Signal  Turning_Loop  Sunrise_Sunset  Civil_Twilight  \\\n0               1             0               1               0   \n1               0             0               0               0   \n2               0             0               0               0   \n3               0             0               0               0   \n4               0             0               0               0   \n\n   Nautical_Twilight  Astronomical_Twilight  tempClusters  \n0                  0                      0      2.269949  \n1                  0                      0      2.421733  \n2                  0                      0      2.419530  \n3                  0                      0      2.255394  \n4                  0                      0      2.269270  \n\n[5 rows x 24 columns]",
      "text/html": "<div>\n<style scoped>\n    .dataframe tbody tr th:only-of-type {\n        vertical-align: middle;\n    }\n\n    .dataframe tbody tr th {\n        vertical-align: top;\n    }\n\n    .dataframe thead th {\n        text-align: right;\n    }\n</style>\n<table border=\"1\" class=\"dataframe\">\n  <thead>\n    <tr style=\"text-align: right;\">\n      <th></th>\n      <th>Severity</th>\n      <th>Start_Lat</th>\n      <th>Start_Lng</th>\n      <th>Distance(mi)</th>\n      <th>Street</th>\n      <th>Zipcode</th>\n      <th>Amenity</th>\n      <th>Bump</th>\n      <th>Crossing</th>\n      <th>Give_Way</th>\n      <th>...</th>\n      <th>Station</th>\n      <th>Stop</th>\n      <th>Traffic_Calming</th>\n      <th>Traffic_Signal</th>\n      <th>Turning_Loop</th>\n      <th>Sunrise_Sunset</th>\n      <th>Civil_Twilight</th>\n      <th>Nautical_Twilight</th>\n      <th>Astronomical_Twilight</th>\n      <th>tempClusters</th>\n    </tr>\n  </thead>\n  <tbody>\n    <tr>\n      <th>0</th>\n      <td>2</td>\n      <td>-0.472877</td>\n      <td>0.205818</td>\n      <td>-0.361368</td>\n      <td>-0.002357</td>\n      <td>0.581094</td>\n      <td>0</td>\n      <td>0</td>\n      <td>0</td>\n      <td>0</td>\n      <td>...</td>\n      <td>0</td>\n      <td>0</td>\n      <td>0</td>\n      <td>1</td>\n      <td>0</td>\n      <td>1</td>\n      <td>0</td>\n      <td>0</td>\n      <td>0</td>\n      <td>2.269949</td>\n    </tr>\n    <tr>\n      <th>1</th>\n      <td>3</td>\n      <td>-0.109174</td>\n      <td>0.256066</td>\n      <td>-0.361368</td>\n      <td>0.547821</td>\n      <td>2.793280</td>\n      <td>0</td>\n      <td>0</td>\n      <td>0</td>\n      <td>0</td>\n      <td>...</td>\n      <td>0</td>\n      <td>0</td>\n      <td>0</td>\n      <td>0</td>\n      <td>0</td>\n      <td>0</td>\n      <td>0</td>\n      <td>0</td>\n      <td>0</td>\n      <td>2.421733</td>\n    </tr>\n    <tr>\n      <th>2</th>\n      <td>3</td>\n      <td>-0.129749</td>\n      <td>0.263616</td>\n      <td>0.946431</td>\n      <td>1.152862</td>\n      <td>0.899015</td>\n      <td>0</td>\n      <td>0</td>\n      <td>0</td>\n      <td>0</td>\n      <td>...</td>\n      <td>0</td>\n      <td>0</td>\n      <td>0</td>\n      <td>0</td>\n      <td>0</td>\n      <td>0</td>\n      <td>0</td>\n      <td>0</td>\n      <td>0</td>\n      <td>2.419530</td>\n    </tr>\n    <tr>\n      <th>3</th>\n      <td>3</td>\n      <td>-0.234462</td>\n      <td>0.593365</td>\n      <td>0.240635</td>\n      <td>-0.042970</td>\n      <td>-0.217501</td>\n      <td>0</td>\n      <td>0</td>\n      <td>0</td>\n      <td>0</td>\n      <td>...</td>\n      <td>0</td>\n      <td>0</td>\n      <td>0</td>\n      <td>0</td>\n      <td>0</td>\n      <td>0</td>\n      <td>0</td>\n      <td>0</td>\n      <td>0</td>\n      <td>2.255394</td>\n    </tr>\n    <tr>\n      <th>4</th>\n      <td>3</td>\n      <td>0.141869</td>\n      <td>0.682244</td>\n      <td>-0.361368</td>\n      <td>0.632058</td>\n      <td>1.180043</td>\n      <td>0</td>\n      <td>0</td>\n      <td>0</td>\n      <td>0</td>\n      <td>...</td>\n      <td>0</td>\n      <td>0</td>\n      <td>0</td>\n      <td>0</td>\n      <td>0</td>\n      <td>0</td>\n      <td>0</td>\n      <td>0</td>\n      <td>0</td>\n      <td>2.269270</td>\n    </tr>\n  </tbody>\n</table>\n<p>5 rows × 24 columns</p>\n</div>"
     },
     "execution_count": 92,
     "metadata": {},
     "output_type": "execute_result"
    }
   ],
   "source": [
    "te = TargetEncoder(target_type='continuous')\n",
    "data[['tempClusters']] = te.fit_transform(data[['tempClusters']], data.Severity)\n",
    "data.head()"
   ],
   "metadata": {
    "collapsed": false,
    "ExecuteTime": {
     "end_time": "2023-12-04T23:58:55.567436Z",
     "start_time": "2023-12-04T23:58:55.470662Z"
    }
   },
   "id": "90929dd2d52a56a7"
  },
  {
   "cell_type": "code",
   "execution_count": 93,
   "outputs": [
    {
     "data": {
      "text/plain": "   Severity  Start_Lat  Start_Lng  Distance(mi)    Street   Zipcode  Amenity  \\\n0         2  -0.472877   0.205818     -0.361368 -0.002357  0.581094        0   \n1         3  -0.109174   0.256066     -0.361368  0.547821  2.793280        0   \n2         3  -0.129749   0.263616      0.946431  1.152862  0.899015        0   \n3         3  -0.234462   0.593365      0.240635 -0.042970 -0.217501        0   \n4         3   0.141869   0.682244     -0.361368  0.632058  1.180043        0   \n\n   Bump  Crossing  Give_Way  ...  Station  Stop  Traffic_Calming  \\\n0     0         0         0  ...        0     0                0   \n1     0         0         0  ...        0     0                0   \n2     0         0         0  ...        0     0                0   \n3     0         0         0  ...        0     0                0   \n4     0         0         0  ...        0     0                0   \n\n   Traffic_Signal  Turning_Loop  Sunrise_Sunset  Civil_Twilight  \\\n0               1             0               1               0   \n1               0             0               0               0   \n2               0             0               0               0   \n3               0             0               0               0   \n4               0             0               0               0   \n\n   Nautical_Twilight  Astronomical_Twilight  tempClusters  \n0                  0                      0      0.112333  \n1                  0                      0      1.672663  \n2                  0                      0      1.650013  \n3                  0                      0     -0.037287  \n4                  0                      0      0.105354  \n\n[5 rows x 24 columns]",
      "text/html": "<div>\n<style scoped>\n    .dataframe tbody tr th:only-of-type {\n        vertical-align: middle;\n    }\n\n    .dataframe tbody tr th {\n        vertical-align: top;\n    }\n\n    .dataframe thead th {\n        text-align: right;\n    }\n</style>\n<table border=\"1\" class=\"dataframe\">\n  <thead>\n    <tr style=\"text-align: right;\">\n      <th></th>\n      <th>Severity</th>\n      <th>Start_Lat</th>\n      <th>Start_Lng</th>\n      <th>Distance(mi)</th>\n      <th>Street</th>\n      <th>Zipcode</th>\n      <th>Amenity</th>\n      <th>Bump</th>\n      <th>Crossing</th>\n      <th>Give_Way</th>\n      <th>...</th>\n      <th>Station</th>\n      <th>Stop</th>\n      <th>Traffic_Calming</th>\n      <th>Traffic_Signal</th>\n      <th>Turning_Loop</th>\n      <th>Sunrise_Sunset</th>\n      <th>Civil_Twilight</th>\n      <th>Nautical_Twilight</th>\n      <th>Astronomical_Twilight</th>\n      <th>tempClusters</th>\n    </tr>\n  </thead>\n  <tbody>\n    <tr>\n      <th>0</th>\n      <td>2</td>\n      <td>-0.472877</td>\n      <td>0.205818</td>\n      <td>-0.361368</td>\n      <td>-0.002357</td>\n      <td>0.581094</td>\n      <td>0</td>\n      <td>0</td>\n      <td>0</td>\n      <td>0</td>\n      <td>...</td>\n      <td>0</td>\n      <td>0</td>\n      <td>0</td>\n      <td>1</td>\n      <td>0</td>\n      <td>1</td>\n      <td>0</td>\n      <td>0</td>\n      <td>0</td>\n      <td>0.112333</td>\n    </tr>\n    <tr>\n      <th>1</th>\n      <td>3</td>\n      <td>-0.109174</td>\n      <td>0.256066</td>\n      <td>-0.361368</td>\n      <td>0.547821</td>\n      <td>2.793280</td>\n      <td>0</td>\n      <td>0</td>\n      <td>0</td>\n      <td>0</td>\n      <td>...</td>\n      <td>0</td>\n      <td>0</td>\n      <td>0</td>\n      <td>0</td>\n      <td>0</td>\n      <td>0</td>\n      <td>0</td>\n      <td>0</td>\n      <td>0</td>\n      <td>1.672663</td>\n    </tr>\n    <tr>\n      <th>2</th>\n      <td>3</td>\n      <td>-0.129749</td>\n      <td>0.263616</td>\n      <td>0.946431</td>\n      <td>1.152862</td>\n      <td>0.899015</td>\n      <td>0</td>\n      <td>0</td>\n      <td>0</td>\n      <td>0</td>\n      <td>...</td>\n      <td>0</td>\n      <td>0</td>\n      <td>0</td>\n      <td>0</td>\n      <td>0</td>\n      <td>0</td>\n      <td>0</td>\n      <td>0</td>\n      <td>0</td>\n      <td>1.650013</td>\n    </tr>\n    <tr>\n      <th>3</th>\n      <td>3</td>\n      <td>-0.234462</td>\n      <td>0.593365</td>\n      <td>0.240635</td>\n      <td>-0.042970</td>\n      <td>-0.217501</td>\n      <td>0</td>\n      <td>0</td>\n      <td>0</td>\n      <td>0</td>\n      <td>...</td>\n      <td>0</td>\n      <td>0</td>\n      <td>0</td>\n      <td>0</td>\n      <td>0</td>\n      <td>0</td>\n      <td>0</td>\n      <td>0</td>\n      <td>0</td>\n      <td>-0.037287</td>\n    </tr>\n    <tr>\n      <th>4</th>\n      <td>3</td>\n      <td>0.141869</td>\n      <td>0.682244</td>\n      <td>-0.361368</td>\n      <td>0.632058</td>\n      <td>1.180043</td>\n      <td>0</td>\n      <td>0</td>\n      <td>0</td>\n      <td>0</td>\n      <td>...</td>\n      <td>0</td>\n      <td>0</td>\n      <td>0</td>\n      <td>0</td>\n      <td>0</td>\n      <td>0</td>\n      <td>0</td>\n      <td>0</td>\n      <td>0</td>\n      <td>0.105354</td>\n    </tr>\n  </tbody>\n</table>\n<p>5 rows × 24 columns</p>\n</div>"
     },
     "execution_count": 93,
     "metadata": {},
     "output_type": "execute_result"
    }
   ],
   "source": [
    "scaler = StandardScaler()\n",
    "data[['tempClusters']] = scaler.fit_transform(data[['tempClusters']])\n",
    "data.head()"
   ],
   "metadata": {
    "collapsed": false,
    "ExecuteTime": {
     "end_time": "2023-12-04T23:59:00.547267Z",
     "start_time": "2023-12-04T23:59:00.496347Z"
    }
   },
   "id": "298ed832fec32008"
  },
  {
   "cell_type": "markdown",
   "source": [
    "THIS LINK BELOW SAVES THE NEW CLUSTERED DATASET AS A FILE CALLED NEW YORK ACCIDENT MINI MEANS CLUSTERED. you can use this dataset and re run on already ran algorithms to test a difference in output if you would like "
   ],
   "metadata": {
    "collapsed": false
   },
   "id": "e7ed3af22ce4188c"
  },
  {
   "cell_type": "code",
   "execution_count": 94,
   "outputs": [
    {
     "data": {
      "text/plain": "\"\\nlink = './accident dataset/new york accident minimeans clustered.csv'\\ndata.to_csv(path_or_buf=link, index=False)\""
     },
     "execution_count": 94,
     "metadata": {},
     "output_type": "execute_result"
    }
   ],
   "source": [
    "'''\n",
    "link = './accident dataset/new york accident minimeans clustered.csv'\n",
    "data.to_csv(path_or_buf=link, index=False)'''"
   ],
   "metadata": {
    "collapsed": false,
    "ExecuteTime": {
     "end_time": "2023-12-05T00:00:44.115528Z",
     "start_time": "2023-12-05T00:00:44.063574Z"
    }
   },
   "id": "49e609774369933d"
  },
  {
   "cell_type": "markdown",
   "source": [
    "To test the difference in accuracy please re run all the models with the new dataset to see changes in accuracy. If youd like to see the results please launch individual codes, (for example `xgboost.ipynb`) and the bottom segment performs the code on the clustered dataset and notes the accuracy. "
   ],
   "metadata": {
    "collapsed": false
   },
   "id": "2c344e66b482ed9e"
  },
  {
   "cell_type": "markdown",
   "source": [
    "# K MEANS CLUSTERED RANDOM FOREST "
   ],
   "metadata": {
    "collapsed": false
   },
   "id": "f44614853de7a808"
  },
  {
   "cell_type": "code",
   "execution_count": 97,
   "outputs": [
    {
     "data": {
      "text/plain": "   Severity  Start_Lat  Start_Lng  Distance(mi)    Street   Zipcode  Amenity  \\\n0         2  -0.472877   0.205818     -0.361368 -0.002357  0.581094        0   \n1         3  -0.109174   0.256066     -0.361368  0.547821  2.793280        0   \n2         3  -0.129749   0.263616      0.946431  1.152862  0.899015        0   \n3         3  -0.234462   0.593365      0.240635 -0.042970 -0.217501        0   \n4         3   0.141869   0.682244     -0.361368  0.632058  1.180043        0   \n\n   Bump  Crossing  Give_Way  ...  Station  Stop  Traffic_Calming  \\\n0     0         0         0  ...        0     0                0   \n1     0         0         0  ...        0     0                0   \n2     0         0         0  ...        0     0                0   \n3     0         0         0  ...        0     0                0   \n4     0         0         0  ...        0     0                0   \n\n   Traffic_Signal  Turning_Loop  Sunrise_Sunset  Civil_Twilight  \\\n0               1             0               1               0   \n1               0             0               0               0   \n2               0             0               0               0   \n3               0             0               0               0   \n4               0             0               0               0   \n\n   Nautical_Twilight  Astronomical_Twilight  tempClusters  \n0                  0                      0      0.112333  \n1                  0                      0      1.672663  \n2                  0                      0      1.650013  \n3                  0                      0     -0.037287  \n4                  0                      0      0.105354  \n\n[5 rows x 24 columns]",
      "text/html": "<div>\n<style scoped>\n    .dataframe tbody tr th:only-of-type {\n        vertical-align: middle;\n    }\n\n    .dataframe tbody tr th {\n        vertical-align: top;\n    }\n\n    .dataframe thead th {\n        text-align: right;\n    }\n</style>\n<table border=\"1\" class=\"dataframe\">\n  <thead>\n    <tr style=\"text-align: right;\">\n      <th></th>\n      <th>Severity</th>\n      <th>Start_Lat</th>\n      <th>Start_Lng</th>\n      <th>Distance(mi)</th>\n      <th>Street</th>\n      <th>Zipcode</th>\n      <th>Amenity</th>\n      <th>Bump</th>\n      <th>Crossing</th>\n      <th>Give_Way</th>\n      <th>...</th>\n      <th>Station</th>\n      <th>Stop</th>\n      <th>Traffic_Calming</th>\n      <th>Traffic_Signal</th>\n      <th>Turning_Loop</th>\n      <th>Sunrise_Sunset</th>\n      <th>Civil_Twilight</th>\n      <th>Nautical_Twilight</th>\n      <th>Astronomical_Twilight</th>\n      <th>tempClusters</th>\n    </tr>\n  </thead>\n  <tbody>\n    <tr>\n      <th>0</th>\n      <td>2</td>\n      <td>-0.472877</td>\n      <td>0.205818</td>\n      <td>-0.361368</td>\n      <td>-0.002357</td>\n      <td>0.581094</td>\n      <td>0</td>\n      <td>0</td>\n      <td>0</td>\n      <td>0</td>\n      <td>...</td>\n      <td>0</td>\n      <td>0</td>\n      <td>0</td>\n      <td>1</td>\n      <td>0</td>\n      <td>1</td>\n      <td>0</td>\n      <td>0</td>\n      <td>0</td>\n      <td>0.112333</td>\n    </tr>\n    <tr>\n      <th>1</th>\n      <td>3</td>\n      <td>-0.109174</td>\n      <td>0.256066</td>\n      <td>-0.361368</td>\n      <td>0.547821</td>\n      <td>2.793280</td>\n      <td>0</td>\n      <td>0</td>\n      <td>0</td>\n      <td>0</td>\n      <td>...</td>\n      <td>0</td>\n      <td>0</td>\n      <td>0</td>\n      <td>0</td>\n      <td>0</td>\n      <td>0</td>\n      <td>0</td>\n      <td>0</td>\n      <td>0</td>\n      <td>1.672663</td>\n    </tr>\n    <tr>\n      <th>2</th>\n      <td>3</td>\n      <td>-0.129749</td>\n      <td>0.263616</td>\n      <td>0.946431</td>\n      <td>1.152862</td>\n      <td>0.899015</td>\n      <td>0</td>\n      <td>0</td>\n      <td>0</td>\n      <td>0</td>\n      <td>...</td>\n      <td>0</td>\n      <td>0</td>\n      <td>0</td>\n      <td>0</td>\n      <td>0</td>\n      <td>0</td>\n      <td>0</td>\n      <td>0</td>\n      <td>0</td>\n      <td>1.650013</td>\n    </tr>\n    <tr>\n      <th>3</th>\n      <td>3</td>\n      <td>-0.234462</td>\n      <td>0.593365</td>\n      <td>0.240635</td>\n      <td>-0.042970</td>\n      <td>-0.217501</td>\n      <td>0</td>\n      <td>0</td>\n      <td>0</td>\n      <td>0</td>\n      <td>...</td>\n      <td>0</td>\n      <td>0</td>\n      <td>0</td>\n      <td>0</td>\n      <td>0</td>\n      <td>0</td>\n      <td>0</td>\n      <td>0</td>\n      <td>0</td>\n      <td>-0.037287</td>\n    </tr>\n    <tr>\n      <th>4</th>\n      <td>3</td>\n      <td>0.141869</td>\n      <td>0.682244</td>\n      <td>-0.361368</td>\n      <td>0.632058</td>\n      <td>1.180043</td>\n      <td>0</td>\n      <td>0</td>\n      <td>0</td>\n      <td>0</td>\n      <td>...</td>\n      <td>0</td>\n      <td>0</td>\n      <td>0</td>\n      <td>0</td>\n      <td>0</td>\n      <td>0</td>\n      <td>0</td>\n      <td>0</td>\n      <td>0</td>\n      <td>0.105354</td>\n    </tr>\n  </tbody>\n</table>\n<p>5 rows × 24 columns</p>\n</div>"
     },
     "execution_count": 97,
     "metadata": {},
     "output_type": "execute_result"
    }
   ],
   "source": [
    "data.head()"
   ],
   "metadata": {
    "collapsed": false,
    "ExecuteTime": {
     "end_time": "2023-12-05T03:09:24.792861Z",
     "start_time": "2023-12-05T03:09:24.731715Z"
    }
   },
   "id": "4ef0e8b04fbfa0aa"
  },
  {
   "cell_type": "code",
   "execution_count": 98,
   "outputs": [],
   "source": [
    "xtrain, xtest, ytrain, ytest = train_test_split(\n",
    "    data.drop('Severity',axis=1),\n",
    "    data.Severity,\n",
    "    test_size=0.2\n",
    ")"
   ],
   "metadata": {
    "collapsed": false,
    "ExecuteTime": {
     "end_time": "2023-12-05T03:09:55.655361Z",
     "start_time": "2023-12-05T03:09:55.569804Z"
    }
   },
   "id": "c2ea76f2cabdeeff"
  },
  {
   "cell_type": "code",
   "execution_count": 99,
   "outputs": [
    {
     "data": {
      "text/plain": "RandomForestClassifier(n_jobs=-1)",
      "text/html": "<style>#sk-container-id-8 {color: black;}#sk-container-id-8 pre{padding: 0;}#sk-container-id-8 div.sk-toggleable {background-color: white;}#sk-container-id-8 label.sk-toggleable__label {cursor: pointer;display: block;width: 100%;margin-bottom: 0;padding: 0.3em;box-sizing: border-box;text-align: center;}#sk-container-id-8 label.sk-toggleable__label-arrow:before {content: \"▸\";float: left;margin-right: 0.25em;color: #696969;}#sk-container-id-8 label.sk-toggleable__label-arrow:hover:before {color: black;}#sk-container-id-8 div.sk-estimator:hover label.sk-toggleable__label-arrow:before {color: black;}#sk-container-id-8 div.sk-toggleable__content {max-height: 0;max-width: 0;overflow: hidden;text-align: left;background-color: #f0f8ff;}#sk-container-id-8 div.sk-toggleable__content pre {margin: 0.2em;color: black;border-radius: 0.25em;background-color: #f0f8ff;}#sk-container-id-8 input.sk-toggleable__control:checked~div.sk-toggleable__content {max-height: 200px;max-width: 100%;overflow: auto;}#sk-container-id-8 input.sk-toggleable__control:checked~label.sk-toggleable__label-arrow:before {content: \"▾\";}#sk-container-id-8 div.sk-estimator input.sk-toggleable__control:checked~label.sk-toggleable__label {background-color: #d4ebff;}#sk-container-id-8 div.sk-label input.sk-toggleable__control:checked~label.sk-toggleable__label {background-color: #d4ebff;}#sk-container-id-8 input.sk-hidden--visually {border: 0;clip: rect(1px 1px 1px 1px);clip: rect(1px, 1px, 1px, 1px);height: 1px;margin: -1px;overflow: hidden;padding: 0;position: absolute;width: 1px;}#sk-container-id-8 div.sk-estimator {font-family: monospace;background-color: #f0f8ff;border: 1px dotted black;border-radius: 0.25em;box-sizing: border-box;margin-bottom: 0.5em;}#sk-container-id-8 div.sk-estimator:hover {background-color: #d4ebff;}#sk-container-id-8 div.sk-parallel-item::after {content: \"\";width: 100%;border-bottom: 1px solid gray;flex-grow: 1;}#sk-container-id-8 div.sk-label:hover label.sk-toggleable__label {background-color: #d4ebff;}#sk-container-id-8 div.sk-serial::before {content: \"\";position: absolute;border-left: 1px solid gray;box-sizing: border-box;top: 0;bottom: 0;left: 50%;z-index: 0;}#sk-container-id-8 div.sk-serial {display: flex;flex-direction: column;align-items: center;background-color: white;padding-right: 0.2em;padding-left: 0.2em;position: relative;}#sk-container-id-8 div.sk-item {position: relative;z-index: 1;}#sk-container-id-8 div.sk-parallel {display: flex;align-items: stretch;justify-content: center;background-color: white;position: relative;}#sk-container-id-8 div.sk-item::before, #sk-container-id-8 div.sk-parallel-item::before {content: \"\";position: absolute;border-left: 1px solid gray;box-sizing: border-box;top: 0;bottom: 0;left: 50%;z-index: -1;}#sk-container-id-8 div.sk-parallel-item {display: flex;flex-direction: column;z-index: 1;position: relative;background-color: white;}#sk-container-id-8 div.sk-parallel-item:first-child::after {align-self: flex-end;width: 50%;}#sk-container-id-8 div.sk-parallel-item:last-child::after {align-self: flex-start;width: 50%;}#sk-container-id-8 div.sk-parallel-item:only-child::after {width: 0;}#sk-container-id-8 div.sk-dashed-wrapped {border: 1px dashed gray;margin: 0 0.4em 0.5em 0.4em;box-sizing: border-box;padding-bottom: 0.4em;background-color: white;}#sk-container-id-8 div.sk-label label {font-family: monospace;font-weight: bold;display: inline-block;line-height: 1.2em;}#sk-container-id-8 div.sk-label-container {text-align: center;}#sk-container-id-8 div.sk-container {/* jupyter's `normalize.less` sets `[hidden] { display: none; }` but bootstrap.min.css set `[hidden] { display: none !important; }` so we also need the `!important` here to be able to override the default hidden behavior on the sphinx rendered scikit-learn.org. See: https://github.com/scikit-learn/scikit-learn/issues/21755 */display: inline-block !important;position: relative;}#sk-container-id-8 div.sk-text-repr-fallback {display: none;}</style><div id=\"sk-container-id-8\" class=\"sk-top-container\"><div class=\"sk-text-repr-fallback\"><pre>RandomForestClassifier(n_jobs=-1)</pre><b>In a Jupyter environment, please rerun this cell to show the HTML representation or trust the notebook. <br />On GitHub, the HTML representation is unable to render, please try loading this page with nbviewer.org.</b></div><div class=\"sk-container\" hidden><div class=\"sk-item\"><div class=\"sk-estimator sk-toggleable\"><input class=\"sk-toggleable__control sk-hidden--visually\" id=\"sk-estimator-id-10\" type=\"checkbox\" checked><label for=\"sk-estimator-id-10\" class=\"sk-toggleable__label sk-toggleable__label-arrow\">RandomForestClassifier</label><div class=\"sk-toggleable__content\"><pre>RandomForestClassifier(n_jobs=-1)</pre></div></div></div></div></div>"
     },
     "execution_count": 99,
     "metadata": {},
     "output_type": "execute_result"
    }
   ],
   "source": [
    "rlf = RandomForestClassifier(\n",
    "    n_estimators=100,\n",
    "    criterion='gini',\n",
    "    n_jobs=-1\n",
    ")\n",
    "rlf.fit(xtrain, ytrain)"
   ],
   "metadata": {
    "collapsed": false,
    "ExecuteTime": {
     "end_time": "2023-12-05T03:10:09.350297Z",
     "start_time": "2023-12-05T03:10:02.920039Z"
    }
   },
   "id": "b7655077d07563de"
  },
  {
   "cell_type": "code",
   "execution_count": 100,
   "outputs": [
    {
     "name": "stdout",
     "output_type": "stream",
     "text": [
      "[[  1137      0      1      0]\n",
      " [     0 291044    109     14]\n",
      " [     0     85  73067      2]\n",
      " [     0    104      2  12945]]\n",
      "the accuracy is  0.9991625056141186\n",
      "              precision    recall  f1-score   support\n",
      "\n",
      "           1       1.00      1.00      1.00      1138\n",
      "           2       1.00      1.00      1.00    291167\n",
      "           3       1.00      1.00      1.00     73154\n",
      "           4       1.00      0.99      1.00     13051\n",
      "\n",
      "    accuracy                           1.00    378510\n",
      "   macro avg       1.00      1.00      1.00    378510\n",
      "weighted avg       1.00      1.00      1.00    378510\n"
     ]
    },
    {
     "data": {
      "text/plain": "0.9991625056141186"
     },
     "execution_count": 100,
     "metadata": {},
     "output_type": "execute_result"
    }
   ],
   "source": [
    "trainpred = rlf.predict(xtrain)\n",
    "metric_analysis(ytrain, trainpred)"
   ],
   "metadata": {
    "collapsed": false,
    "ExecuteTime": {
     "end_time": "2023-12-05T03:10:22.060602Z",
     "start_time": "2023-12-05T03:10:20.349224Z"
    }
   },
   "id": "63d19792239536c6"
  },
  {
   "cell_type": "code",
   "execution_count": 101,
   "outputs": [
    {
     "name": "stdout",
     "output_type": "stream",
     "text": [
      "[[   43    17    10     0]\n",
      " [  237 69727  4801  2324]\n",
      " [   27  2784 13348   162]\n",
      " [    1   307    67   773]]\n",
      "the accuracy is  0.8865346409096674\n",
      "              precision    recall  f1-score   support\n",
      "\n",
      "           1       0.14      0.61      0.23        70\n",
      "           2       0.96      0.90      0.93     77089\n",
      "           3       0.73      0.82      0.77     16321\n",
      "           4       0.24      0.67      0.35      1148\n",
      "\n",
      "    accuracy                           0.89     94628\n",
      "   macro avg       0.52      0.75      0.57     94628\n",
      "weighted avg       0.91      0.89      0.90     94628\n"
     ]
    },
    {
     "data": {
      "text/plain": "0.8865346409096674"
     },
     "execution_count": 101,
     "metadata": {},
     "output_type": "execute_result"
    }
   ],
   "source": [
    "ypred = rlf.predict(xtest)\n",
    "metric_analysis(ypred, ytest)"
   ],
   "metadata": {
    "collapsed": false,
    "ExecuteTime": {
     "end_time": "2023-12-05T03:10:39.687790Z",
     "start_time": "2023-12-05T03:10:39.304819Z"
    }
   },
   "id": "720195ddf5281313"
  },
  {
   "cell_type": "markdown",
   "source": [
    "Very similar accuracy to the random forest model without clustering "
   ],
   "metadata": {
    "collapsed": false
   },
   "id": "a77a734a6f704ac3"
  },
  {
   "cell_type": "markdown",
   "source": [
    "# KNN on data with temp clusters"
   ],
   "metadata": {
    "collapsed": false
   },
   "id": "1255536c95bdc3d2"
  },
  {
   "cell_type": "code",
   "execution_count": 102,
   "outputs": [],
   "source": [
    "xtrain = xtrain[['Zipcode', 'Distance(mi)', 'Street', 'Start_Lat','Start_Lng','tempClusters']]\n",
    "xtest = xtest[['Zipcode', 'Distance(mi)', 'Street', 'Start_Lat','Start_Lng','tempClusters']]"
   ],
   "metadata": {
    "collapsed": false,
    "ExecuteTime": {
     "end_time": "2023-12-05T03:12:14.295469Z",
     "start_time": "2023-12-05T03:12:14.234028Z"
    }
   },
   "id": "90cb0b781705c2b2"
  },
  {
   "cell_type": "code",
   "execution_count": 103,
   "outputs": [
    {
     "data": {
      "text/plain": "KNeighborsClassifier(n_jobs=-1, n_neighbors=10, weights='distance')",
      "text/html": "<style>#sk-container-id-9 {color: black;}#sk-container-id-9 pre{padding: 0;}#sk-container-id-9 div.sk-toggleable {background-color: white;}#sk-container-id-9 label.sk-toggleable__label {cursor: pointer;display: block;width: 100%;margin-bottom: 0;padding: 0.3em;box-sizing: border-box;text-align: center;}#sk-container-id-9 label.sk-toggleable__label-arrow:before {content: \"▸\";float: left;margin-right: 0.25em;color: #696969;}#sk-container-id-9 label.sk-toggleable__label-arrow:hover:before {color: black;}#sk-container-id-9 div.sk-estimator:hover label.sk-toggleable__label-arrow:before {color: black;}#sk-container-id-9 div.sk-toggleable__content {max-height: 0;max-width: 0;overflow: hidden;text-align: left;background-color: #f0f8ff;}#sk-container-id-9 div.sk-toggleable__content pre {margin: 0.2em;color: black;border-radius: 0.25em;background-color: #f0f8ff;}#sk-container-id-9 input.sk-toggleable__control:checked~div.sk-toggleable__content {max-height: 200px;max-width: 100%;overflow: auto;}#sk-container-id-9 input.sk-toggleable__control:checked~label.sk-toggleable__label-arrow:before {content: \"▾\";}#sk-container-id-9 div.sk-estimator input.sk-toggleable__control:checked~label.sk-toggleable__label {background-color: #d4ebff;}#sk-container-id-9 div.sk-label input.sk-toggleable__control:checked~label.sk-toggleable__label {background-color: #d4ebff;}#sk-container-id-9 input.sk-hidden--visually {border: 0;clip: rect(1px 1px 1px 1px);clip: rect(1px, 1px, 1px, 1px);height: 1px;margin: -1px;overflow: hidden;padding: 0;position: absolute;width: 1px;}#sk-container-id-9 div.sk-estimator {font-family: monospace;background-color: #f0f8ff;border: 1px dotted black;border-radius: 0.25em;box-sizing: border-box;margin-bottom: 0.5em;}#sk-container-id-9 div.sk-estimator:hover {background-color: #d4ebff;}#sk-container-id-9 div.sk-parallel-item::after {content: \"\";width: 100%;border-bottom: 1px solid gray;flex-grow: 1;}#sk-container-id-9 div.sk-label:hover label.sk-toggleable__label {background-color: #d4ebff;}#sk-container-id-9 div.sk-serial::before {content: \"\";position: absolute;border-left: 1px solid gray;box-sizing: border-box;top: 0;bottom: 0;left: 50%;z-index: 0;}#sk-container-id-9 div.sk-serial {display: flex;flex-direction: column;align-items: center;background-color: white;padding-right: 0.2em;padding-left: 0.2em;position: relative;}#sk-container-id-9 div.sk-item {position: relative;z-index: 1;}#sk-container-id-9 div.sk-parallel {display: flex;align-items: stretch;justify-content: center;background-color: white;position: relative;}#sk-container-id-9 div.sk-item::before, #sk-container-id-9 div.sk-parallel-item::before {content: \"\";position: absolute;border-left: 1px solid gray;box-sizing: border-box;top: 0;bottom: 0;left: 50%;z-index: -1;}#sk-container-id-9 div.sk-parallel-item {display: flex;flex-direction: column;z-index: 1;position: relative;background-color: white;}#sk-container-id-9 div.sk-parallel-item:first-child::after {align-self: flex-end;width: 50%;}#sk-container-id-9 div.sk-parallel-item:last-child::after {align-self: flex-start;width: 50%;}#sk-container-id-9 div.sk-parallel-item:only-child::after {width: 0;}#sk-container-id-9 div.sk-dashed-wrapped {border: 1px dashed gray;margin: 0 0.4em 0.5em 0.4em;box-sizing: border-box;padding-bottom: 0.4em;background-color: white;}#sk-container-id-9 div.sk-label label {font-family: monospace;font-weight: bold;display: inline-block;line-height: 1.2em;}#sk-container-id-9 div.sk-label-container {text-align: center;}#sk-container-id-9 div.sk-container {/* jupyter's `normalize.less` sets `[hidden] { display: none; }` but bootstrap.min.css set `[hidden] { display: none !important; }` so we also need the `!important` here to be able to override the default hidden behavior on the sphinx rendered scikit-learn.org. See: https://github.com/scikit-learn/scikit-learn/issues/21755 */display: inline-block !important;position: relative;}#sk-container-id-9 div.sk-text-repr-fallback {display: none;}</style><div id=\"sk-container-id-9\" class=\"sk-top-container\"><div class=\"sk-text-repr-fallback\"><pre>KNeighborsClassifier(n_jobs=-1, n_neighbors=10, weights=&#x27;distance&#x27;)</pre><b>In a Jupyter environment, please rerun this cell to show the HTML representation or trust the notebook. <br />On GitHub, the HTML representation is unable to render, please try loading this page with nbviewer.org.</b></div><div class=\"sk-container\" hidden><div class=\"sk-item\"><div class=\"sk-estimator sk-toggleable\"><input class=\"sk-toggleable__control sk-hidden--visually\" id=\"sk-estimator-id-11\" type=\"checkbox\" checked><label for=\"sk-estimator-id-11\" class=\"sk-toggleable__label sk-toggleable__label-arrow\">KNeighborsClassifier</label><div class=\"sk-toggleable__content\"><pre>KNeighborsClassifier(n_jobs=-1, n_neighbors=10, weights=&#x27;distance&#x27;)</pre></div></div></div></div></div>"
     },
     "execution_count": 103,
     "metadata": {},
     "output_type": "execute_result"
    }
   ],
   "source": [
    "knn = KNeighborsClassifier(\n",
    "    n_neighbors= n_neighbors,\n",
    "    weights=weights,\n",
    "    n_jobs=-1,\n",
    ")\n",
    "knn.fit(xtrain, ytrain)"
   ],
   "metadata": {
    "collapsed": false,
    "ExecuteTime": {
     "end_time": "2023-12-05T03:12:34.173392Z",
     "start_time": "2023-12-05T03:12:34.039316Z"
    }
   },
   "id": "718317987e21dafb"
  },
  {
   "cell_type": "code",
   "execution_count": 104,
   "outputs": [
    {
     "name": "stdout",
     "output_type": "stream",
     "text": [
      "[[   24   251    33     0]\n",
      " [   21 68075  4416   323]\n",
      " [    6  5938 12227    55]\n",
      " [    3  2333   345   578]]\n",
      "the accuracy is  0.8549689309718054\n",
      "              precision    recall  f1-score   support\n",
      "\n",
      "           1       0.44      0.08      0.13       308\n",
      "           2       0.89      0.93      0.91     72835\n",
      "           3       0.72      0.67      0.69     18226\n",
      "           4       0.60      0.18      0.27      3259\n",
      "\n",
      "    accuracy                           0.85     94628\n",
      "   macro avg       0.66      0.47      0.50     94628\n",
      "weighted avg       0.84      0.85      0.84     94628\n"
     ]
    },
    {
     "data": {
      "text/plain": "0.8549689309718054"
     },
     "execution_count": 104,
     "metadata": {},
     "output_type": "execute_result"
    }
   ],
   "source": [
    "ypred = knn.predict(xtest)\n",
    "metric_analysis(ytest, ypred)"
   ],
   "metadata": {
    "collapsed": false,
    "ExecuteTime": {
     "end_time": "2023-12-05T03:12:55.391696Z",
     "start_time": "2023-12-05T03:12:54.177493Z"
    }
   },
   "id": "fd1ae2c17afe154f"
  },
  {
   "cell_type": "markdown",
   "source": [
    "Once again, no real change from the metrics obtained from non clustered KNN "
   ],
   "metadata": {
    "collapsed": false
   },
   "id": "4f236082a6191a89"
  },
  {
   "cell_type": "markdown",
   "source": [
    "# Adaboost on clustered Data"
   ],
   "metadata": {
    "collapsed": false
   },
   "id": "d762454108da4761"
  },
  {
   "cell_type": "code",
   "execution_count": 105,
   "outputs": [
    {
     "data": {
      "text/plain": "AdaBoostClassifier()",
      "text/html": "<style>#sk-container-id-10 {color: black;}#sk-container-id-10 pre{padding: 0;}#sk-container-id-10 div.sk-toggleable {background-color: white;}#sk-container-id-10 label.sk-toggleable__label {cursor: pointer;display: block;width: 100%;margin-bottom: 0;padding: 0.3em;box-sizing: border-box;text-align: center;}#sk-container-id-10 label.sk-toggleable__label-arrow:before {content: \"▸\";float: left;margin-right: 0.25em;color: #696969;}#sk-container-id-10 label.sk-toggleable__label-arrow:hover:before {color: black;}#sk-container-id-10 div.sk-estimator:hover label.sk-toggleable__label-arrow:before {color: black;}#sk-container-id-10 div.sk-toggleable__content {max-height: 0;max-width: 0;overflow: hidden;text-align: left;background-color: #f0f8ff;}#sk-container-id-10 div.sk-toggleable__content pre {margin: 0.2em;color: black;border-radius: 0.25em;background-color: #f0f8ff;}#sk-container-id-10 input.sk-toggleable__control:checked~div.sk-toggleable__content {max-height: 200px;max-width: 100%;overflow: auto;}#sk-container-id-10 input.sk-toggleable__control:checked~label.sk-toggleable__label-arrow:before {content: \"▾\";}#sk-container-id-10 div.sk-estimator input.sk-toggleable__control:checked~label.sk-toggleable__label {background-color: #d4ebff;}#sk-container-id-10 div.sk-label input.sk-toggleable__control:checked~label.sk-toggleable__label {background-color: #d4ebff;}#sk-container-id-10 input.sk-hidden--visually {border: 0;clip: rect(1px 1px 1px 1px);clip: rect(1px, 1px, 1px, 1px);height: 1px;margin: -1px;overflow: hidden;padding: 0;position: absolute;width: 1px;}#sk-container-id-10 div.sk-estimator {font-family: monospace;background-color: #f0f8ff;border: 1px dotted black;border-radius: 0.25em;box-sizing: border-box;margin-bottom: 0.5em;}#sk-container-id-10 div.sk-estimator:hover {background-color: #d4ebff;}#sk-container-id-10 div.sk-parallel-item::after {content: \"\";width: 100%;border-bottom: 1px solid gray;flex-grow: 1;}#sk-container-id-10 div.sk-label:hover label.sk-toggleable__label {background-color: #d4ebff;}#sk-container-id-10 div.sk-serial::before {content: \"\";position: absolute;border-left: 1px solid gray;box-sizing: border-box;top: 0;bottom: 0;left: 50%;z-index: 0;}#sk-container-id-10 div.sk-serial {display: flex;flex-direction: column;align-items: center;background-color: white;padding-right: 0.2em;padding-left: 0.2em;position: relative;}#sk-container-id-10 div.sk-item {position: relative;z-index: 1;}#sk-container-id-10 div.sk-parallel {display: flex;align-items: stretch;justify-content: center;background-color: white;position: relative;}#sk-container-id-10 div.sk-item::before, #sk-container-id-10 div.sk-parallel-item::before {content: \"\";position: absolute;border-left: 1px solid gray;box-sizing: border-box;top: 0;bottom: 0;left: 50%;z-index: -1;}#sk-container-id-10 div.sk-parallel-item {display: flex;flex-direction: column;z-index: 1;position: relative;background-color: white;}#sk-container-id-10 div.sk-parallel-item:first-child::after {align-self: flex-end;width: 50%;}#sk-container-id-10 div.sk-parallel-item:last-child::after {align-self: flex-start;width: 50%;}#sk-container-id-10 div.sk-parallel-item:only-child::after {width: 0;}#sk-container-id-10 div.sk-dashed-wrapped {border: 1px dashed gray;margin: 0 0.4em 0.5em 0.4em;box-sizing: border-box;padding-bottom: 0.4em;background-color: white;}#sk-container-id-10 div.sk-label label {font-family: monospace;font-weight: bold;display: inline-block;line-height: 1.2em;}#sk-container-id-10 div.sk-label-container {text-align: center;}#sk-container-id-10 div.sk-container {/* jupyter's `normalize.less` sets `[hidden] { display: none; }` but bootstrap.min.css set `[hidden] { display: none !important; }` so we also need the `!important` here to be able to override the default hidden behavior on the sphinx rendered scikit-learn.org. See: https://github.com/scikit-learn/scikit-learn/issues/21755 */display: inline-block !important;position: relative;}#sk-container-id-10 div.sk-text-repr-fallback {display: none;}</style><div id=\"sk-container-id-10\" class=\"sk-top-container\"><div class=\"sk-text-repr-fallback\"><pre>AdaBoostClassifier()</pre><b>In a Jupyter environment, please rerun this cell to show the HTML representation or trust the notebook. <br />On GitHub, the HTML representation is unable to render, please try loading this page with nbviewer.org.</b></div><div class=\"sk-container\" hidden><div class=\"sk-item\"><div class=\"sk-estimator sk-toggleable\"><input class=\"sk-toggleable__control sk-hidden--visually\" id=\"sk-estimator-id-12\" type=\"checkbox\" checked><label for=\"sk-estimator-id-12\" class=\"sk-toggleable__label sk-toggleable__label-arrow\">AdaBoostClassifier</label><div class=\"sk-toggleable__content\"><pre>AdaBoostClassifier()</pre></div></div></div></div></div>"
     },
     "execution_count": 105,
     "metadata": {},
     "output_type": "execute_result"
    }
   ],
   "source": [
    "xtrain, xtest, ytrain, ytest = train_test_split(\n",
    "    data.drop('Severity',axis=1),\n",
    "    data.Severity,\n",
    "    test_size=0.2\n",
    ")\n",
    "adaboost = AdaBoostClassifier(n_estimators=50)\n",
    "adaboost.fit(xtrain, ytrain)"
   ],
   "metadata": {
    "collapsed": false,
    "ExecuteTime": {
     "end_time": "2023-12-05T03:15:08.262186Z",
     "start_time": "2023-12-05T03:14:57.993797Z"
    }
   },
   "id": "19af5fa5bf268b3a"
  },
  {
   "cell_type": "code",
   "execution_count": 107,
   "outputs": [
    {
     "name": "stdout",
     "output_type": "stream",
     "text": [
      "[[     1   1053    130      0]\n",
      " [     5 277249  12984   1140]\n",
      " [     0  28410  44327    183]\n",
      " [     0  11031    765   1232]]\n",
      "the accuracy is  0.8528414044543077\n",
      "              precision    recall  f1-score   support\n",
      "\n",
      "           1       0.17      0.00      0.00      1184\n",
      "           2       0.87      0.95      0.91    291378\n",
      "           3       0.76      0.61      0.68     72920\n",
      "           4       0.48      0.09      0.16     13028\n",
      "\n",
      "    accuracy                           0.85    378510\n",
      "   macro avg       0.57      0.41      0.44    378510\n",
      "weighted avg       0.84      0.85      0.84    378510\n"
     ]
    },
    {
     "data": {
      "text/plain": "0.8528414044543077"
     },
     "execution_count": 107,
     "metadata": {},
     "output_type": "execute_result"
    }
   ],
   "source": [
    "trainpred = adaboost.predict(xtrain)\n",
    "metric_analysis(ytrain, trainpred)"
   ],
   "metadata": {
    "collapsed": false,
    "ExecuteTime": {
     "end_time": "2023-12-05T03:16:25.519339Z",
     "start_time": "2023-12-05T03:16:24.007214Z"
    }
   },
   "id": "9c5c6eaa6832dd8b"
  },
  {
   "cell_type": "code",
   "execution_count": 108,
   "outputs": [
    {
     "name": "stdout",
     "output_type": "stream",
     "text": [
      "[[    1   231    30     0]\n",
      " [    0 69104  3233   287]\n",
      " [    0  7165 11254    41]\n",
      " [    0  2808   185   289]]\n",
      "the accuracy is  0.8522636006256077\n",
      "              precision    recall  f1-score   support\n",
      "\n",
      "           1       1.00      0.00      0.01       262\n",
      "           2       0.87      0.95      0.91     72624\n",
      "           3       0.77      0.61      0.68     18460\n",
      "           4       0.47      0.09      0.15      3282\n",
      "\n",
      "    accuracy                           0.85     94628\n",
      "   macro avg       0.78      0.41      0.44     94628\n",
      "weighted avg       0.84      0.85      0.84     94628\n"
     ]
    },
    {
     "data": {
      "text/plain": "0.8522636006256077"
     },
     "execution_count": 108,
     "metadata": {},
     "output_type": "execute_result"
    }
   ],
   "source": [
    "ypred = adaboost.predict(xtest)\n",
    "metric_analysis(ytest, ypred)"
   ],
   "metadata": {
    "collapsed": false,
    "ExecuteTime": {
     "end_time": "2023-12-05T03:16:39.498859Z",
     "start_time": "2023-12-05T03:16:39.149886Z"
    }
   },
   "id": "d2e7e8061392633e"
  },
  {
   "cell_type": "markdown",
   "source": [
    "# XGBoost on Clustered Dataset"
   ],
   "metadata": {
    "collapsed": false
   },
   "id": "70f5625004cbb7d9"
  },
  {
   "cell_type": "code",
   "execution_count": 109,
   "outputs": [
    {
     "data": {
      "text/plain": "LabelEncoder()",
      "text/html": "<style>#sk-container-id-11 {color: black;}#sk-container-id-11 pre{padding: 0;}#sk-container-id-11 div.sk-toggleable {background-color: white;}#sk-container-id-11 label.sk-toggleable__label {cursor: pointer;display: block;width: 100%;margin-bottom: 0;padding: 0.3em;box-sizing: border-box;text-align: center;}#sk-container-id-11 label.sk-toggleable__label-arrow:before {content: \"▸\";float: left;margin-right: 0.25em;color: #696969;}#sk-container-id-11 label.sk-toggleable__label-arrow:hover:before {color: black;}#sk-container-id-11 div.sk-estimator:hover label.sk-toggleable__label-arrow:before {color: black;}#sk-container-id-11 div.sk-toggleable__content {max-height: 0;max-width: 0;overflow: hidden;text-align: left;background-color: #f0f8ff;}#sk-container-id-11 div.sk-toggleable__content pre {margin: 0.2em;color: black;border-radius: 0.25em;background-color: #f0f8ff;}#sk-container-id-11 input.sk-toggleable__control:checked~div.sk-toggleable__content {max-height: 200px;max-width: 100%;overflow: auto;}#sk-container-id-11 input.sk-toggleable__control:checked~label.sk-toggleable__label-arrow:before {content: \"▾\";}#sk-container-id-11 div.sk-estimator input.sk-toggleable__control:checked~label.sk-toggleable__label {background-color: #d4ebff;}#sk-container-id-11 div.sk-label input.sk-toggleable__control:checked~label.sk-toggleable__label {background-color: #d4ebff;}#sk-container-id-11 input.sk-hidden--visually {border: 0;clip: rect(1px 1px 1px 1px);clip: rect(1px, 1px, 1px, 1px);height: 1px;margin: -1px;overflow: hidden;padding: 0;position: absolute;width: 1px;}#sk-container-id-11 div.sk-estimator {font-family: monospace;background-color: #f0f8ff;border: 1px dotted black;border-radius: 0.25em;box-sizing: border-box;margin-bottom: 0.5em;}#sk-container-id-11 div.sk-estimator:hover {background-color: #d4ebff;}#sk-container-id-11 div.sk-parallel-item::after {content: \"\";width: 100%;border-bottom: 1px solid gray;flex-grow: 1;}#sk-container-id-11 div.sk-label:hover label.sk-toggleable__label {background-color: #d4ebff;}#sk-container-id-11 div.sk-serial::before {content: \"\";position: absolute;border-left: 1px solid gray;box-sizing: border-box;top: 0;bottom: 0;left: 50%;z-index: 0;}#sk-container-id-11 div.sk-serial {display: flex;flex-direction: column;align-items: center;background-color: white;padding-right: 0.2em;padding-left: 0.2em;position: relative;}#sk-container-id-11 div.sk-item {position: relative;z-index: 1;}#sk-container-id-11 div.sk-parallel {display: flex;align-items: stretch;justify-content: center;background-color: white;position: relative;}#sk-container-id-11 div.sk-item::before, #sk-container-id-11 div.sk-parallel-item::before {content: \"\";position: absolute;border-left: 1px solid gray;box-sizing: border-box;top: 0;bottom: 0;left: 50%;z-index: -1;}#sk-container-id-11 div.sk-parallel-item {display: flex;flex-direction: column;z-index: 1;position: relative;background-color: white;}#sk-container-id-11 div.sk-parallel-item:first-child::after {align-self: flex-end;width: 50%;}#sk-container-id-11 div.sk-parallel-item:last-child::after {align-self: flex-start;width: 50%;}#sk-container-id-11 div.sk-parallel-item:only-child::after {width: 0;}#sk-container-id-11 div.sk-dashed-wrapped {border: 1px dashed gray;margin: 0 0.4em 0.5em 0.4em;box-sizing: border-box;padding-bottom: 0.4em;background-color: white;}#sk-container-id-11 div.sk-label label {font-family: monospace;font-weight: bold;display: inline-block;line-height: 1.2em;}#sk-container-id-11 div.sk-label-container {text-align: center;}#sk-container-id-11 div.sk-container {/* jupyter's `normalize.less` sets `[hidden] { display: none; }` but bootstrap.min.css set `[hidden] { display: none !important; }` so we also need the `!important` here to be able to override the default hidden behavior on the sphinx rendered scikit-learn.org. See: https://github.com/scikit-learn/scikit-learn/issues/21755 */display: inline-block !important;position: relative;}#sk-container-id-11 div.sk-text-repr-fallback {display: none;}</style><div id=\"sk-container-id-11\" class=\"sk-top-container\"><div class=\"sk-text-repr-fallback\"><pre>LabelEncoder()</pre><b>In a Jupyter environment, please rerun this cell to show the HTML representation or trust the notebook. <br />On GitHub, the HTML representation is unable to render, please try loading this page with nbviewer.org.</b></div><div class=\"sk-container\" hidden><div class=\"sk-item\"><div class=\"sk-estimator sk-toggleable\"><input class=\"sk-toggleable__control sk-hidden--visually\" id=\"sk-estimator-id-13\" type=\"checkbox\" checked><label for=\"sk-estimator-id-13\" class=\"sk-toggleable__label sk-toggleable__label-arrow\">LabelEncoder</label><div class=\"sk-toggleable__content\"><pre>LabelEncoder()</pre></div></div></div></div></div>"
     },
     "execution_count": 109,
     "metadata": {},
     "output_type": "execute_result"
    }
   ],
   "source": [
    "# le is the label encoder\n",
    "le.fit(ytrain.ravel())"
   ],
   "metadata": {
    "collapsed": false,
    "ExecuteTime": {
     "end_time": "2023-12-05T03:17:48.254176Z",
     "start_time": "2023-12-05T03:17:48.185969Z"
    }
   },
   "id": "3dc4984911720ac0"
  },
  {
   "cell_type": "code",
   "execution_count": 110,
   "outputs": [],
   "source": [
    "ytrain =pd.DataFrame(le.transform(ytrain))\n",
    "ytest = pd.DataFrame(le.transform(ytest))"
   ],
   "metadata": {
    "collapsed": false,
    "ExecuteTime": {
     "end_time": "2023-12-05T03:17:49.211320Z",
     "start_time": "2023-12-05T03:17:49.148634Z"
    }
   },
   "id": "36c46838b1716222"
  },
  {
   "cell_type": "code",
   "execution_count": 111,
   "outputs": [
    {
     "name": "stderr",
     "output_type": "stream",
     "text": [
      "/Users/manedge/miniconda/envs/EnvironmentTest/lib/python3.11/site-packages/xgboost/data.py:299: FutureWarning: is_sparse is deprecated and will be removed in a future version. Check `isinstance(dtype, pd.SparseDtype)` instead.\n",
      "  if is_sparse(dtype):\n",
      "/Users/manedge/miniconda/envs/EnvironmentTest/lib/python3.11/site-packages/xgboost/data.py:301: FutureWarning: is_categorical_dtype is deprecated and will be removed in a future version. Use isinstance(dtype, CategoricalDtype) instead\n",
      "  elif is_categorical_dtype(dtype) and enable_categorical:\n",
      "/Users/manedge/miniconda/envs/EnvironmentTest/lib/python3.11/site-packages/xgboost/data.py:332: FutureWarning: is_categorical_dtype is deprecated and will be removed in a future version. Use isinstance(dtype, CategoricalDtype) instead\n",
      "  if is_categorical_dtype(dtype)\n",
      "/Users/manedge/miniconda/envs/EnvironmentTest/lib/python3.11/site-packages/xgboost/data.py:323: FutureWarning: is_categorical_dtype is deprecated and will be removed in a future version. Use isinstance(dtype, CategoricalDtype) instead\n",
      "  return is_int or is_bool or is_float or is_categorical_dtype(dtype)\n",
      "/Users/manedge/miniconda/envs/EnvironmentTest/lib/python3.11/site-packages/xgboost/data.py:332: FutureWarning: is_categorical_dtype is deprecated and will be removed in a future version. Use isinstance(dtype, CategoricalDtype) instead\n",
      "  if is_categorical_dtype(dtype)\n",
      "/Users/manedge/miniconda/envs/EnvironmentTest/lib/python3.11/site-packages/xgboost/data.py:323: FutureWarning: is_categorical_dtype is deprecated and will be removed in a future version. Use isinstance(dtype, CategoricalDtype) instead\n",
      "  return is_int or is_bool or is_float or is_categorical_dtype(dtype)\n",
      "/Users/manedge/miniconda/envs/EnvironmentTest/lib/python3.11/site-packages/xgboost/data.py:299: FutureWarning: is_sparse is deprecated and will be removed in a future version. Check `isinstance(dtype, pd.SparseDtype)` instead.\n",
      "  if is_sparse(dtype):\n",
      "/Users/manedge/miniconda/envs/EnvironmentTest/lib/python3.11/site-packages/xgboost/data.py:301: FutureWarning: is_categorical_dtype is deprecated and will be removed in a future version. Use isinstance(dtype, CategoricalDtype) instead\n",
      "  elif is_categorical_dtype(dtype) and enable_categorical:\n",
      "/Users/manedge/miniconda/envs/EnvironmentTest/lib/python3.11/site-packages/xgboost/data.py:332: FutureWarning: is_categorical_dtype is deprecated and will be removed in a future version. Use isinstance(dtype, CategoricalDtype) instead\n",
      "  if is_categorical_dtype(dtype)\n",
      "/Users/manedge/miniconda/envs/EnvironmentTest/lib/python3.11/site-packages/xgboost/data.py:323: FutureWarning: is_categorical_dtype is deprecated and will be removed in a future version. Use isinstance(dtype, CategoricalDtype) instead\n",
      "  return is_int or is_bool or is_float or is_categorical_dtype(dtype)\n"
     ]
    },
    {
     "name": "stdout",
     "output_type": "stream",
     "text": [
      "[[   138    901    145      0]\n",
      " [     7 279027  11731    613]\n",
      " [     1  18898  53817    204]\n",
      " [     0   8856    575   3597]]\n",
      "the accuracy is  0.8892208924466989\n",
      "              precision    recall  f1-score   support\n",
      "\n",
      "           0       0.95      0.12      0.21      1184\n",
      "           1       0.91      0.96      0.93    291378\n",
      "           2       0.81      0.74      0.77     72920\n",
      "           3       0.81      0.28      0.41     13028\n",
      "\n",
      "    accuracy                           0.89    378510\n",
      "   macro avg       0.87      0.52      0.58    378510\n",
      "weighted avg       0.89      0.89      0.88    378510\n"
     ]
    },
    {
     "data": {
      "text/plain": "0.8892208924466989"
     },
     "execution_count": 111,
     "metadata": {},
     "output_type": "execute_result"
    }
   ],
   "source": [
    "xgb = XGBClassifier(n_jobs=-1)\n",
    "xgb.fit(xtrain, ytrain)\n",
    "trainpred = xgb.predict(xtrain)\n",
    "metric_analysis(ytrain, trainpred)"
   ],
   "metadata": {
    "collapsed": false,
    "ExecuteTime": {
     "end_time": "2023-12-05T03:18:40.881348Z",
     "start_time": "2023-12-05T03:18:13.625296Z"
    }
   },
   "id": "add3d92305bc07f2"
  },
  {
   "cell_type": "code",
   "execution_count": 112,
   "outputs": [
    {
     "name": "stdout",
     "output_type": "stream",
     "text": [
      "[[   12   216    34     0]\n",
      " [    7 69341  3017   259]\n",
      " [    0  5005 13403    52]\n",
      " [    0  2413   162   707]]\n",
      "the accuracy is  0.882011666737118\n",
      "              precision    recall  f1-score   support\n",
      "\n",
      "           0       0.63      0.05      0.09       262\n",
      "           1       0.90      0.95      0.93     72624\n",
      "           2       0.81      0.73      0.76     18460\n",
      "           3       0.69      0.22      0.33      3282\n",
      "\n",
      "    accuracy                           0.88     94628\n",
      "   macro avg       0.76      0.49      0.53     94628\n",
      "weighted avg       0.87      0.88      0.87     94628\n"
     ]
    },
    {
     "name": "stderr",
     "output_type": "stream",
     "text": [
      "/Users/manedge/miniconda/envs/EnvironmentTest/lib/python3.11/site-packages/xgboost/data.py:299: FutureWarning: is_sparse is deprecated and will be removed in a future version. Check `isinstance(dtype, pd.SparseDtype)` instead.\n",
      "  if is_sparse(dtype):\n",
      "/Users/manedge/miniconda/envs/EnvironmentTest/lib/python3.11/site-packages/xgboost/data.py:301: FutureWarning: is_categorical_dtype is deprecated and will be removed in a future version. Use isinstance(dtype, CategoricalDtype) instead\n",
      "  elif is_categorical_dtype(dtype) and enable_categorical:\n",
      "/Users/manedge/miniconda/envs/EnvironmentTest/lib/python3.11/site-packages/xgboost/data.py:332: FutureWarning: is_categorical_dtype is deprecated and will be removed in a future version. Use isinstance(dtype, CategoricalDtype) instead\n",
      "  if is_categorical_dtype(dtype)\n",
      "/Users/manedge/miniconda/envs/EnvironmentTest/lib/python3.11/site-packages/xgboost/data.py:323: FutureWarning: is_categorical_dtype is deprecated and will be removed in a future version. Use isinstance(dtype, CategoricalDtype) instead\n",
      "  return is_int or is_bool or is_float or is_categorical_dtype(dtype)\n"
     ]
    },
    {
     "data": {
      "text/plain": "0.882011666737118"
     },
     "execution_count": 112,
     "metadata": {},
     "output_type": "execute_result"
    }
   ],
   "source": [
    "ypred = xgb.predict(xtest)\n",
    "metric_analysis(ytest, ypred)"
   ],
   "metadata": {
    "collapsed": false,
    "ExecuteTime": {
     "end_time": "2023-12-05T03:18:44.161211Z",
     "start_time": "2023-12-05T03:18:44.006177Z"
    }
   },
   "id": "a210a5c9281ad3ce"
  },
  {
   "cell_type": "markdown",
   "source": [
    "ANALYSIS: for most of the models the accuracy is barely differing by 1% after clustering. This is not a significant difference to even consider. This might mean that the temperature values are not as important or that the clusters are working way too well. More likely that the cluster analysis is a very good representation of the temperature data as random forest values temperature data pretty high ( it is the sixth or seventh most important feature). This can be used for data augmentation later on "
   ],
   "metadata": {
    "collapsed": false
   },
   "id": "7563396e4b9dc92f"
  }
 ],
 "metadata": {
  "kernelspec": {
   "display_name": "Python 3",
   "language": "python",
   "name": "python3"
  },
  "language_info": {
   "codemirror_mode": {
    "name": "ipython",
    "version": 2
   },
   "file_extension": ".py",
   "mimetype": "text/x-python",
   "name": "python",
   "nbconvert_exporter": "python",
   "pygments_lexer": "ipython2",
   "version": "2.7.6"
  }
 },
 "nbformat": 4,
 "nbformat_minor": 5
}
