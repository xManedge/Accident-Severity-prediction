{
 "cells": [
  {
   "cell_type": "code",
   "execution_count": 2,
   "id": "initial_id",
   "metadata": {
    "collapsed": true,
    "ExecuteTime": {
     "end_time": "2023-12-03T05:25:19.629972Z",
     "start_time": "2023-12-03T05:25:19.395451Z"
    }
   },
   "outputs": [],
   "source": [
    "import pandas as pd \n",
    "import numpy as np \n",
    "from sklearn.cluster import MiniBatchKMeans\n",
    "from sklearn.model_selection import train_test_split\n",
    "from category_encoders import TargetEncoder\n",
    "from sklearn.preprocessing import TargetEncoder, StandardScaler"
   ]
  },
  {
   "cell_type": "code",
   "execution_count": 3,
   "outputs": [],
   "source": [
    "link = './accident dataset/new york accidents preprocessed.csv'\n",
    "data = pd.read_csv(link)"
   ],
   "metadata": {
    "collapsed": false,
    "ExecuteTime": {
     "end_time": "2023-12-03T05:25:20.767819Z",
     "start_time": "2023-12-03T05:25:20.089072Z"
    }
   },
   "id": "7e113c32885ee138"
  },
  {
   "cell_type": "code",
   "execution_count": 3,
   "outputs": [],
   "source": [
    "xtrain, xtest, ytrain, ytest = train_test_split(\n",
    "    data.drop('Severity',axis=1),\n",
    "    data.Severity,\n",
    "    test_size=0.3\n",
    ")"
   ],
   "metadata": {
    "collapsed": false
   },
   "id": "e47a244742b163bb"
  },
  {
   "cell_type": "code",
   "execution_count": 3,
   "outputs": [
    {
     "data": {
      "text/plain": "Index(['Severity', 'Start_Lat', 'Start_Lng', 'Distance(mi)', 'Street',\n       'Zipcode', 'Temperature(F)', 'Humidity(%)', 'Pressure(in)',\n       'Visibility(mi)', 'Wind_Direction', 'Weather_Condition', 'Amenity',\n       'Bump', 'Crossing', 'Give_Way', 'Junction', 'No_Exit', 'Railway',\n       'Roundabout', 'Station', 'Stop', 'Traffic_Calming', 'Traffic_Signal',\n       'Turning_Loop', 'Sunrise_Sunset', 'Civil_Twilight', 'Nautical_Twilight',\n       'Astronomical_Twilight', 'TimeTaken'],\n      dtype='object')"
     },
     "execution_count": 3,
     "metadata": {},
     "output_type": "execute_result"
    }
   ],
   "source": [
    "data.columns"
   ],
   "metadata": {
    "collapsed": false,
    "ExecuteTime": {
     "end_time": "2023-12-03T04:58:48.415768Z",
     "start_time": "2023-12-03T04:58:48.410079Z"
    }
   },
   "id": "7d62c31f39fb0738"
  },
  {
   "cell_type": "code",
   "execution_count": 4,
   "outputs": [
    {
     "name": "stderr",
     "output_type": "stream",
     "text": [
      "/Users/manedge/miniconda/envs/EnvironmentTest/lib/python3.11/site-packages/sklearn/cluster/_kmeans.py:1930: FutureWarning: The default value of `n_init` will change from 3 to 'auto' in 1.4. Set the value of `n_init` explicitly to suppress the warning\n",
      "  super()._check_params_vs_input(X, default_n_init=3)\n"
     ]
    },
    {
     "data": {
      "text/plain": "MiniBatchKMeans(n_clusters=150)",
      "text/html": "<style>#sk-container-id-1 {color: black;}#sk-container-id-1 pre{padding: 0;}#sk-container-id-1 div.sk-toggleable {background-color: white;}#sk-container-id-1 label.sk-toggleable__label {cursor: pointer;display: block;width: 100%;margin-bottom: 0;padding: 0.3em;box-sizing: border-box;text-align: center;}#sk-container-id-1 label.sk-toggleable__label-arrow:before {content: \"▸\";float: left;margin-right: 0.25em;color: #696969;}#sk-container-id-1 label.sk-toggleable__label-arrow:hover:before {color: black;}#sk-container-id-1 div.sk-estimator:hover label.sk-toggleable__label-arrow:before {color: black;}#sk-container-id-1 div.sk-toggleable__content {max-height: 0;max-width: 0;overflow: hidden;text-align: left;background-color: #f0f8ff;}#sk-container-id-1 div.sk-toggleable__content pre {margin: 0.2em;color: black;border-radius: 0.25em;background-color: #f0f8ff;}#sk-container-id-1 input.sk-toggleable__control:checked~div.sk-toggleable__content {max-height: 200px;max-width: 100%;overflow: auto;}#sk-container-id-1 input.sk-toggleable__control:checked~label.sk-toggleable__label-arrow:before {content: \"▾\";}#sk-container-id-1 div.sk-estimator input.sk-toggleable__control:checked~label.sk-toggleable__label {background-color: #d4ebff;}#sk-container-id-1 div.sk-label input.sk-toggleable__control:checked~label.sk-toggleable__label {background-color: #d4ebff;}#sk-container-id-1 input.sk-hidden--visually {border: 0;clip: rect(1px 1px 1px 1px);clip: rect(1px, 1px, 1px, 1px);height: 1px;margin: -1px;overflow: hidden;padding: 0;position: absolute;width: 1px;}#sk-container-id-1 div.sk-estimator {font-family: monospace;background-color: #f0f8ff;border: 1px dotted black;border-radius: 0.25em;box-sizing: border-box;margin-bottom: 0.5em;}#sk-container-id-1 div.sk-estimator:hover {background-color: #d4ebff;}#sk-container-id-1 div.sk-parallel-item::after {content: \"\";width: 100%;border-bottom: 1px solid gray;flex-grow: 1;}#sk-container-id-1 div.sk-label:hover label.sk-toggleable__label {background-color: #d4ebff;}#sk-container-id-1 div.sk-serial::before {content: \"\";position: absolute;border-left: 1px solid gray;box-sizing: border-box;top: 0;bottom: 0;left: 50%;z-index: 0;}#sk-container-id-1 div.sk-serial {display: flex;flex-direction: column;align-items: center;background-color: white;padding-right: 0.2em;padding-left: 0.2em;position: relative;}#sk-container-id-1 div.sk-item {position: relative;z-index: 1;}#sk-container-id-1 div.sk-parallel {display: flex;align-items: stretch;justify-content: center;background-color: white;position: relative;}#sk-container-id-1 div.sk-item::before, #sk-container-id-1 div.sk-parallel-item::before {content: \"\";position: absolute;border-left: 1px solid gray;box-sizing: border-box;top: 0;bottom: 0;left: 50%;z-index: -1;}#sk-container-id-1 div.sk-parallel-item {display: flex;flex-direction: column;z-index: 1;position: relative;background-color: white;}#sk-container-id-1 div.sk-parallel-item:first-child::after {align-self: flex-end;width: 50%;}#sk-container-id-1 div.sk-parallel-item:last-child::after {align-self: flex-start;width: 50%;}#sk-container-id-1 div.sk-parallel-item:only-child::after {width: 0;}#sk-container-id-1 div.sk-dashed-wrapped {border: 1px dashed gray;margin: 0 0.4em 0.5em 0.4em;box-sizing: border-box;padding-bottom: 0.4em;background-color: white;}#sk-container-id-1 div.sk-label label {font-family: monospace;font-weight: bold;display: inline-block;line-height: 1.2em;}#sk-container-id-1 div.sk-label-container {text-align: center;}#sk-container-id-1 div.sk-container {/* jupyter's `normalize.less` sets `[hidden] { display: none; }` but bootstrap.min.css set `[hidden] { display: none !important; }` so we also need the `!important` here to be able to override the default hidden behavior on the sphinx rendered scikit-learn.org. See: https://github.com/scikit-learn/scikit-learn/issues/21755 */display: inline-block !important;position: relative;}#sk-container-id-1 div.sk-text-repr-fallback {display: none;}</style><div id=\"sk-container-id-1\" class=\"sk-top-container\"><div class=\"sk-text-repr-fallback\"><pre>MiniBatchKMeans(n_clusters=150)</pre><b>In a Jupyter environment, please rerun this cell to show the HTML representation or trust the notebook. <br />On GitHub, the HTML representation is unable to render, please try loading this page with nbviewer.org.</b></div><div class=\"sk-container\" hidden><div class=\"sk-item\"><div class=\"sk-estimator sk-toggleable\"><input class=\"sk-toggleable__control sk-hidden--visually\" id=\"sk-estimator-id-1\" type=\"checkbox\" checked><label for=\"sk-estimator-id-1\" class=\"sk-toggleable__label sk-toggleable__label-arrow\">MiniBatchKMeans</label><div class=\"sk-toggleable__content\"><pre>MiniBatchKMeans(n_clusters=150)</pre></div></div></div></div></div>"
     },
     "execution_count": 4,
     "metadata": {},
     "output_type": "execute_result"
    }
   ],
   "source": [
    "minimeans = MiniBatchKMeans(compute_labels=True, n_clusters=150)\n",
    "minimeans.fit(data[['Temperature(F)', 'Humidity(%)', 'Pressure(in)', 'Visibility(mi)','Wind_Direction', 'Weather_Condition']])"
   ],
   "metadata": {
    "collapsed": false,
    "ExecuteTime": {
     "end_time": "2023-12-03T05:25:23.403542Z",
     "start_time": "2023-12-03T05:25:22.867055Z"
    }
   },
   "id": "b037cb5e278aa14"
  },
  {
   "cell_type": "code",
   "execution_count": 5,
   "outputs": [
    {
     "data": {
      "text/plain": "271133.7193536514"
     },
     "execution_count": 5,
     "metadata": {},
     "output_type": "execute_result"
    }
   ],
   "source": [
    "minimeans.inertia_"
   ],
   "metadata": {
    "collapsed": false,
    "ExecuteTime": {
     "end_time": "2023-12-03T05:25:25.120231Z",
     "start_time": "2023-12-03T05:25:25.108736Z"
    }
   },
   "id": "637821fa211d8e31"
  },
  {
   "cell_type": "code",
   "execution_count": 6,
   "outputs": [
    {
     "data": {
      "text/plain": "array([ 18,  53, 104, ...,  66,  38,  67], dtype=int32)"
     },
     "execution_count": 6,
     "metadata": {},
     "output_type": "execute_result"
    }
   ],
   "source": [
    "minimeans.labels_"
   ],
   "metadata": {
    "collapsed": false,
    "ExecuteTime": {
     "end_time": "2023-12-03T05:25:26.405945Z",
     "start_time": "2023-12-03T05:25:26.395558Z"
    }
   },
   "id": "87a18bea6fb60c21"
  },
  {
   "cell_type": "code",
   "execution_count": 7,
   "outputs": [
    {
     "data": {
      "text/plain": "   Severity  Start_Lat  Start_Lng  Distance(mi)    Street   Zipcode  \\\n0         2  -0.477042   0.206319     -0.364533 -0.004402  0.673132   \n1         3  -0.113118   0.256402     -0.364533  0.527205  2.825723   \n2         3  -0.133706   0.263927      0.951761  0.994872  0.853023   \n3         3  -0.238482   0.592595      0.241380  0.002717 -0.190761   \n4         3   0.138075   0.681182     -0.364533  0.605621  1.187742   \n\n   Temperature(F)  Humidity(%)  Pressure(in)  Visibility(mi)  ...  Stop  \\\n0       -0.027788     1.331937     -0.190567       -2.348565  ...     0   \n1       -0.127081     1.331937     -0.134399       -2.894542  ...     0   \n2       -0.127081     1.331937     -0.078230       -2.894542  ...     0   \n3       -0.184567     1.331937     -0.134399       -2.530557  ...     0   \n4       -0.184567     1.137782      0.006022       -2.166572  ...     0   \n\n   Traffic_Calming  Traffic_Signal  Turning_Loop  Sunrise_Sunset  \\\n0                0               1             0               1   \n1                0               0             0               0   \n2                0               0             0               0   \n3                0               0             0               0   \n4                0               0             0               0   \n\n   Civil_Twilight  Nautical_Twilight  Astronomical_Twilight  TimeTaken  \\\n0               0                  0                      0  -0.550692   \n1               0                  0                      0  -0.549675   \n2               0                  0                      0  -0.208382   \n3               0                  0                      0  -0.207111   \n4               0                  0                      0  -0.549675   \n\n   tempClusters  \n0            18  \n1            53  \n2           104  \n3            87  \n4            87  \n\n[5 rows x 31 columns]",
      "text/html": "<div>\n<style scoped>\n    .dataframe tbody tr th:only-of-type {\n        vertical-align: middle;\n    }\n\n    .dataframe tbody tr th {\n        vertical-align: top;\n    }\n\n    .dataframe thead th {\n        text-align: right;\n    }\n</style>\n<table border=\"1\" class=\"dataframe\">\n  <thead>\n    <tr style=\"text-align: right;\">\n      <th></th>\n      <th>Severity</th>\n      <th>Start_Lat</th>\n      <th>Start_Lng</th>\n      <th>Distance(mi)</th>\n      <th>Street</th>\n      <th>Zipcode</th>\n      <th>Temperature(F)</th>\n      <th>Humidity(%)</th>\n      <th>Pressure(in)</th>\n      <th>Visibility(mi)</th>\n      <th>...</th>\n      <th>Stop</th>\n      <th>Traffic_Calming</th>\n      <th>Traffic_Signal</th>\n      <th>Turning_Loop</th>\n      <th>Sunrise_Sunset</th>\n      <th>Civil_Twilight</th>\n      <th>Nautical_Twilight</th>\n      <th>Astronomical_Twilight</th>\n      <th>TimeTaken</th>\n      <th>tempClusters</th>\n    </tr>\n  </thead>\n  <tbody>\n    <tr>\n      <th>0</th>\n      <td>2</td>\n      <td>-0.477042</td>\n      <td>0.206319</td>\n      <td>-0.364533</td>\n      <td>-0.004402</td>\n      <td>0.673132</td>\n      <td>-0.027788</td>\n      <td>1.331937</td>\n      <td>-0.190567</td>\n      <td>-2.348565</td>\n      <td>...</td>\n      <td>0</td>\n      <td>0</td>\n      <td>1</td>\n      <td>0</td>\n      <td>1</td>\n      <td>0</td>\n      <td>0</td>\n      <td>0</td>\n      <td>-0.550692</td>\n      <td>18</td>\n    </tr>\n    <tr>\n      <th>1</th>\n      <td>3</td>\n      <td>-0.113118</td>\n      <td>0.256402</td>\n      <td>-0.364533</td>\n      <td>0.527205</td>\n      <td>2.825723</td>\n      <td>-0.127081</td>\n      <td>1.331937</td>\n      <td>-0.134399</td>\n      <td>-2.894542</td>\n      <td>...</td>\n      <td>0</td>\n      <td>0</td>\n      <td>0</td>\n      <td>0</td>\n      <td>0</td>\n      <td>0</td>\n      <td>0</td>\n      <td>0</td>\n      <td>-0.549675</td>\n      <td>53</td>\n    </tr>\n    <tr>\n      <th>2</th>\n      <td>3</td>\n      <td>-0.133706</td>\n      <td>0.263927</td>\n      <td>0.951761</td>\n      <td>0.994872</td>\n      <td>0.853023</td>\n      <td>-0.127081</td>\n      <td>1.331937</td>\n      <td>-0.078230</td>\n      <td>-2.894542</td>\n      <td>...</td>\n      <td>0</td>\n      <td>0</td>\n      <td>0</td>\n      <td>0</td>\n      <td>0</td>\n      <td>0</td>\n      <td>0</td>\n      <td>0</td>\n      <td>-0.208382</td>\n      <td>104</td>\n    </tr>\n    <tr>\n      <th>3</th>\n      <td>3</td>\n      <td>-0.238482</td>\n      <td>0.592595</td>\n      <td>0.241380</td>\n      <td>0.002717</td>\n      <td>-0.190761</td>\n      <td>-0.184567</td>\n      <td>1.331937</td>\n      <td>-0.134399</td>\n      <td>-2.530557</td>\n      <td>...</td>\n      <td>0</td>\n      <td>0</td>\n      <td>0</td>\n      <td>0</td>\n      <td>0</td>\n      <td>0</td>\n      <td>0</td>\n      <td>0</td>\n      <td>-0.207111</td>\n      <td>87</td>\n    </tr>\n    <tr>\n      <th>4</th>\n      <td>3</td>\n      <td>0.138075</td>\n      <td>0.681182</td>\n      <td>-0.364533</td>\n      <td>0.605621</td>\n      <td>1.187742</td>\n      <td>-0.184567</td>\n      <td>1.137782</td>\n      <td>0.006022</td>\n      <td>-2.166572</td>\n      <td>...</td>\n      <td>0</td>\n      <td>0</td>\n      <td>0</td>\n      <td>0</td>\n      <td>0</td>\n      <td>0</td>\n      <td>0</td>\n      <td>0</td>\n      <td>-0.549675</td>\n      <td>87</td>\n    </tr>\n  </tbody>\n</table>\n<p>5 rows × 31 columns</p>\n</div>"
     },
     "execution_count": 7,
     "metadata": {},
     "output_type": "execute_result"
    }
   ],
   "source": [
    "data['tempClusters'] = minimeans.labels_\n",
    "data.head()"
   ],
   "metadata": {
    "collapsed": false,
    "ExecuteTime": {
     "end_time": "2023-12-03T05:25:32.018631Z",
     "start_time": "2023-12-03T05:25:32.003851Z"
    }
   },
   "id": "c4c521cc857015e1"
  },
  {
   "cell_type": "code",
   "execution_count": 8,
   "outputs": [],
   "source": [
    "data = data.drop(columns=['Temperature(F)', 'Humidity(%)', 'Pressure(in)', 'Visibility(mi)','Wind_Direction', 'Weather_Condition'], axis=1)"
   ],
   "metadata": {
    "collapsed": false,
    "ExecuteTime": {
     "end_time": "2023-12-03T05:25:32.854035Z",
     "start_time": "2023-12-03T05:25:32.825913Z"
    }
   },
   "id": "c95557346d0bd29c"
  },
  {
   "cell_type": "code",
   "execution_count": 9,
   "outputs": [
    {
     "data": {
      "text/plain": "   Severity  Start_Lat  Start_Lng  Distance(mi)    Street   Zipcode  Amenity  \\\n0         2  -0.477042   0.206319     -0.364533 -0.004402  0.673132        0   \n1         3  -0.113118   0.256402     -0.364533  0.527205  2.825723        0   \n2         3  -0.133706   0.263927      0.951761  0.994872  0.853023        0   \n3         3  -0.238482   0.592595      0.241380  0.002717 -0.190761        0   \n4         3   0.138075   0.681182     -0.364533  0.605621  1.187742        0   \n\n   Bump  Crossing  Give_Way  ...  Stop  Traffic_Calming  Traffic_Signal  \\\n0     0         0         0  ...     0                0               1   \n1     0         0         0  ...     0                0               0   \n2     0         0         0  ...     0                0               0   \n3     0         0         0  ...     0                0               0   \n4     0         0         0  ...     0                0               0   \n\n   Turning_Loop  Sunrise_Sunset  Civil_Twilight  Nautical_Twilight  \\\n0             0               1               0                  0   \n1             0               0               0                  0   \n2             0               0               0                  0   \n3             0               0               0                  0   \n4             0               0               0                  0   \n\n   Astronomical_Twilight  TimeTaken  tempClusters  \n0                      0  -0.550692      2.250169  \n1                      0  -0.549675      2.419803  \n2                      0  -0.208382      2.435781  \n3                      0  -0.207111      2.421683  \n4                      0  -0.549675      2.406568  \n\n[5 rows x 25 columns]",
      "text/html": "<div>\n<style scoped>\n    .dataframe tbody tr th:only-of-type {\n        vertical-align: middle;\n    }\n\n    .dataframe tbody tr th {\n        vertical-align: top;\n    }\n\n    .dataframe thead th {\n        text-align: right;\n    }\n</style>\n<table border=\"1\" class=\"dataframe\">\n  <thead>\n    <tr style=\"text-align: right;\">\n      <th></th>\n      <th>Severity</th>\n      <th>Start_Lat</th>\n      <th>Start_Lng</th>\n      <th>Distance(mi)</th>\n      <th>Street</th>\n      <th>Zipcode</th>\n      <th>Amenity</th>\n      <th>Bump</th>\n      <th>Crossing</th>\n      <th>Give_Way</th>\n      <th>...</th>\n      <th>Stop</th>\n      <th>Traffic_Calming</th>\n      <th>Traffic_Signal</th>\n      <th>Turning_Loop</th>\n      <th>Sunrise_Sunset</th>\n      <th>Civil_Twilight</th>\n      <th>Nautical_Twilight</th>\n      <th>Astronomical_Twilight</th>\n      <th>TimeTaken</th>\n      <th>tempClusters</th>\n    </tr>\n  </thead>\n  <tbody>\n    <tr>\n      <th>0</th>\n      <td>2</td>\n      <td>-0.477042</td>\n      <td>0.206319</td>\n      <td>-0.364533</td>\n      <td>-0.004402</td>\n      <td>0.673132</td>\n      <td>0</td>\n      <td>0</td>\n      <td>0</td>\n      <td>0</td>\n      <td>...</td>\n      <td>0</td>\n      <td>0</td>\n      <td>1</td>\n      <td>0</td>\n      <td>1</td>\n      <td>0</td>\n      <td>0</td>\n      <td>0</td>\n      <td>-0.550692</td>\n      <td>2.250169</td>\n    </tr>\n    <tr>\n      <th>1</th>\n      <td>3</td>\n      <td>-0.113118</td>\n      <td>0.256402</td>\n      <td>-0.364533</td>\n      <td>0.527205</td>\n      <td>2.825723</td>\n      <td>0</td>\n      <td>0</td>\n      <td>0</td>\n      <td>0</td>\n      <td>...</td>\n      <td>0</td>\n      <td>0</td>\n      <td>0</td>\n      <td>0</td>\n      <td>0</td>\n      <td>0</td>\n      <td>0</td>\n      <td>0</td>\n      <td>-0.549675</td>\n      <td>2.419803</td>\n    </tr>\n    <tr>\n      <th>2</th>\n      <td>3</td>\n      <td>-0.133706</td>\n      <td>0.263927</td>\n      <td>0.951761</td>\n      <td>0.994872</td>\n      <td>0.853023</td>\n      <td>0</td>\n      <td>0</td>\n      <td>0</td>\n      <td>0</td>\n      <td>...</td>\n      <td>0</td>\n      <td>0</td>\n      <td>0</td>\n      <td>0</td>\n      <td>0</td>\n      <td>0</td>\n      <td>0</td>\n      <td>0</td>\n      <td>-0.208382</td>\n      <td>2.435781</td>\n    </tr>\n    <tr>\n      <th>3</th>\n      <td>3</td>\n      <td>-0.238482</td>\n      <td>0.592595</td>\n      <td>0.241380</td>\n      <td>0.002717</td>\n      <td>-0.190761</td>\n      <td>0</td>\n      <td>0</td>\n      <td>0</td>\n      <td>0</td>\n      <td>...</td>\n      <td>0</td>\n      <td>0</td>\n      <td>0</td>\n      <td>0</td>\n      <td>0</td>\n      <td>0</td>\n      <td>0</td>\n      <td>0</td>\n      <td>-0.207111</td>\n      <td>2.421683</td>\n    </tr>\n    <tr>\n      <th>4</th>\n      <td>3</td>\n      <td>0.138075</td>\n      <td>0.681182</td>\n      <td>-0.364533</td>\n      <td>0.605621</td>\n      <td>1.187742</td>\n      <td>0</td>\n      <td>0</td>\n      <td>0</td>\n      <td>0</td>\n      <td>...</td>\n      <td>0</td>\n      <td>0</td>\n      <td>0</td>\n      <td>0</td>\n      <td>0</td>\n      <td>0</td>\n      <td>0</td>\n      <td>0</td>\n      <td>-0.549675</td>\n      <td>2.406568</td>\n    </tr>\n  </tbody>\n</table>\n<p>5 rows × 25 columns</p>\n</div>"
     },
     "execution_count": 9,
     "metadata": {},
     "output_type": "execute_result"
    }
   ],
   "source": [
    "te = TargetEncoder(target_type='continuous')\n",
    "data[['tempClusters']] = te.fit_transform(data[['tempClusters']], data.Severity)\n",
    "data.head()"
   ],
   "metadata": {
    "collapsed": false,
    "ExecuteTime": {
     "end_time": "2023-12-03T05:25:33.973365Z",
     "start_time": "2023-12-03T05:25:33.877198Z"
    }
   },
   "id": "bdfbea8706cd19ab"
  },
  {
   "cell_type": "code",
   "execution_count": 10,
   "outputs": [
    {
     "data": {
      "text/plain": "   Severity  Start_Lat  Start_Lng  Distance(mi)    Street   Zipcode  Amenity  \\\n0         2  -0.477042   0.206319     -0.364533 -0.004402  0.673132        0   \n1         3  -0.113118   0.256402     -0.364533  0.527205  2.825723        0   \n2         3  -0.133706   0.263927      0.951761  0.994872  0.853023        0   \n3         3  -0.238482   0.592595      0.241380  0.002717 -0.190761        0   \n4         3   0.138075   0.681182     -0.364533  0.605621  1.187742        0   \n\n   Bump  Crossing  Give_Way  ...  Stop  Traffic_Calming  Traffic_Signal  \\\n0     0         0         0  ...     0                0               1   \n1     0         0         0  ...     0                0               0   \n2     0         0         0  ...     0                0               0   \n3     0         0         0  ...     0                0               0   \n4     0         0         0  ...     0                0               0   \n\n   Turning_Loop  Sunrise_Sunset  Civil_Twilight  Nautical_Twilight  \\\n0             0               1               0                  0   \n1             0               0               0                  0   \n2             0               0               0                  0   \n3             0               0               0                  0   \n4             0               0               0                  0   \n\n   Astronomical_Twilight  TimeTaken  tempClusters  \n0                      0  -0.550692     -0.011049  \n1                      0  -0.549675      1.473246  \n2                      0  -0.208382      1.613054  \n3                      0  -0.207111      1.489703  \n4                      0  -0.549675      1.357445  \n\n[5 rows x 25 columns]",
      "text/html": "<div>\n<style scoped>\n    .dataframe tbody tr th:only-of-type {\n        vertical-align: middle;\n    }\n\n    .dataframe tbody tr th {\n        vertical-align: top;\n    }\n\n    .dataframe thead th {\n        text-align: right;\n    }\n</style>\n<table border=\"1\" class=\"dataframe\">\n  <thead>\n    <tr style=\"text-align: right;\">\n      <th></th>\n      <th>Severity</th>\n      <th>Start_Lat</th>\n      <th>Start_Lng</th>\n      <th>Distance(mi)</th>\n      <th>Street</th>\n      <th>Zipcode</th>\n      <th>Amenity</th>\n      <th>Bump</th>\n      <th>Crossing</th>\n      <th>Give_Way</th>\n      <th>...</th>\n      <th>Stop</th>\n      <th>Traffic_Calming</th>\n      <th>Traffic_Signal</th>\n      <th>Turning_Loop</th>\n      <th>Sunrise_Sunset</th>\n      <th>Civil_Twilight</th>\n      <th>Nautical_Twilight</th>\n      <th>Astronomical_Twilight</th>\n      <th>TimeTaken</th>\n      <th>tempClusters</th>\n    </tr>\n  </thead>\n  <tbody>\n    <tr>\n      <th>0</th>\n      <td>2</td>\n      <td>-0.477042</td>\n      <td>0.206319</td>\n      <td>-0.364533</td>\n      <td>-0.004402</td>\n      <td>0.673132</td>\n      <td>0</td>\n      <td>0</td>\n      <td>0</td>\n      <td>0</td>\n      <td>...</td>\n      <td>0</td>\n      <td>0</td>\n      <td>1</td>\n      <td>0</td>\n      <td>1</td>\n      <td>0</td>\n      <td>0</td>\n      <td>0</td>\n      <td>-0.550692</td>\n      <td>-0.011049</td>\n    </tr>\n    <tr>\n      <th>1</th>\n      <td>3</td>\n      <td>-0.113118</td>\n      <td>0.256402</td>\n      <td>-0.364533</td>\n      <td>0.527205</td>\n      <td>2.825723</td>\n      <td>0</td>\n      <td>0</td>\n      <td>0</td>\n      <td>0</td>\n      <td>...</td>\n      <td>0</td>\n      <td>0</td>\n      <td>0</td>\n      <td>0</td>\n      <td>0</td>\n      <td>0</td>\n      <td>0</td>\n      <td>0</td>\n      <td>-0.549675</td>\n      <td>1.473246</td>\n    </tr>\n    <tr>\n      <th>2</th>\n      <td>3</td>\n      <td>-0.133706</td>\n      <td>0.263927</td>\n      <td>0.951761</td>\n      <td>0.994872</td>\n      <td>0.853023</td>\n      <td>0</td>\n      <td>0</td>\n      <td>0</td>\n      <td>0</td>\n      <td>...</td>\n      <td>0</td>\n      <td>0</td>\n      <td>0</td>\n      <td>0</td>\n      <td>0</td>\n      <td>0</td>\n      <td>0</td>\n      <td>0</td>\n      <td>-0.208382</td>\n      <td>1.613054</td>\n    </tr>\n    <tr>\n      <th>3</th>\n      <td>3</td>\n      <td>-0.238482</td>\n      <td>0.592595</td>\n      <td>0.241380</td>\n      <td>0.002717</td>\n      <td>-0.190761</td>\n      <td>0</td>\n      <td>0</td>\n      <td>0</td>\n      <td>0</td>\n      <td>...</td>\n      <td>0</td>\n      <td>0</td>\n      <td>0</td>\n      <td>0</td>\n      <td>0</td>\n      <td>0</td>\n      <td>0</td>\n      <td>0</td>\n      <td>-0.207111</td>\n      <td>1.489703</td>\n    </tr>\n    <tr>\n      <th>4</th>\n      <td>3</td>\n      <td>0.138075</td>\n      <td>0.681182</td>\n      <td>-0.364533</td>\n      <td>0.605621</td>\n      <td>1.187742</td>\n      <td>0</td>\n      <td>0</td>\n      <td>0</td>\n      <td>0</td>\n      <td>...</td>\n      <td>0</td>\n      <td>0</td>\n      <td>0</td>\n      <td>0</td>\n      <td>0</td>\n      <td>0</td>\n      <td>0</td>\n      <td>0</td>\n      <td>-0.549675</td>\n      <td>1.357445</td>\n    </tr>\n  </tbody>\n</table>\n<p>5 rows × 25 columns</p>\n</div>"
     },
     "execution_count": 10,
     "metadata": {},
     "output_type": "execute_result"
    }
   ],
   "source": [
    "scaler = StandardScaler()\n",
    "data[['tempClusters']] = scaler.fit_transform(data[['tempClusters']])\n",
    "data.head()"
   ],
   "metadata": {
    "collapsed": false,
    "ExecuteTime": {
     "end_time": "2023-12-03T05:25:38.171376Z",
     "start_time": "2023-12-03T05:25:38.157212Z"
    }
   },
   "id": "558c2953fcbc9287"
  },
  {
   "cell_type": "code",
   "execution_count": 11,
   "outputs": [],
   "source": [
    "link = './accident dataset/new york accident minimeans clustered.csv'\n",
    "data.to_csv(path_or_buf=link, index=False)"
   ],
   "metadata": {
    "collapsed": false,
    "ExecuteTime": {
     "end_time": "2023-12-03T05:25:42.472437Z",
     "start_time": "2023-12-03T05:25:40.062823Z"
    }
   },
   "id": "6e71096a9778ce89"
  },
  {
   "cell_type": "code",
   "execution_count": 11,
   "outputs": [
    {
     "data": {
      "text/plain": "   Severity  Start_Lat  Start_Lng  Distance(mi)    Street   Zipcode  Amenity  \\\n0         2  -0.477042   0.206319     -0.364533 -0.004402  0.673132        0   \n1         3  -0.113118   0.256402     -0.364533  0.527205  2.825723        0   \n2         3  -0.133706   0.263927      0.951761  0.994872  0.853023        0   \n3         3  -0.238482   0.592595      0.241380  0.002717 -0.190761        0   \n4         3   0.138075   0.681182     -0.364533  0.605621  1.187742        0   \n\n   Bump  Crossing  Give_Way  ...  Stop  Traffic_Calming  Traffic_Signal  \\\n0     0         0         0  ...     0                0               1   \n1     0         0         0  ...     0                0               0   \n2     0         0         0  ...     0                0               0   \n3     0         0         0  ...     0                0               0   \n4     0         0         0  ...     0                0               0   \n\n   Turning_Loop  Sunrise_Sunset  Civil_Twilight  Nautical_Twilight  \\\n0             0               1               0                  0   \n1             0               0               0                  0   \n2             0               0               0                  0   \n3             0               0               0                  0   \n4             0               0               0                  0   \n\n   Astronomical_Twilight  TimeTaken  tempClusters  \n0                      0  -0.550692            78  \n1                      0  -0.549675            62  \n2                      0  -0.208382            52  \n3                      0  -0.207111            72  \n4                      0  -0.549675            72  \n\n[5 rows x 25 columns]",
      "text/html": "<div>\n<style scoped>\n    .dataframe tbody tr th:only-of-type {\n        vertical-align: middle;\n    }\n\n    .dataframe tbody tr th {\n        vertical-align: top;\n    }\n\n    .dataframe thead th {\n        text-align: right;\n    }\n</style>\n<table border=\"1\" class=\"dataframe\">\n  <thead>\n    <tr style=\"text-align: right;\">\n      <th></th>\n      <th>Severity</th>\n      <th>Start_Lat</th>\n      <th>Start_Lng</th>\n      <th>Distance(mi)</th>\n      <th>Street</th>\n      <th>Zipcode</th>\n      <th>Amenity</th>\n      <th>Bump</th>\n      <th>Crossing</th>\n      <th>Give_Way</th>\n      <th>...</th>\n      <th>Stop</th>\n      <th>Traffic_Calming</th>\n      <th>Traffic_Signal</th>\n      <th>Turning_Loop</th>\n      <th>Sunrise_Sunset</th>\n      <th>Civil_Twilight</th>\n      <th>Nautical_Twilight</th>\n      <th>Astronomical_Twilight</th>\n      <th>TimeTaken</th>\n      <th>tempClusters</th>\n    </tr>\n  </thead>\n  <tbody>\n    <tr>\n      <th>0</th>\n      <td>2</td>\n      <td>-0.477042</td>\n      <td>0.206319</td>\n      <td>-0.364533</td>\n      <td>-0.004402</td>\n      <td>0.673132</td>\n      <td>0</td>\n      <td>0</td>\n      <td>0</td>\n      <td>0</td>\n      <td>...</td>\n      <td>0</td>\n      <td>0</td>\n      <td>1</td>\n      <td>0</td>\n      <td>1</td>\n      <td>0</td>\n      <td>0</td>\n      <td>0</td>\n      <td>-0.550692</td>\n      <td>78</td>\n    </tr>\n    <tr>\n      <th>1</th>\n      <td>3</td>\n      <td>-0.113118</td>\n      <td>0.256402</td>\n      <td>-0.364533</td>\n      <td>0.527205</td>\n      <td>2.825723</td>\n      <td>0</td>\n      <td>0</td>\n      <td>0</td>\n      <td>0</td>\n      <td>...</td>\n      <td>0</td>\n      <td>0</td>\n      <td>0</td>\n      <td>0</td>\n      <td>0</td>\n      <td>0</td>\n      <td>0</td>\n      <td>0</td>\n      <td>-0.549675</td>\n      <td>62</td>\n    </tr>\n    <tr>\n      <th>2</th>\n      <td>3</td>\n      <td>-0.133706</td>\n      <td>0.263927</td>\n      <td>0.951761</td>\n      <td>0.994872</td>\n      <td>0.853023</td>\n      <td>0</td>\n      <td>0</td>\n      <td>0</td>\n      <td>0</td>\n      <td>...</td>\n      <td>0</td>\n      <td>0</td>\n      <td>0</td>\n      <td>0</td>\n      <td>0</td>\n      <td>0</td>\n      <td>0</td>\n      <td>0</td>\n      <td>-0.208382</td>\n      <td>52</td>\n    </tr>\n    <tr>\n      <th>3</th>\n      <td>3</td>\n      <td>-0.238482</td>\n      <td>0.592595</td>\n      <td>0.241380</td>\n      <td>0.002717</td>\n      <td>-0.190761</td>\n      <td>0</td>\n      <td>0</td>\n      <td>0</td>\n      <td>0</td>\n      <td>...</td>\n      <td>0</td>\n      <td>0</td>\n      <td>0</td>\n      <td>0</td>\n      <td>0</td>\n      <td>0</td>\n      <td>0</td>\n      <td>0</td>\n      <td>-0.207111</td>\n      <td>72</td>\n    </tr>\n    <tr>\n      <th>4</th>\n      <td>3</td>\n      <td>0.138075</td>\n      <td>0.681182</td>\n      <td>-0.364533</td>\n      <td>0.605621</td>\n      <td>1.187742</td>\n      <td>0</td>\n      <td>0</td>\n      <td>0</td>\n      <td>0</td>\n      <td>...</td>\n      <td>0</td>\n      <td>0</td>\n      <td>0</td>\n      <td>0</td>\n      <td>0</td>\n      <td>0</td>\n      <td>0</td>\n      <td>0</td>\n      <td>-0.549675</td>\n      <td>72</td>\n    </tr>\n  </tbody>\n</table>\n<p>5 rows × 25 columns</p>\n</div>"
     },
     "execution_count": 11,
     "metadata": {},
     "output_type": "execute_result"
    }
   ],
   "source": [
    "data.head()"
   ],
   "metadata": {
    "collapsed": false,
    "ExecuteTime": {
     "end_time": "2023-12-03T05:06:06.464964Z",
     "start_time": "2023-12-03T05:06:06.456992Z"
    }
   },
   "id": "a44657d96194e112"
  },
  {
   "cell_type": "code",
   "execution_count": null,
   "outputs": [],
   "source": [],
   "metadata": {
    "collapsed": false
   },
   "id": "e93b60ce4d010aaa"
  }
 ],
 "metadata": {
  "kernelspec": {
   "display_name": "Python 3",
   "language": "python",
   "name": "python3"
  },
  "language_info": {
   "codemirror_mode": {
    "name": "ipython",
    "version": 2
   },
   "file_extension": ".py",
   "mimetype": "text/x-python",
   "name": "python",
   "nbconvert_exporter": "python",
   "pygments_lexer": "ipython2",
   "version": "2.7.6"
  }
 },
 "nbformat": 4,
 "nbformat_minor": 5
}
